{
 "cells": [
  {
   "cell_type": "markdown",
   "id": "d5d78f34",
   "metadata": {},
   "source": [
    "# Nesting of the list"
   ]
  },
  {
   "cell_type": "markdown",
   "id": "1b76620d",
   "metadata": {},
   "source": [
    "list inside a list"
   ]
  },
  {
   "cell_type": "code",
   "execution_count": 1,
   "id": "fd969e29",
   "metadata": {},
   "outputs": [
    {
     "data": {
      "text/plain": [
       "[[1, 2, 3], [11, 22, 33], [45, 56, 77]]"
      ]
     },
     "execution_count": 1,
     "metadata": {},
     "output_type": "execute_result"
    }
   ],
   "source": [
    "A=[[1,2,3],[11,22,33],[45,56,77]]\n",
    "\n",
    "A"
   ]
  },
  {
   "cell_type": "code",
   "execution_count": 2,
   "id": "63296b7c",
   "metadata": {},
   "outputs": [
    {
     "data": {
      "text/plain": [
       "[1, 2, 3]"
      ]
     },
     "execution_count": 2,
     "metadata": {},
     "output_type": "execute_result"
    }
   ],
   "source": [
    "A[0]"
   ]
  },
  {
   "cell_type": "code",
   "execution_count": 3,
   "id": "413213c8",
   "metadata": {},
   "outputs": [
    {
     "data": {
      "text/plain": [
       "[11, 22, 33]"
      ]
     },
     "execution_count": 3,
     "metadata": {},
     "output_type": "execute_result"
    }
   ],
   "source": [
    "A[1]"
   ]
  },
  {
   "cell_type": "code",
   "execution_count": 4,
   "id": "6681353e",
   "metadata": {},
   "outputs": [
    {
     "data": {
      "text/plain": [
       "22"
      ]
     },
     "execution_count": 4,
     "metadata": {},
     "output_type": "execute_result"
    }
   ],
   "source": [
    "A[1][1]"
   ]
  },
  {
   "cell_type": "code",
   "execution_count": 5,
   "id": "d298f80b",
   "metadata": {},
   "outputs": [
    {
     "data": {
      "text/plain": [
       "[1, 2, 3]"
      ]
     },
     "execution_count": 5,
     "metadata": {},
     "output_type": "execute_result"
    }
   ],
   "source": [
    "A=[[1,2,3],[11,22,33,[500,502]],[45,56,77]]\n",
    "\n",
    "A[0]"
   ]
  },
  {
   "cell_type": "code",
   "execution_count": 6,
   "id": "4557c813",
   "metadata": {},
   "outputs": [
    {
     "data": {
      "text/plain": [
       "[11, 22, 33, [500, 502]]"
      ]
     },
     "execution_count": 6,
     "metadata": {},
     "output_type": "execute_result"
    }
   ],
   "source": [
    "A[1]"
   ]
  },
  {
   "cell_type": "code",
   "execution_count": 7,
   "id": "e4540b24",
   "metadata": {},
   "outputs": [
    {
     "data": {
      "text/plain": [
       "[500, 502]"
      ]
     },
     "execution_count": 7,
     "metadata": {},
     "output_type": "execute_result"
    }
   ],
   "source": [
    "A[1][3]"
   ]
  },
  {
   "cell_type": "code",
   "execution_count": 8,
   "id": "a09e9810",
   "metadata": {},
   "outputs": [
    {
     "data": {
      "text/plain": [
       "500"
      ]
     },
     "execution_count": 8,
     "metadata": {},
     "output_type": "execute_result"
    }
   ],
   "source": [
    "A[1][3][0]"
   ]
  },
  {
   "cell_type": "code",
   "execution_count": 10,
   "id": "df7380f9",
   "metadata": {},
   "outputs": [
    {
     "data": {
      "text/plain": [
       "[[1, 2, 3], [11, 22, 33, [500, 502]], [45, [239, 'Hii'], 56, 77]]"
      ]
     },
     "execution_count": 10,
     "metadata": {},
     "output_type": "execute_result"
    }
   ],
   "source": [
    "A=[[1,2,3],[11,22,33,[500,502]],[45,[239,\"Hii\"],56,77]]\n",
    "A\n"
   ]
  },
  {
   "cell_type": "code",
   "execution_count": 11,
   "id": "0a104824",
   "metadata": {},
   "outputs": [
    {
     "data": {
      "text/plain": [
       "[45, [239, 'Hii'], 56, 77]"
      ]
     },
     "execution_count": 11,
     "metadata": {},
     "output_type": "execute_result"
    }
   ],
   "source": [
    "A[2]"
   ]
  },
  {
   "cell_type": "code",
   "execution_count": 12,
   "id": "b3b09b80",
   "metadata": {},
   "outputs": [
    {
     "data": {
      "text/plain": [
       "[239, 'Hii']"
      ]
     },
     "execution_count": 12,
     "metadata": {},
     "output_type": "execute_result"
    }
   ],
   "source": [
    "A[2][1]"
   ]
  },
  {
   "cell_type": "code",
   "execution_count": 13,
   "id": "8254a8d8",
   "metadata": {},
   "outputs": [
    {
     "data": {
      "text/plain": [
       "'Hii'"
      ]
     },
     "execution_count": 13,
     "metadata": {},
     "output_type": "execute_result"
    }
   ],
   "source": [
    "A[2][1][1]"
   ]
  },
  {
   "cell_type": "code",
   "execution_count": 14,
   "id": "4afbdda1",
   "metadata": {},
   "outputs": [
    {
     "data": {
      "text/plain": [
       "[45, [239, 'Hii'], 56, 77]"
      ]
     },
     "execution_count": 14,
     "metadata": {},
     "output_type": "execute_result"
    }
   ],
   "source": [
    "A[-1]"
   ]
  },
  {
   "cell_type": "code",
   "execution_count": 15,
   "id": "2a9b2f2f",
   "metadata": {},
   "outputs": [
    {
     "data": {
      "text/plain": [
       "[239, 'Hii']"
      ]
     },
     "execution_count": 15,
     "metadata": {},
     "output_type": "execute_result"
    }
   ],
   "source": [
    "A[-1][1]"
   ]
  },
  {
   "cell_type": "code",
   "execution_count": 16,
   "id": "edd3f900",
   "metadata": {},
   "outputs": [
    {
     "data": {
      "text/plain": [
       "'Hii'"
      ]
     },
     "execution_count": 16,
     "metadata": {},
     "output_type": "execute_result"
    }
   ],
   "source": [
    "A[-1][1][-1]"
   ]
  },
  {
   "cell_type": "code",
   "execution_count": 17,
   "id": "a386c760",
   "metadata": {},
   "outputs": [
    {
     "data": {
      "text/plain": [
       "'Hii'"
      ]
     },
     "execution_count": 17,
     "metadata": {},
     "output_type": "execute_result"
    }
   ],
   "source": [
    "A[-1][-3][-1]"
   ]
  },
  {
   "cell_type": "code",
   "execution_count": 20,
   "id": "80dbad6e",
   "metadata": {},
   "outputs": [],
   "source": [
    "amazon_cart=[[\"Watch\",5000],[\"phone\",10000],[\"laptop\",50000]]\n",
    "\n",
    "total_cost=0"
   ]
  },
  {
   "cell_type": "code",
   "execution_count": 21,
   "id": "92807a9e",
   "metadata": {},
   "outputs": [
    {
     "data": {
      "text/plain": [
       "5000"
      ]
     },
     "execution_count": 21,
     "metadata": {},
     "output_type": "execute_result"
    }
   ],
   "source": [
    "# without for loop\n",
    "amazon_cart[0][1]\n"
   ]
  },
  {
   "cell_type": "code",
   "execution_count": 22,
   "id": "c1b42c69",
   "metadata": {},
   "outputs": [
    {
     "data": {
      "text/plain": [
       "10000"
      ]
     },
     "execution_count": 22,
     "metadata": {},
     "output_type": "execute_result"
    }
   ],
   "source": [
    "amazon_cart[1][1]"
   ]
  },
  {
   "cell_type": "code",
   "execution_count": 23,
   "id": "dbb18daf",
   "metadata": {},
   "outputs": [
    {
     "data": {
      "text/plain": [
       "50000"
      ]
     },
     "execution_count": 23,
     "metadata": {},
     "output_type": "execute_result"
    }
   ],
   "source": [
    "amazon_cart[2][1]"
   ]
  },
  {
   "cell_type": "code",
   "execution_count": 24,
   "id": "6425ab7c",
   "metadata": {},
   "outputs": [
    {
     "data": {
      "text/plain": [
       "65000"
      ]
     },
     "execution_count": 24,
     "metadata": {},
     "output_type": "execute_result"
    }
   ],
   "source": [
    "amazon_cart[0][1]+amazon_cart[1][1]+amazon_cart[2][1]"
   ]
  },
  {
   "cell_type": "code",
   "execution_count": 33,
   "id": "6933c6e7",
   "metadata": {},
   "outputs": [
    {
     "name": "stdout",
     "output_type": "stream",
     "text": [
      "5000\n",
      "10000\n",
      "50000\n",
      "65000\n"
     ]
    }
   ],
   "source": [
    "amazon_cart=[[\"Watch\",5000],[\"phone\",10000],[\"laptop\",50000]]\n",
    "total_cost=0\n",
    "\n",
    "for i in range (len(amazon_cart)):\n",
    "    #print(i)\n",
    "    print(amazon_cart[i][1])\n",
    "    total_cost=total_cost+amazon_cart[i][1]\n",
    "    \n",
    "print(total_cost)"
   ]
  },
  {
   "cell_type": "code",
   "execution_count": 39,
   "id": "5f55084a",
   "metadata": {},
   "outputs": [
    {
     "name": "stdout",
     "output_type": "stream",
     "text": [
      "empty cart : 0\n",
      "5000\n",
      "cart after adding Watch: 5000\n",
      "10000\n",
      "cart after adding phone: 15000\n",
      "50000\n",
      "cart after adding laptop: 65000\n",
      "Total payable amount : 65000\n"
     ]
    }
   ],
   "source": [
    "amazon_cart=[[\"Watch\",5000],[\"phone\",10000],[\"laptop\",50000]]\n",
    "total_cost=0\n",
    "\n",
    "print(f\"empty cart : {total_cost}\")\n",
    "\n",
    "for item in amazon_cart:\n",
    "    print(item[1])\n",
    "    total_cost=total_cost+item[1]\n",
    "    print(f\"cart after adding {item[0]}: {total_cost}\")\n",
    "    \n",
    "print(f\"Total payable amount : {total_cost}\")"
   ]
  },
  {
   "cell_type": "markdown",
   "id": "a8dc6e9a",
   "metadata": {},
   "source": [
    "# List comprehension"
   ]
  },
  {
   "cell_type": "code",
   "execution_count": null,
   "id": "9136392d",
   "metadata": {},
   "outputs": [],
   "source": [
    " # list which contain list of square of nos between 1 to 20\n",
    "\n",
    "    \n",
    "A=[1,2,3,4,5,6,7,8,9,10]\n",
    "\n",
    "ans=[1,4,9,16,...]\n",
    "    "
   ]
  },
  {
   "cell_type": "code",
   "execution_count": 35,
   "id": "229ac3ff",
   "metadata": {},
   "outputs": [
    {
     "name": "stdout",
     "output_type": "stream",
     "text": [
      "1\n",
      "4\n",
      "9\n",
      "16\n",
      "25\n",
      "36\n",
      "49\n",
      "64\n",
      "81\n",
      "100\n",
      "[1, 4, 9, 16, 25, 36, 49, 64, 81, 100]\n"
     ]
    }
   ],
   "source": [
    "A=[1,2,3,4,5,6,7,8,9,10]\n",
    "\n",
    "ans=list()\n",
    "\n",
    "for ele in A:\n",
    "    print(ele**2)\n",
    "    ans.append(ele**2)\n",
    "    \n",
    "print(ans)"
   ]
  },
  {
   "cell_type": "code",
   "execution_count": 36,
   "id": "8065f89d",
   "metadata": {},
   "outputs": [
    {
     "name": "stdout",
     "output_type": "stream",
     "text": [
      "[1, 4, 9, 16, 25, 36, 49, 64, 81, 100]\n"
     ]
    }
   ],
   "source": [
    "ans=[ele**2 for ele in A] # list comprehension\n",
    "\n",
    "print(ans)"
   ]
  },
  {
   "cell_type": "code",
   "execution_count": 38,
   "id": "a7156363",
   "metadata": {},
   "outputs": [
    {
     "name": "stdout",
     "output_type": "stream",
     "text": [
      "[1, 4, 9, 16, 25, 36, 49, 64, 81, 100]\n"
     ]
    }
   ],
   "source": [
    "ans=[i**2 for i in A]\n",
    "\n",
    "print(ans)"
   ]
  },
  {
   "cell_type": "code",
   "execution_count": 44,
   "id": "55412fd9",
   "metadata": {},
   "outputs": [
    {
     "name": "stdout",
     "output_type": "stream",
     "text": [
      "[]\n",
      "1\n",
      "9\n",
      "25\n",
      "49\n",
      "81\n"
     ]
    },
    {
     "data": {
      "text/plain": [
       "[1, 9, 25, 49, 81]"
      ]
     },
     "execution_count": 44,
     "metadata": {},
     "output_type": "execute_result"
    }
   ],
   "source": [
    "# only take the squqre of odd no in the list A\n",
    "A=[1,2,3,4,5,6,7,8,9,10]\n",
    "\n",
    "# ans=[1,9,25,...]\n",
    "\n",
    "ans=list()\n",
    "print(ans)\n",
    "for ele in A:\n",
    "    if ele%2!=0:\n",
    "        print(ele**2)\n",
    "        ans.append(ele**2)\n",
    "        \n",
    "ans\n"
   ]
  },
  {
   "cell_type": "code",
   "execution_count": 43,
   "id": "52dc71f1",
   "metadata": {},
   "outputs": [
    {
     "name": "stdout",
     "output_type": "stream",
     "text": [
      "[1, 9, 25, 49, 81]\n"
     ]
    }
   ],
   "source": [
    "ans=[ele**2 for ele in A if ele%2!=0] # list comprehension\n",
    "\n",
    "print(ans)"
   ]
  },
  {
   "cell_type": "markdown",
   "id": "b57c682d",
   "metadata": {},
   "source": [
    "# count"
   ]
  },
  {
   "cell_type": "code",
   "execution_count": 47,
   "id": "6b31cb32",
   "metadata": {},
   "outputs": [],
   "source": [
    "A=[1,2,1,3,4,5,6,7,7,7]"
   ]
  },
  {
   "cell_type": "code",
   "execution_count": 48,
   "id": "95763d3f",
   "metadata": {},
   "outputs": [
    {
     "data": {
      "text/plain": [
       "2"
      ]
     },
     "execution_count": 48,
     "metadata": {},
     "output_type": "execute_result"
    }
   ],
   "source": [
    "A.count(1)"
   ]
  },
  {
   "cell_type": "code",
   "execution_count": 49,
   "id": "4eaf2c75",
   "metadata": {},
   "outputs": [
    {
     "data": {
      "text/plain": [
       "3"
      ]
     },
     "execution_count": 49,
     "metadata": {},
     "output_type": "execute_result"
    }
   ],
   "source": [
    "A.count(7)"
   ]
  },
  {
   "cell_type": "code",
   "execution_count": 50,
   "id": "9e7c3649",
   "metadata": {},
   "outputs": [
    {
     "data": {
      "text/plain": [
       "0"
      ]
     },
     "execution_count": 50,
     "metadata": {},
     "output_type": "execute_result"
    }
   ],
   "source": [
    "A.count(7999)"
   ]
  },
  {
   "cell_type": "code",
   "execution_count": 58,
   "id": "6d7b611c",
   "metadata": {},
   "outputs": [
    {
     "name": "stdout",
     "output_type": "stream",
     "text": [
      "1 2\n",
      "2 1\n",
      "1 2\n",
      "3 1\n",
      "4 1\n",
      "5 1\n",
      "6 1\n",
      "7 3\n",
      "7 3\n",
      "7 3\n"
     ]
    }
   ],
   "source": [
    "A=[1,2,1,3,4,5,6,7,7,7]\n",
    "\n",
    "for i in A:\n",
    "    print(i,A.count(i))"
   ]
  },
  {
   "cell_type": "code",
   "execution_count": 53,
   "id": "3c18d217",
   "metadata": {},
   "outputs": [
    {
     "data": {
      "text/plain": [
       "2"
      ]
     },
     "execution_count": 53,
     "metadata": {},
     "output_type": "execute_result"
    }
   ],
   "source": [
    "A=[1,2,1,3,4,5,6,[7,7],[7,7]]\n",
    "\n",
    "A.count([7,7])"
   ]
  },
  {
   "cell_type": "code",
   "execution_count": 54,
   "id": "41560a55",
   "metadata": {},
   "outputs": [
    {
     "data": {
      "text/plain": [
       "0"
      ]
     },
     "execution_count": 54,
     "metadata": {},
     "output_type": "execute_result"
    }
   ],
   "source": [
    "A.count(7)"
   ]
  },
  {
   "cell_type": "code",
   "execution_count": 55,
   "id": "5c30400c",
   "metadata": {},
   "outputs": [
    {
     "data": {
      "text/plain": [
       "2"
      ]
     },
     "execution_count": 55,
     "metadata": {},
     "output_type": "execute_result"
    }
   ],
   "source": [
    "A[-1].count(7)"
   ]
  },
  {
   "cell_type": "code",
   "execution_count": 60,
   "id": "735d87c3",
   "metadata": {},
   "outputs": [
    {
     "name": "stdout",
     "output_type": "stream",
     "text": [
      "S 1\n",
      "u 1\n",
      "n 2\n",
      "n 2\n",
      "y 1\n"
     ]
    }
   ],
   "source": [
    "A=\"Sunny\"\n",
    "\n",
    "for i in A:\n",
    "    print(i,A.count(i))"
   ]
  },
  {
   "cell_type": "code",
   "execution_count": 61,
   "id": "6af127a9",
   "metadata": {},
   "outputs": [
    {
     "name": "stdout",
     "output_type": "stream",
     "text": [
      "Sunny 2\n",
      "Sunny 2\n",
      "Chandra 1\n"
     ]
    }
   ],
   "source": [
    "A=[\"Sunny\",\"Sunny\",\"Chandra\"]\n",
    "\n",
    "for i in A:\n",
    "    print(i,A.count(i))"
   ]
  },
  {
   "cell_type": "code",
   "execution_count": 62,
   "id": "1825be2a",
   "metadata": {},
   "outputs": [
    {
     "name": "stdout",
     "output_type": "stream",
     "text": [
      "Sunny 1\n",
      "SUNNY 1\n",
      "Chandra 1\n"
     ]
    }
   ],
   "source": [
    "A=[\"Sunny\",\"SUNNY\",\"Chandra\"]\n",
    "\n",
    "for i in A:\n",
    "    print(i,A.count(i))"
   ]
  },
  {
   "cell_type": "markdown",
   "id": "89d44df3",
   "metadata": {},
   "source": [
    "# Extend Method"
   ]
  },
  {
   "cell_type": "code",
   "execution_count": 67,
   "id": "d371b8e1",
   "metadata": {},
   "outputs": [
    {
     "name": "stdout",
     "output_type": "stream",
     "text": [
      "[1, 2, 3, 11, 22, 33]\n",
      "before assignment\n",
      "[1, 2, 3]\n",
      "after assignment\n",
      "[1, 2, 3, 11, 22, 33]\n"
     ]
    }
   ],
   "source": [
    "A=[1,2,3]\n",
    "\n",
    "B=[11,22,33]\n",
    "\n",
    "print(A+B)\n",
    "print(\"before assignment\")\n",
    "print(A)\n",
    "\n",
    "A=A+B\n",
    "print(\"after assignment\")\n",
    "print(A)"
   ]
  },
  {
   "cell_type": "code",
   "execution_count": 64,
   "id": "b9c21a98",
   "metadata": {},
   "outputs": [
    {
     "data": {
      "text/plain": [
       "[1, 2, 3, 11, 22, 33]"
      ]
     },
     "execution_count": 64,
     "metadata": {},
     "output_type": "execute_result"
    }
   ],
   "source": [
    "A=[1,2,3]\n",
    "\n",
    "B=[11,22,33]\n",
    "\n",
    "A.extend(B) # permanent operation, inplace assignment\n",
    "\n",
    "A"
   ]
  },
  {
   "cell_type": "code",
   "execution_count": 65,
   "id": "8e30991b",
   "metadata": {},
   "outputs": [
    {
     "data": {
      "text/plain": [
       "[1, 2, 3, [11, 22, 33]]"
      ]
     },
     "execution_count": 65,
     "metadata": {},
     "output_type": "execute_result"
    }
   ],
   "source": [
    "A=[1,2,3]\n",
    "\n",
    "B=[11,22,33]\n",
    "\n",
    "A.append(B) # permanent operation, inplace assignment\n",
    "\n",
    "A"
   ]
  },
  {
   "cell_type": "markdown",
   "id": "8417f931",
   "metadata": {},
   "source": [
    "## index method"
   ]
  },
  {
   "cell_type": "code",
   "execution_count": 74,
   "id": "fc453d95",
   "metadata": {},
   "outputs": [],
   "source": [
    "A=[11,3,4,56+2j,\"Sunny\",1+2j]"
   ]
  },
  {
   "cell_type": "code",
   "execution_count": 75,
   "id": "1fc358d4",
   "metadata": {},
   "outputs": [
    {
     "data": {
      "text/plain": [
       "0"
      ]
     },
     "execution_count": 75,
     "metadata": {},
     "output_type": "execute_result"
    }
   ],
   "source": [
    "A.index(11)"
   ]
  },
  {
   "cell_type": "code",
   "execution_count": 76,
   "id": "e292102c",
   "metadata": {},
   "outputs": [
    {
     "data": {
      "text/plain": [
       "4"
      ]
     },
     "execution_count": 76,
     "metadata": {},
     "output_type": "execute_result"
    }
   ],
   "source": [
    "A.index(\"Sunny\")"
   ]
  },
  {
   "cell_type": "code",
   "execution_count": 77,
   "id": "7011aad0",
   "metadata": {},
   "outputs": [
    {
     "data": {
      "text/plain": [
       "5"
      ]
     },
     "execution_count": 77,
     "metadata": {},
     "output_type": "execute_result"
    }
   ],
   "source": [
    "A.index(1+2j)"
   ]
  },
  {
   "cell_type": "code",
   "execution_count": 80,
   "id": "1dc52c09",
   "metadata": {},
   "outputs": [
    {
     "name": "stdout",
     "output_type": "stream",
     "text": [
      "Element: 11 | Type: <class 'int'> | Index: 0\n",
      "Element: 3 | Type: <class 'int'> | Index: 1\n",
      "Element: 4 | Type: <class 'int'> | Index: 2\n",
      "Element: (56+2j) | Type: <class 'complex'> | Index: 3\n",
      "Element: (56+2j) | Type: <class 'complex'> | Index: 3\n",
      "Element: Sunny | Type: <class 'str'> | Index: 4\n",
      "Element: (1+2j) | Type: <class 'complex'> | Index: 5\n",
      "Element: (1+2j) | Type: <class 'complex'> | Index: 5\n"
     ]
    }
   ],
   "source": [
    "# print the index of all the complex numbers\n",
    "# do a for loop\n",
    "# if condition for type check\n",
    "# if type is complex then print the index\n",
    "\n",
    "for ele in A:\n",
    "    print(f\"Element: {ele} | Type: {type(ele)} | Index: {A.index(ele)}\")\n",
    "    if type(ele)==complex:\n",
    "           print(f\"Element: {ele} | Type: {type(ele)} | Index: {A.index(ele)}\")\n",
    "    \n",
    "   "
   ]
  },
  {
   "cell_type": "code",
   "execution_count": 81,
   "id": "1a7f0fb4",
   "metadata": {},
   "outputs": [
    {
     "name": "stdout",
     "output_type": "stream",
     "text": [
      "Element: 11 | Type: <class 'int'> | Index: 0\n",
      "Element: 3 | Type: <class 'int'> | Index: 1\n",
      "Element: 4 | Type: <class 'int'> | Index: 2\n"
     ]
    }
   ],
   "source": [
    "for ele in A:\n",
    "    if type(ele)==int:\n",
    "           print(f\"Element: {ele} | Type: {type(ele)} | Index: {A.index(ele)}\")\n",
    "    "
   ]
  },
  {
   "cell_type": "code",
   "execution_count": 82,
   "id": "96368d74",
   "metadata": {},
   "outputs": [
    {
     "name": "stdout",
     "output_type": "stream",
     "text": [
      "Element: Sunny | Type: <class 'str'> | Index: 4\n"
     ]
    }
   ],
   "source": [
    "for ele in A:\n",
    "    if type(ele)==str:\n",
    "           print(f\"Element: {ele} | Type: {type(ele)} | Index: {A.index(ele)}\")"
   ]
  },
  {
   "cell_type": "markdown",
   "id": "c7680a51",
   "metadata": {},
   "source": [
    "# isinstance"
   ]
  },
  {
   "cell_type": "code",
   "execution_count": 83,
   "id": "9ce9bc24",
   "metadata": {},
   "outputs": [
    {
     "name": "stdout",
     "output_type": "stream",
     "text": [
      "Element: (56+2j) | Type: <class 'complex'> | Index: 3\n",
      "Element: (1+2j) | Type: <class 'complex'> | Index: 5\n"
     ]
    }
   ],
   "source": [
    "for ele in A:\n",
    "    #if type(ele)==int:\n",
    "    if isinstance(ele,complex):\n",
    "           print(f\"Element: {ele} | Type: {type(ele)} | Index: {A.index(ele)}\")"
   ]
  },
  {
   "cell_type": "code",
   "execution_count": 89,
   "id": "3b92bd2d",
   "metadata": {},
   "outputs": [
    {
     "data": {
      "text/plain": [
       "[(56+2j), (1+2j)]"
      ]
     },
     "execution_count": 89,
     "metadata": {},
     "output_type": "execute_result"
    }
   ],
   "source": [
    "ans=[ele for ele in A if isinstance(ele,complex)]\n",
    "ans"
   ]
  },
  {
   "cell_type": "code",
   "execution_count": 90,
   "id": "6e3c0127",
   "metadata": {},
   "outputs": [
    {
     "data": {
      "text/plain": [
       "[(56+2j), (1+2j)]"
      ]
     },
     "execution_count": 90,
     "metadata": {},
     "output_type": "execute_result"
    }
   ],
   "source": [
    "ans=[ele for ele in A if type(ele)==complex]\n",
    "ans"
   ]
  },
  {
   "cell_type": "code",
   "execution_count": 84,
   "id": "f7b5dc0e",
   "metadata": {},
   "outputs": [
    {
     "name": "stdout",
     "output_type": "stream",
     "text": [
      "Element: 11 | Type: <class 'int'> | Index: 0\n",
      "Element: 3 | Type: <class 'int'> | Index: 1\n",
      "Element: 4 | Type: <class 'int'> | Index: 2\n"
     ]
    }
   ],
   "source": [
    "for ele in A:\n",
    "    #if type(ele)==int:\n",
    "    if isinstance(ele,int):    \n",
    "           print(f\"Element: {ele} | Type: {type(ele)} | Index: {A.index(ele)}\")"
   ]
  },
  {
   "cell_type": "code",
   "execution_count": 85,
   "id": "fdd25a78",
   "metadata": {},
   "outputs": [
    {
     "name": "stdout",
     "output_type": "stream",
     "text": [
      "Element: Sunny | Type: <class 'str'> | Index: 4\n"
     ]
    }
   ],
   "source": [
    "for ele in A:\n",
    "    #if type(ele)==str:\n",
    "     if isinstance(ele,str): \n",
    "           print(f\"Element: {ele} | Type: {type(ele)} | Index: {A.index(ele)}\")"
   ]
  },
  {
   "cell_type": "code",
   "execution_count": 86,
   "id": "46a88cd3",
   "metadata": {},
   "outputs": [
    {
     "name": "stdout",
     "output_type": "stream",
     "text": [
      "Element: 11 | Type: <class 'int'> | Index: 0\n",
      "Element: 3 | Type: <class 'int'> | Index: 1\n",
      "Element: 4 | Type: <class 'int'> | Index: 2\n",
      "Element: (56+2j) | Type: <class 'complex'> | Index: 3\n",
      "Element: (1+2j) | Type: <class 'complex'> | Index: 5\n"
     ]
    }
   ],
   "source": [
    "# print the index all the complex or int also\n",
    "for ele in A:\n",
    "   \n",
    "    if isinstance(ele,complex) or isinstance(ele,int):\n",
    "           print(f\"Element: {ele} | Type: {type(ele)} | Index: {A.index(ele)}\")\n"
   ]
  },
  {
   "cell_type": "code",
   "execution_count": 87,
   "id": "77b4b882",
   "metadata": {},
   "outputs": [
    {
     "name": "stdout",
     "output_type": "stream",
     "text": [
      "Element: 11 | Type: <class 'int'> | Index: 0\n",
      "Element: 3 | Type: <class 'int'> | Index: 1\n",
      "Element: 4 | Type: <class 'int'> | Index: 2\n",
      "Element: (56+2j) | Type: <class 'complex'> | Index: 3\n",
      "Element: (1+2j) | Type: <class 'complex'> | Index: 5\n"
     ]
    }
   ],
   "source": [
    "# print the index all the complex or  int also\n",
    "for ele in A:\n",
    "   \n",
    "    if isinstance(ele,(complex,int)):  # pythonic way  # pythonic case\n",
    "           print(f\"Element: {ele} | Type: {type(ele)} | Index: {A.index(ele)}\")"
   ]
  },
  {
   "cell_type": "code",
   "execution_count": 91,
   "id": "935af65e",
   "metadata": {},
   "outputs": [
    {
     "data": {
      "text/plain": [
       "1"
      ]
     },
     "execution_count": 91,
     "metadata": {},
     "output_type": "execute_result"
    }
   ],
   "source": [
    "A=[11,3,4,56+2j,\"Sunny\",1+2j,3,3] # duplicate elements\n",
    "\n",
    "A.index(3)"
   ]
  },
  {
   "cell_type": "code",
   "execution_count": 92,
   "id": "2775e288",
   "metadata": {},
   "outputs": [
    {
     "data": {
      "text/plain": [
       "2"
      ]
     },
     "execution_count": 92,
     "metadata": {},
     "output_type": "execute_result"
    }
   ],
   "source": [
    "A=[11,\"xyz\",3,4,56+2j,\"Sunny\",1+2j,3,3] # duplicate elements\n",
    "\n",
    "A.index(3)"
   ]
  },
  {
   "cell_type": "code",
   "execution_count": 95,
   "id": "8cea0c9c",
   "metadata": {},
   "outputs": [
    {
     "ename": "ValueError",
     "evalue": "4444444 is not in list",
     "output_type": "error",
     "traceback": [
      "\u001b[1;31m---------------------------------------------------------------------------\u001b[0m",
      "\u001b[1;31mValueError\u001b[0m                                Traceback (most recent call last)",
      "Input \u001b[1;32mIn [95]\u001b[0m, in \u001b[0;36m<cell line: 3>\u001b[1;34m()\u001b[0m\n\u001b[0;32m      1\u001b[0m A\u001b[38;5;241m=\u001b[39m[\u001b[38;5;241m11\u001b[39m,\u001b[38;5;124m\"\u001b[39m\u001b[38;5;124mxyz\u001b[39m\u001b[38;5;124m\"\u001b[39m,\u001b[38;5;241m3\u001b[39m,\u001b[38;5;241m4\u001b[39m,\u001b[38;5;241m56\u001b[39m\u001b[38;5;241m+\u001b[39m\u001b[38;5;241m2\u001b[39mj,\u001b[38;5;124m\"\u001b[39m\u001b[38;5;124mSunny\u001b[39m\u001b[38;5;124m\"\u001b[39m,\u001b[38;5;241m1\u001b[39m\u001b[38;5;241m+\u001b[39m\u001b[38;5;241m2\u001b[39mj,\u001b[38;5;241m3\u001b[39m,\u001b[38;5;241m3\u001b[39m] \u001b[38;5;66;03m# duplicate elements\u001b[39;00m\n\u001b[1;32m----> 3\u001b[0m \u001b[43mA\u001b[49m\u001b[38;5;241;43m.\u001b[39;49m\u001b[43mindex\u001b[49m\u001b[43m(\u001b[49m\u001b[38;5;241;43m4444444\u001b[39;49m\u001b[43m)\u001b[49m\n",
      "\u001b[1;31mValueError\u001b[0m: 4444444 is not in list"
     ]
    }
   ],
   "source": [
    "A=[11,\"xyz\",3,4,56+2j,\"Sunny\",1+2j,3,3] # duplicate elements\n",
    "\n",
    "A.index(4444444)"
   ]
  },
  {
   "cell_type": "code",
   "execution_count": 93,
   "id": "b96dccfe",
   "metadata": {},
   "outputs": [
    {
     "ename": "ValueError",
     "evalue": "4 is not in list",
     "output_type": "error",
     "traceback": [
      "\u001b[1;31m---------------------------------------------------------------------------\u001b[0m",
      "\u001b[1;31mValueError\u001b[0m                                Traceback (most recent call last)",
      "Input \u001b[1;32mIn [93]\u001b[0m, in \u001b[0;36m<cell line: 3>\u001b[1;34m()\u001b[0m\n\u001b[0;32m      1\u001b[0m A\u001b[38;5;241m=\u001b[39m[\u001b[38;5;241m1\u001b[39m,\u001b[38;5;241m2\u001b[39m,\u001b[38;5;241m3\u001b[39m,[\u001b[38;5;241m4\u001b[39m,\u001b[38;5;241m5\u001b[39m,\u001b[38;5;241m6\u001b[39m],\u001b[38;5;241m7\u001b[39m,\u001b[38;5;241m8\u001b[39m,\u001b[38;5;241m9\u001b[39m]\n\u001b[1;32m----> 3\u001b[0m \u001b[43mA\u001b[49m\u001b[38;5;241;43m.\u001b[39;49m\u001b[43mindex\u001b[49m\u001b[43m(\u001b[49m\u001b[38;5;241;43m4\u001b[39;49m\u001b[43m)\u001b[49m\n",
      "\u001b[1;31mValueError\u001b[0m: 4 is not in list"
     ]
    }
   ],
   "source": [
    "A=[1,2,3,[4,5,6],7,8,9]\n",
    "\n",
    "A.index(4)"
   ]
  },
  {
   "cell_type": "code",
   "execution_count": 96,
   "id": "18f1f77c",
   "metadata": {},
   "outputs": [
    {
     "data": {
      "text/plain": [
       "3"
      ]
     },
     "execution_count": 96,
     "metadata": {},
     "output_type": "execute_result"
    }
   ],
   "source": [
    "A=[1,2,3,[4,5,6],7,8,9]\n",
    "\n",
    "A.index([4,5,6])"
   ]
  },
  {
   "cell_type": "code",
   "execution_count": 94,
   "id": "5d7e7f7a",
   "metadata": {},
   "outputs": [
    {
     "data": {
      "text/plain": [
       "0"
      ]
     },
     "execution_count": 94,
     "metadata": {},
     "output_type": "execute_result"
    }
   ],
   "source": [
    "A=[1,2,3,[4,5,6],7,8,9]\n",
    "\n",
    "A[3].index(4)"
   ]
  },
  {
   "cell_type": "markdown",
   "id": "e0b092ad",
   "metadata": {},
   "source": [
    "# insert method"
   ]
  },
  {
   "cell_type": "code",
   "execution_count": 97,
   "id": "c805a8c0",
   "metadata": {},
   "outputs": [
    {
     "data": {
      "text/plain": [
       "[1, 2, 3, 4, 5, 99]"
      ]
     },
     "execution_count": 97,
     "metadata": {},
     "output_type": "execute_result"
    }
   ],
   "source": [
    "A=[1,2,3,4,5]\n",
    "\n",
    "A.append(99)\n",
    "A"
   ]
  },
  {
   "cell_type": "code",
   "execution_count": 98,
   "id": "793fddee",
   "metadata": {},
   "outputs": [
    {
     "data": {
      "text/plain": [
       "[1, 2, 'Sunny', 3, 4, 5, 99]"
      ]
     },
     "execution_count": 98,
     "metadata": {},
     "output_type": "execute_result"
    }
   ],
   "source": [
    "A.insert(2,\"Sunny\")\n",
    "\n",
    "A"
   ]
  },
  {
   "cell_type": "code",
   "execution_count": 99,
   "id": "983d9871",
   "metadata": {},
   "outputs": [
    {
     "data": {
      "text/plain": [
       "[1, 2, 'Sunny', 3, 4, 5, 99, 'Sunny']"
      ]
     },
     "execution_count": 99,
     "metadata": {},
     "output_type": "execute_result"
    }
   ],
   "source": [
    "A.insert(2000,\"Sunny\")\n",
    "\n",
    "A"
   ]
  },
  {
   "cell_type": "code",
   "execution_count": 101,
   "id": "c67e0803",
   "metadata": {},
   "outputs": [
    {
     "ename": "IndexError",
     "evalue": "list index out of range",
     "output_type": "error",
     "traceback": [
      "\u001b[1;31m---------------------------------------------------------------------------\u001b[0m",
      "\u001b[1;31mIndexError\u001b[0m                                Traceback (most recent call last)",
      "Input \u001b[1;32mIn [101]\u001b[0m, in \u001b[0;36m<cell line: 1>\u001b[1;34m()\u001b[0m\n\u001b[1;32m----> 1\u001b[0m \u001b[43mA\u001b[49m\u001b[43m[\u001b[49m\u001b[38;5;241;43m2000\u001b[39;49m\u001b[43m]\u001b[49m\n",
      "\u001b[1;31mIndexError\u001b[0m: list index out of range"
     ]
    }
   ],
   "source": [
    "A[2000]"
   ]
  },
  {
   "cell_type": "code",
   "execution_count": 100,
   "id": "0d53a059",
   "metadata": {},
   "outputs": [
    {
     "data": {
      "text/plain": [
       "['Sunny', 1, 2, 'Sunny', 3, 4, 5, 99, 'Sunny']"
      ]
     },
     "execution_count": 100,
     "metadata": {},
     "output_type": "execute_result"
    }
   ],
   "source": [
    "A.insert(-2000,\"Sunny\")\n",
    "\n",
    "A"
   ]
  },
  {
   "cell_type": "code",
   "execution_count": 102,
   "id": "aacba168",
   "metadata": {},
   "outputs": [
    {
     "data": {
      "text/plain": [
       "3"
      ]
     },
     "execution_count": 102,
     "metadata": {},
     "output_type": "execute_result"
    }
   ],
   "source": [
    "A=[3,4,5]\n",
    "\n",
    "len(A)"
   ]
  },
  {
   "cell_type": "code",
   "execution_count": 103,
   "id": "5171f65a",
   "metadata": {},
   "outputs": [
    {
     "data": {
      "text/plain": [
       "4"
      ]
     },
     "execution_count": 103,
     "metadata": {},
     "output_type": "execute_result"
    }
   ],
   "source": [
    "A.insert(2,\"Sunny\")\n",
    "\n",
    "len(A)"
   ]
  },
  {
   "cell_type": "code",
   "execution_count": 104,
   "id": "65aa89cc",
   "metadata": {},
   "outputs": [
    {
     "data": {
      "text/plain": [
       "5"
      ]
     },
     "execution_count": 104,
     "metadata": {},
     "output_type": "execute_result"
    }
   ],
   "source": [
    "A.insert(2000,\"Sunny\")\n",
    "\n",
    "len(A)"
   ]
  },
  {
   "cell_type": "code",
   "execution_count": 105,
   "id": "6c05f509",
   "metadata": {},
   "outputs": [
    {
     "ename": "SyntaxError",
     "evalue": "invalid syntax (3646618160.py, line 1)",
     "output_type": "error",
     "traceback": [
      "\u001b[1;36m  Input \u001b[1;32mIn [105]\u001b[1;36m\u001b[0m\n\u001b[1;33m    A.insert(,\"Sunny\")\u001b[0m\n\u001b[1;37m             ^\u001b[0m\n\u001b[1;31mSyntaxError\u001b[0m\u001b[1;31m:\u001b[0m invalid syntax\n"
     ]
    }
   ],
   "source": [
    "A.insert(,\"Sunny\")\n",
    "\n",
    "len(A)"
   ]
  },
  {
   "cell_type": "code",
   "execution_count": 106,
   "id": "f18f942d",
   "metadata": {},
   "outputs": [
    {
     "ename": "TypeError",
     "evalue": "insert expected 2 arguments, got 1",
     "output_type": "error",
     "traceback": [
      "\u001b[1;31m---------------------------------------------------------------------------\u001b[0m",
      "\u001b[1;31mTypeError\u001b[0m                                 Traceback (most recent call last)",
      "Input \u001b[1;32mIn [106]\u001b[0m, in \u001b[0;36m<cell line: 1>\u001b[1;34m()\u001b[0m\n\u001b[1;32m----> 1\u001b[0m \u001b[43mA\u001b[49m\u001b[38;5;241;43m.\u001b[39;49m\u001b[43minsert\u001b[49m\u001b[43m(\u001b[49m\u001b[38;5;124;43m\"\u001b[39;49m\u001b[38;5;124;43mSunny\u001b[39;49m\u001b[38;5;124;43m\"\u001b[39;49m\u001b[43m)\u001b[49m\n\u001b[0;32m      3\u001b[0m \u001b[38;5;28mlen\u001b[39m(A)\n",
      "\u001b[1;31mTypeError\u001b[0m: insert expected 2 arguments, got 1"
     ]
    }
   ],
   "source": [
    "A.insert(\"Sunny\")\n",
    "\n",
    "len(A)"
   ]
  },
  {
   "cell_type": "code",
   "execution_count": 107,
   "id": "38103db4",
   "metadata": {},
   "outputs": [
    {
     "data": {
      "text/plain": [
       "[3, 4, 'Sunny', 5, 'Sunny']"
      ]
     },
     "execution_count": 107,
     "metadata": {},
     "output_type": "execute_result"
    }
   ],
   "source": [
    "A"
   ]
  },
  {
   "cell_type": "code",
   "execution_count": 108,
   "id": "921ec399",
   "metadata": {},
   "outputs": [
    {
     "data": {
      "text/plain": [
       "[3, 4, [1, 2, 34], 'Sunny', 5, 'Sunny']"
      ]
     },
     "execution_count": 108,
     "metadata": {},
     "output_type": "execute_result"
    }
   ],
   "source": [
    "A.insert(2,[1,2,34])\n",
    "\n",
    "A"
   ]
  },
  {
   "cell_type": "markdown",
   "id": "a5a5db80",
   "metadata": {},
   "source": [
    "# remove"
   ]
  },
  {
   "cell_type": "code",
   "execution_count": 109,
   "id": "7a31b9ae",
   "metadata": {},
   "outputs": [
    {
     "data": {
      "text/plain": [
       "[1, 2, 3, 6, 77]"
      ]
     },
     "execution_count": 109,
     "metadata": {},
     "output_type": "execute_result"
    }
   ],
   "source": [
    "A=[1,2,3,455,6,77]\n",
    "\n",
    "A.remove(455)\n",
    "\n",
    "A"
   ]
  },
  {
   "cell_type": "code",
   "execution_count": 110,
   "id": "71defc9b",
   "metadata": {},
   "outputs": [
    {
     "data": {
      "text/plain": [
       "[1, 2, 3, 455, 6]"
      ]
     },
     "execution_count": 110,
     "metadata": {},
     "output_type": "execute_result"
    }
   ],
   "source": [
    "A=[1,2,3,455,6,77]\n",
    "\n",
    "A.remove(77)\n",
    "\n",
    "A"
   ]
  },
  {
   "cell_type": "code",
   "execution_count": 112,
   "id": "0ec3549a",
   "metadata": {},
   "outputs": [
    {
     "data": {
      "text/plain": [
       "[1, 2, 3, 455, 6, 77]"
      ]
     },
     "execution_count": 112,
     "metadata": {},
     "output_type": "execute_result"
    }
   ],
   "source": [
    "A=[1,1,2,3,455,6,77]\n",
    "\n",
    "A.remove(1)\n",
    "\n",
    "A"
   ]
  },
  {
   "cell_type": "code",
   "execution_count": 113,
   "id": "2f2f072a",
   "metadata": {},
   "outputs": [
    {
     "data": {
      "text/plain": [
       "[1, 1, 2, 3, 455, 88, 6, 77]"
      ]
     },
     "execution_count": 113,
     "metadata": {},
     "output_type": "execute_result"
    }
   ],
   "source": [
    "A=[1,1,2,3,455,6,88,6,77]\n",
    "\n",
    "A.remove(6)\n",
    "\n",
    "A"
   ]
  },
  {
   "cell_type": "code",
   "execution_count": 114,
   "id": "fb3ece70",
   "metadata": {},
   "outputs": [
    {
     "ename": "ValueError",
     "evalue": "list.remove(x): x not in list",
     "output_type": "error",
     "traceback": [
      "\u001b[1;31m---------------------------------------------------------------------------\u001b[0m",
      "\u001b[1;31mValueError\u001b[0m                                Traceback (most recent call last)",
      "Input \u001b[1;32mIn [114]\u001b[0m, in \u001b[0;36m<cell line: 3>\u001b[1;34m()\u001b[0m\n\u001b[0;32m      1\u001b[0m A\u001b[38;5;241m=\u001b[39m[\u001b[38;5;241m1\u001b[39m,\u001b[38;5;241m1\u001b[39m,\u001b[38;5;241m2\u001b[39m,\u001b[38;5;241m3\u001b[39m,\u001b[38;5;241m455\u001b[39m,\u001b[38;5;241m6\u001b[39m,\u001b[38;5;241m88\u001b[39m,\u001b[38;5;241m6\u001b[39m,\u001b[38;5;241m77\u001b[39m]\n\u001b[1;32m----> 3\u001b[0m \u001b[43mA\u001b[49m\u001b[38;5;241;43m.\u001b[39;49m\u001b[43mremove\u001b[49m\u001b[43m(\u001b[49m\u001b[38;5;241;43m999999\u001b[39;49m\u001b[43m)\u001b[49m\n\u001b[0;32m      5\u001b[0m A\n",
      "\u001b[1;31mValueError\u001b[0m: list.remove(x): x not in list"
     ]
    }
   ],
   "source": [
    "A=[1,1,2,3,455,6,88,6,77]\n",
    "\n",
    "A.remove(999999)\n",
    "\n",
    "A"
   ]
  },
  {
   "cell_type": "code",
   "execution_count": 115,
   "id": "f2c37d52",
   "metadata": {},
   "outputs": [
    {
     "data": {
      "text/plain": [
       "77"
      ]
     },
     "execution_count": 115,
     "metadata": {},
     "output_type": "execute_result"
    }
   ],
   "source": [
    "A.pop(-1)"
   ]
  },
  {
   "cell_type": "code",
   "execution_count": 116,
   "id": "3b561d51",
   "metadata": {},
   "outputs": [
    {
     "data": {
      "text/plain": [
       "6"
      ]
     },
     "execution_count": 116,
     "metadata": {},
     "output_type": "execute_result"
    }
   ],
   "source": [
    "A.pop() # this removes the last element"
   ]
  },
  {
   "cell_type": "markdown",
   "id": "f5815420",
   "metadata": {},
   "source": [
    "# TUPLES"
   ]
  },
  {
   "cell_type": "code",
   "execution_count": null,
   "id": "3cc251cf",
   "metadata": {},
   "outputs": [],
   "source": [
    "# TUPLES-()- immutable\n",
    "# list=[]-mutable"
   ]
  },
  {
   "cell_type": "code",
   "execution_count": 117,
   "id": "200bbcdf",
   "metadata": {},
   "outputs": [],
   "source": [
    "A=(1,2,3)"
   ]
  },
  {
   "cell_type": "code",
   "execution_count": 118,
   "id": "cf9c944e",
   "metadata": {},
   "outputs": [
    {
     "data": {
      "text/plain": [
       "tuple"
      ]
     },
     "execution_count": 118,
     "metadata": {},
     "output_type": "execute_result"
    }
   ],
   "source": [
    "type(A)"
   ]
  },
  {
   "cell_type": "code",
   "execution_count": 119,
   "id": "342550a8",
   "metadata": {},
   "outputs": [
    {
     "data": {
      "text/plain": [
       "1"
      ]
     },
     "execution_count": 119,
     "metadata": {},
     "output_type": "execute_result"
    }
   ],
   "source": [
    "A[0]"
   ]
  },
  {
   "cell_type": "code",
   "execution_count": 120,
   "id": "250893ec",
   "metadata": {},
   "outputs": [
    {
     "data": {
      "text/plain": [
       "3"
      ]
     },
     "execution_count": 120,
     "metadata": {},
     "output_type": "execute_result"
    }
   ],
   "source": [
    "A[-1]"
   ]
  },
  {
   "cell_type": "code",
   "execution_count": 121,
   "id": "8cf76eb9",
   "metadata": {},
   "outputs": [
    {
     "ename": "TypeError",
     "evalue": "'tuple' object does not support item assignment",
     "output_type": "error",
     "traceback": [
      "\u001b[1;31m---------------------------------------------------------------------------\u001b[0m",
      "\u001b[1;31mTypeError\u001b[0m                                 Traceback (most recent call last)",
      "Input \u001b[1;32mIn [121]\u001b[0m, in \u001b[0;36m<cell line: 1>\u001b[1;34m()\u001b[0m\n\u001b[1;32m----> 1\u001b[0m A[\u001b[38;5;241m0\u001b[39m]\u001b[38;5;241m=\u001b[39m\u001b[38;5;241m22\u001b[39m\n",
      "\u001b[1;31mTypeError\u001b[0m: 'tuple' object does not support item assignment"
     ]
    }
   ],
   "source": [
    "A[0]=22"
   ]
  },
  {
   "cell_type": "code",
   "execution_count": 122,
   "id": "b322dbe2",
   "metadata": {},
   "outputs": [],
   "source": [
    "A=(22,12,34,1)"
   ]
  },
  {
   "cell_type": "code",
   "execution_count": 123,
   "id": "04aab72b",
   "metadata": {},
   "outputs": [
    {
     "ename": "AttributeError",
     "evalue": "'tuple' object has no attribute 'sort'",
     "output_type": "error",
     "traceback": [
      "\u001b[1;31m---------------------------------------------------------------------------\u001b[0m",
      "\u001b[1;31mAttributeError\u001b[0m                            Traceback (most recent call last)",
      "Input \u001b[1;32mIn [123]\u001b[0m, in \u001b[0;36m<cell line: 1>\u001b[1;34m()\u001b[0m\n\u001b[1;32m----> 1\u001b[0m \u001b[43mA\u001b[49m\u001b[38;5;241;43m.\u001b[39;49m\u001b[43msort\u001b[49m()\n\u001b[0;32m      3\u001b[0m A\n",
      "\u001b[1;31mAttributeError\u001b[0m: 'tuple' object has no attribute 'sort'"
     ]
    }
   ],
   "source": [
    "A.sort()\n",
    "\n",
    "A"
   ]
  },
  {
   "cell_type": "code",
   "execution_count": 124,
   "id": "de810cd3",
   "metadata": {},
   "outputs": [
    {
     "data": {
      "text/plain": [
       "[1, 12, 22, 34]"
      ]
     },
     "execution_count": 124,
     "metadata": {},
     "output_type": "execute_result"
    }
   ],
   "source": [
    "sorted(A)  # convert it into list then return the sorted list"
   ]
  },
  {
   "cell_type": "code",
   "execution_count": 125,
   "id": "f24ca28f",
   "metadata": {},
   "outputs": [
    {
     "data": {
      "text/plain": [
       "[1, 12, 22, 34]"
      ]
     },
     "execution_count": 125,
     "metadata": {},
     "output_type": "execute_result"
    }
   ],
   "source": [
    "A=sorted(A)\n",
    "\n",
    "A"
   ]
  },
  {
   "cell_type": "code",
   "execution_count": 126,
   "id": "baf7fc91",
   "metadata": {},
   "outputs": [
    {
     "data": {
      "text/plain": [
       "4"
      ]
     },
     "execution_count": 126,
     "metadata": {},
     "output_type": "execute_result"
    }
   ],
   "source": [
    "A=(22,12,34,1)\n",
    "\n",
    "len(A)"
   ]
  },
  {
   "cell_type": "code",
   "execution_count": 127,
   "id": "936c6bd3",
   "metadata": {},
   "outputs": [
    {
     "data": {
      "text/plain": [
       "(22, 12, 34, 1, 22, 12, 34, 1)"
      ]
     },
     "execution_count": 127,
     "metadata": {},
     "output_type": "execute_result"
    }
   ],
   "source": [
    "A*2"
   ]
  },
  {
   "cell_type": "code",
   "execution_count": 130,
   "id": "5cd678de",
   "metadata": {},
   "outputs": [],
   "source": [
    "A=A*2"
   ]
  },
  {
   "cell_type": "code",
   "execution_count": 131,
   "id": "51fe32d6",
   "metadata": {},
   "outputs": [
    {
     "data": {
      "text/plain": [
       "(22, 12, 34, 1, 22, 12, 34, 1)"
      ]
     },
     "execution_count": 131,
     "metadata": {},
     "output_type": "execute_result"
    }
   ],
   "source": [
    "A"
   ]
  },
  {
   "cell_type": "code",
   "execution_count": 137,
   "id": "2ac4c67e",
   "metadata": {},
   "outputs": [],
   "source": [
    "A=(22,12,34,1)"
   ]
  },
  {
   "cell_type": "code",
   "execution_count": 129,
   "id": "a7089dc1",
   "metadata": {},
   "outputs": [
    {
     "ename": "TypeError",
     "evalue": "unsupported operand type(s) for ** or pow(): 'tuple' and 'int'",
     "output_type": "error",
     "traceback": [
      "\u001b[1;31m---------------------------------------------------------------------------\u001b[0m",
      "\u001b[1;31mTypeError\u001b[0m                                 Traceback (most recent call last)",
      "Input \u001b[1;32mIn [129]\u001b[0m, in \u001b[0;36m<cell line: 1>\u001b[1;34m()\u001b[0m\n\u001b[1;32m----> 1\u001b[0m \u001b[43mA\u001b[49m\u001b[38;5;241;43m*\u001b[39;49m\u001b[38;5;241;43m*\u001b[39;49m\u001b[38;5;241;43m2\u001b[39;49m\n",
      "\u001b[1;31mTypeError\u001b[0m: unsupported operand type(s) for ** or pow(): 'tuple' and 'int'"
     ]
    }
   ],
   "source": [
    "A**2"
   ]
  },
  {
   "cell_type": "code",
   "execution_count": 138,
   "id": "e32338a9",
   "metadata": {},
   "outputs": [
    {
     "data": {
      "text/plain": [
       "34"
      ]
     },
     "execution_count": 138,
     "metadata": {},
     "output_type": "execute_result"
    }
   ],
   "source": [
    "max(A)"
   ]
  },
  {
   "cell_type": "code",
   "execution_count": 139,
   "id": "1e50e551",
   "metadata": {},
   "outputs": [
    {
     "data": {
      "text/plain": [
       "1"
      ]
     },
     "execution_count": 139,
     "metadata": {},
     "output_type": "execute_result"
    }
   ],
   "source": [
    "min(A)"
   ]
  },
  {
   "cell_type": "code",
   "execution_count": 140,
   "id": "1d0839cd",
   "metadata": {},
   "outputs": [
    {
     "data": {
      "text/plain": [
       "1"
      ]
     },
     "execution_count": 140,
     "metadata": {},
     "output_type": "execute_result"
    }
   ],
   "source": [
    "A.index(12)"
   ]
  },
  {
   "cell_type": "code",
   "execution_count": 141,
   "id": "970011a7",
   "metadata": {},
   "outputs": [
    {
     "data": {
      "text/plain": [
       "1"
      ]
     },
     "execution_count": 141,
     "metadata": {},
     "output_type": "execute_result"
    }
   ],
   "source": [
    "A.count(12)"
   ]
  },
  {
   "cell_type": "code",
   "execution_count": 142,
   "id": "f0ae24cd",
   "metadata": {},
   "outputs": [
    {
     "data": {
      "text/plain": [
       "69"
      ]
     },
     "execution_count": 142,
     "metadata": {},
     "output_type": "execute_result"
    }
   ],
   "source": [
    "sum(A)"
   ]
  },
  {
   "cell_type": "code",
   "execution_count": 143,
   "id": "bd332ffb",
   "metadata": {},
   "outputs": [
    {
     "ename": "AttributeError",
     "evalue": "'tuple' object has no attribute 'reverse'",
     "output_type": "error",
     "traceback": [
      "\u001b[1;31m---------------------------------------------------------------------------\u001b[0m",
      "\u001b[1;31mAttributeError\u001b[0m                            Traceback (most recent call last)",
      "Input \u001b[1;32mIn [143]\u001b[0m, in \u001b[0;36m<cell line: 1>\u001b[1;34m()\u001b[0m\n\u001b[1;32m----> 1\u001b[0m \u001b[43mA\u001b[49m\u001b[38;5;241;43m.\u001b[39;49m\u001b[43mreverse\u001b[49m()\n",
      "\u001b[1;31mAttributeError\u001b[0m: 'tuple' object has no attribute 'reverse'"
     ]
    }
   ],
   "source": [
    "A.reverse()"
   ]
  },
  {
   "cell_type": "code",
   "execution_count": 144,
   "id": "f9b43783",
   "metadata": {},
   "outputs": [
    {
     "data": {
      "text/plain": [
       "(22, 12, 34, 1)"
      ]
     },
     "execution_count": 144,
     "metadata": {},
     "output_type": "execute_result"
    }
   ],
   "source": [
    "A"
   ]
  },
  {
   "cell_type": "code",
   "execution_count": 145,
   "id": "4c8ce005",
   "metadata": {},
   "outputs": [
    {
     "data": {
      "text/plain": [
       "(12, 34, 1)"
      ]
     },
     "execution_count": 145,
     "metadata": {},
     "output_type": "execute_result"
    }
   ],
   "source": [
    "A[1:]"
   ]
  },
  {
   "cell_type": "code",
   "execution_count": 146,
   "id": "d66ac999",
   "metadata": {},
   "outputs": [
    {
     "data": {
      "text/plain": [
       "(1, 34, 12, 22)"
      ]
     },
     "execution_count": 146,
     "metadata": {},
     "output_type": "execute_result"
    }
   ],
   "source": [
    "A[::-1]"
   ]
  },
  {
   "cell_type": "code",
   "execution_count": 149,
   "id": "f368926a",
   "metadata": {},
   "outputs": [],
   "source": [
    "# (\"item_name\",amount)\n",
    "\n",
    "amazon_cart=[(\"Watch\",5000),(\"phone\",10000),(\"laptop\",50000),(\"shirt\",1000)]\n",
    "\n",
    "total_cost=0"
   ]
  },
  {
   "cell_type": "code",
   "execution_count": 150,
   "id": "d0f77be5",
   "metadata": {},
   "outputs": [
    {
     "name": "stdout",
     "output_type": "stream",
     "text": [
      "empty cart : 0\n",
      "5000\n",
      "cart after adding Watch: 5000\n",
      "10000\n",
      "cart after adding phone: 15000\n",
      "50000\n",
      "cart after adding laptop: 65000\n",
      "1000\n",
      "cart after adding shirt: 66000\n",
      "Total payable amount : 66000\n"
     ]
    }
   ],
   "source": [
    "total_cost=0\n",
    "\n",
    "print(f\"empty cart : {total_cost}\")\n",
    "\n",
    "for item in amazon_cart:\n",
    "    print(item[1])\n",
    "    total_cost=total_cost+item[1]\n",
    "    print(f\"cart after adding {item[0]}: {total_cost}\")\n",
    "    \n",
    "print(f\"Total payable amount : {total_cost}\")"
   ]
  },
  {
   "cell_type": "code",
   "execution_count": 154,
   "id": "b5f7a63e",
   "metadata": {},
   "outputs": [
    {
     "name": "stdout",
     "output_type": "stream",
     "text": [
      "What you want to purchase? :phone\n"
     ]
    }
   ],
   "source": [
    "# user input what you want to purchase\n",
    "# user \n",
    "\n",
    "\n",
    "amazon_website=[(\"Watch\",5000),(\"phone\",10000),(\"laptop\",50000),(\"shirt\",1000)]\n",
    "\n",
    "my_choice=input(\"What you want to purchase? :\")\n",
    "\n"
   ]
  },
  {
   "cell_type": "code",
   "execution_count": 155,
   "id": "0d8e727b",
   "metadata": {},
   "outputs": [
    {
     "data": {
      "text/plain": [
       "'phone'"
      ]
     },
     "execution_count": 155,
     "metadata": {},
     "output_type": "execute_result"
    }
   ],
   "source": [
    "my_choice"
   ]
  },
  {
   "cell_type": "code",
   "execution_count": 159,
   "id": "9bdbcfba",
   "metadata": {},
   "outputs": [
    {
     "name": "stdout",
     "output_type": "stream",
     "text": [
      "('phone', 10000)\n"
     ]
    }
   ],
   "source": [
    "for item in amazon_website:\n",
    "    \n",
    "    if item[0]==my_choice:\n",
    "        print(item)\n",
    "    \n",
    "        "
   ]
  },
  {
   "cell_type": "markdown",
   "id": "31b007e3",
   "metadata": {},
   "source": [
    "### Assignment\n",
    "\n",
    "1. on amazon website we have the following items-\n",
    "\n",
    "amazon_website=[(\"Watch\",5000),(\"phone\",10000),(\"laptop\",50000),(\"shirt\",1000)]\n",
    "\n",
    "Take the user input N no. of times and find out the total cost to be paid?\n",
    "\n",
    "if the item is not present in the amazon website then print that item as out of stock and do add it total cost to be paid?\n",
    "\n",
    "OR\n",
    "\n",
    "You can ask the user quantity or count of item?\n",
    "\n",
    "HINT: while,for loop..indexing\n"
   ]
  },
  {
   "cell_type": "markdown",
   "id": "f3d48092",
   "metadata": {},
   "source": [
    "## Sets\n",
    "\n",
    "Unordered collection of unique elements"
   ]
  },
  {
   "cell_type": "code",
   "execution_count": 160,
   "id": "314645f8",
   "metadata": {},
   "outputs": [],
   "source": [
    "x={1,2,33,6,7}"
   ]
  },
  {
   "cell_type": "code",
   "execution_count": 161,
   "id": "d315de70",
   "metadata": {},
   "outputs": [
    {
     "data": {
      "text/plain": [
       "set"
      ]
     },
     "execution_count": 161,
     "metadata": {},
     "output_type": "execute_result"
    }
   ],
   "source": [
    "type(x)"
   ]
  },
  {
   "cell_type": "code",
   "execution_count": 163,
   "id": "86ebbbe3",
   "metadata": {},
   "outputs": [
    {
     "data": {
      "text/plain": [
       "{1, 2, 6, 7, 33}"
      ]
     },
     "execution_count": 163,
     "metadata": {},
     "output_type": "execute_result"
    }
   ],
   "source": [
    "x={1,2,33,6,7,7,7}\n",
    "\n",
    "x"
   ]
  },
  {
   "cell_type": "code",
   "execution_count": 164,
   "id": "81642a8c",
   "metadata": {},
   "outputs": [
    {
     "data": {
      "text/plain": [
       "set"
      ]
     },
     "execution_count": 164,
     "metadata": {},
     "output_type": "execute_result"
    }
   ],
   "source": [
    "x=set() # RECOMMENDED\n",
    "\n",
    "type(x)"
   ]
  },
  {
   "cell_type": "code",
   "execution_count": 165,
   "id": "2b82b5d7",
   "metadata": {},
   "outputs": [
    {
     "data": {
      "text/plain": [
       "dict"
      ]
     },
     "execution_count": 165,
     "metadata": {},
     "output_type": "execute_result"
    }
   ],
   "source": [
    "x={}  # NOT RECOMMENDED\n",
    "\n",
    "type(x)"
   ]
  },
  {
   "cell_type": "code",
   "execution_count": 166,
   "id": "a3e739f1",
   "metadata": {},
   "outputs": [
    {
     "data": {
      "text/plain": [
       "()"
      ]
     },
     "execution_count": 166,
     "metadata": {},
     "output_type": "execute_result"
    }
   ],
   "source": [
    "x=tuple()\n",
    "\n",
    "x"
   ]
  },
  {
   "cell_type": "code",
   "execution_count": 167,
   "id": "124354ab",
   "metadata": {},
   "outputs": [
    {
     "data": {
      "text/plain": [
       "[]"
      ]
     },
     "execution_count": 167,
     "metadata": {},
     "output_type": "execute_result"
    }
   ],
   "source": [
    "x=list()\n",
    "\n",
    "x"
   ]
  },
  {
   "cell_type": "code",
   "execution_count": 168,
   "id": "77e12bef",
   "metadata": {},
   "outputs": [
    {
     "data": {
      "text/plain": [
       "{1, 2, 6, 7, 33}"
      ]
     },
     "execution_count": 168,
     "metadata": {},
     "output_type": "execute_result"
    }
   ],
   "source": [
    "x={1,2,33,6,7,7,7}\n",
    "\n",
    "x"
   ]
  },
  {
   "cell_type": "code",
   "execution_count": 169,
   "id": "f18a1b06",
   "metadata": {},
   "outputs": [
    {
     "ename": "TypeError",
     "evalue": "'set' object is not subscriptable",
     "output_type": "error",
     "traceback": [
      "\u001b[1;31m---------------------------------------------------------------------------\u001b[0m",
      "\u001b[1;31mTypeError\u001b[0m                                 Traceback (most recent call last)",
      "Input \u001b[1;32mIn [169]\u001b[0m, in \u001b[0;36m<cell line: 1>\u001b[1;34m()\u001b[0m\n\u001b[1;32m----> 1\u001b[0m \u001b[43mx\u001b[49m\u001b[43m[\u001b[49m\u001b[38;5;241;43m0\u001b[39;49m\u001b[43m]\u001b[49m\n",
      "\u001b[1;31mTypeError\u001b[0m: 'set' object is not subscriptable"
     ]
    }
   ],
   "source": [
    "x[0]"
   ]
  },
  {
   "cell_type": "code",
   "execution_count": 173,
   "id": "200a1323",
   "metadata": {},
   "outputs": [
    {
     "data": {
      "text/plain": [
       "{1, 2, 33, 6, 'Sunny'}"
      ]
     },
     "execution_count": 173,
     "metadata": {},
     "output_type": "execute_result"
    }
   ],
   "source": [
    "x={1,2,33,6,\"Sunny\"}\n",
    "\n",
    "x"
   ]
  },
  {
   "cell_type": "markdown",
   "id": "0df84b28",
   "metadata": {},
   "source": [
    "https://ncert.nic.in/ncerts/l/kemh101.pdf theory set NCERT class XI"
   ]
  },
  {
   "cell_type": "code",
   "execution_count": 175,
   "id": "79b4b06c",
   "metadata": {},
   "outputs": [
    {
     "data": {
      "text/plain": [
       "{1, 2, 33, 6, 99, 'Sunny'}"
      ]
     },
     "execution_count": 175,
     "metadata": {},
     "output_type": "execute_result"
    }
   ],
   "source": [
    "x.add(99)\n",
    "\n",
    "x"
   ]
  },
  {
   "cell_type": "code",
   "execution_count": 181,
   "id": "4f2c4a7a",
   "metadata": {},
   "outputs": [
    {
     "data": {
      "text/plain": [
       "{(99+2j), 1, 2, 33, 6, 99, 'Sunny'}"
      ]
     },
     "execution_count": 181,
     "metadata": {},
     "output_type": "execute_result"
    }
   ],
   "source": [
    "x.add(99+2j)\n",
    "\n",
    "x"
   ]
  },
  {
   "cell_type": "code",
   "execution_count": 182,
   "id": "f6ef0404",
   "metadata": {},
   "outputs": [
    {
     "data": {
      "text/plain": [
       "{(99+2j), -100, 1, 2, 33, 6, 99, 'Sunny'}"
      ]
     },
     "execution_count": 182,
     "metadata": {},
     "output_type": "execute_result"
    }
   ],
   "source": [
    "x.add(-100)\n",
    "\n",
    "x"
   ]
  },
  {
   "cell_type": "code",
   "execution_count": 183,
   "id": "432dd54a",
   "metadata": {},
   "outputs": [
    {
     "data": {
      "text/plain": [
       "{(99+2j), -100, -200, 1, 2, 33, 6, 99, 'Sunny'}"
      ]
     },
     "execution_count": 183,
     "metadata": {},
     "output_type": "execute_result"
    }
   ],
   "source": [
    "x.add(-200)\n",
    "\n",
    "x"
   ]
  },
  {
   "cell_type": "code",
   "execution_count": 184,
   "id": "b75ef0ec",
   "metadata": {},
   "outputs": [
    {
     "data": {
      "text/plain": [
       "{(99+2j), -100, -200, 1, 2, 20.2, 33, 6, 99, 'Sunny'}"
      ]
     },
     "execution_count": 184,
     "metadata": {},
     "output_type": "execute_result"
    }
   ],
   "source": [
    "x.add(20.2)\n",
    "\n",
    "x"
   ]
  },
  {
   "cell_type": "code",
   "execution_count": 185,
   "id": "5b2ae080",
   "metadata": {},
   "outputs": [
    {
     "data": {
      "text/plain": [
       "{(99+2j), -100, -200, 1, 2, 20.2, 33, 40.2, 6, 99, 'Sunny'}"
      ]
     },
     "execution_count": 185,
     "metadata": {},
     "output_type": "execute_result"
    }
   ],
   "source": [
    "x.add(40.2)\n",
    "\n",
    "x"
   ]
  },
  {
   "cell_type": "code",
   "execution_count": 186,
   "id": "3dd9aa08",
   "metadata": {},
   "outputs": [
    {
     "data": {
      "text/plain": [
       "{(99+2j), -200, 1, 2, 20.2, 33, 40.2, 6, 99, 'Sunny'}"
      ]
     },
     "execution_count": 186,
     "metadata": {},
     "output_type": "execute_result"
    }
   ],
   "source": [
    "x.remove(-100)\n",
    "\n",
    "x"
   ]
  },
  {
   "cell_type": "code",
   "execution_count": 179,
   "id": "03926944",
   "metadata": {},
   "outputs": [
    {
     "data": {
      "text/plain": [
       "[1, 2, 3, 5, 6, 7]"
      ]
     },
     "execution_count": 179,
     "metadata": {},
     "output_type": "execute_result"
    }
   ],
   "source": [
    "##  return the list with unique elements\n",
    "\n",
    "A=[1,2,3,5,5,6,6,7,7,7]\n",
    "\n",
    "A=list(set(A))\n",
    "\n",
    "A"
   ]
  },
  {
   "cell_type": "code",
   "execution_count": 176,
   "id": "6659af17",
   "metadata": {},
   "outputs": [
    {
     "ename": "AttributeError",
     "evalue": "'set' object has no attribute 'append'",
     "output_type": "error",
     "traceback": [
      "\u001b[1;31m---------------------------------------------------------------------------\u001b[0m",
      "\u001b[1;31mAttributeError\u001b[0m                            Traceback (most recent call last)",
      "Input \u001b[1;32mIn [176]\u001b[0m, in \u001b[0;36m<cell line: 1>\u001b[1;34m()\u001b[0m\n\u001b[1;32m----> 1\u001b[0m \u001b[43mx\u001b[49m\u001b[38;5;241;43m.\u001b[39;49m\u001b[43mappend\u001b[49m(\u001b[38;5;241m99\u001b[39m)\n\u001b[0;32m      3\u001b[0m x\n",
      "\u001b[1;31mAttributeError\u001b[0m: 'set' object has no attribute 'append'"
     ]
    }
   ],
   "source": [
    "x.append(99)\n",
    "\n",
    "x"
   ]
  },
  {
   "cell_type": "code",
   "execution_count": 177,
   "id": "595b2db7",
   "metadata": {},
   "outputs": [
    {
     "ename": "TypeError",
     "evalue": "unsupported operand type(s) for +: 'set' and 'set'",
     "output_type": "error",
     "traceback": [
      "\u001b[1;31m---------------------------------------------------------------------------\u001b[0m",
      "\u001b[1;31mTypeError\u001b[0m                                 Traceback (most recent call last)",
      "Input \u001b[1;32mIn [177]\u001b[0m, in \u001b[0;36m<cell line: 4>\u001b[1;34m()\u001b[0m\n\u001b[0;32m      1\u001b[0m A\u001b[38;5;241m=\u001b[39m{\u001b[38;5;241m1\u001b[39m,\u001b[38;5;241m2\u001b[39m,\u001b[38;5;241m3\u001b[39m}\n\u001b[0;32m      2\u001b[0m B\u001b[38;5;241m=\u001b[39m{\u001b[38;5;241m4\u001b[39m,\u001b[38;5;241m5\u001b[39m,\u001b[38;5;241m6\u001b[39m}\n\u001b[1;32m----> 4\u001b[0m \u001b[43mA\u001b[49m\u001b[38;5;241;43m+\u001b[39;49m\u001b[43mB\u001b[49m\n",
      "\u001b[1;31mTypeError\u001b[0m: unsupported operand type(s) for +: 'set' and 'set'"
     ]
    }
   ],
   "source": [
    "A={1,2,3}\n",
    "B={4,5,6}\n",
    "\n",
    "A+B"
   ]
  },
  {
   "cell_type": "code",
   "execution_count": 192,
   "id": "1a4d2349",
   "metadata": {},
   "outputs": [
    {
     "ename": "SyntaxError",
     "evalue": "invalid syntax (2595438051.py, line 1)",
     "output_type": "error",
     "traceback": [
      "\u001b[1;36m  Input \u001b[1;32mIn [192]\u001b[1;36m\u001b[0m\n\u001b[1;33m    example=[i**2 for in range(1,11)]\u001b[0m\n\u001b[1;37m                      ^\u001b[0m\n\u001b[1;31mSyntaxError\u001b[0m\u001b[1;31m:\u001b[0m invalid syntax\n"
     ]
    }
   ],
   "source": [
    "example=[i**2 for in range(1,11)]\n",
    "\n",
    "example"
   ]
  },
  {
   "cell_type": "code",
   "execution_count": null,
   "id": "4c882634",
   "metadata": {},
   "outputs": [],
   "source": []
  }
 ],
 "metadata": {
  "kernelspec": {
   "display_name": "Python 3 (ipykernel)",
   "language": "python",
   "name": "python3"
  },
  "language_info": {
   "codemirror_mode": {
    "name": "ipython",
    "version": 3
   },
   "file_extension": ".py",
   "mimetype": "text/x-python",
   "name": "python",
   "nbconvert_exporter": "python",
   "pygments_lexer": "ipython3",
   "version": "3.9.12"
  }
 },
 "nbformat": 4,
 "nbformat_minor": 5
}
