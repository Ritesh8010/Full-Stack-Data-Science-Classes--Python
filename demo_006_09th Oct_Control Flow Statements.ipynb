{
 "cells": [
  {
   "cell_type": "markdown",
   "id": "255f6af4",
   "metadata": {},
   "source": [
    "# Agenda\n",
    "\n",
    "Control Flow statements\n",
    "-if else\n",
    "-if elif else\n",
    "-Nested if else\n",
    "-Single line if else [Not recommended]\n",
    "2. Loops in python\n",
    "\n",
    "-for\n",
    "-while"
   ]
  },
  {
   "cell_type": "markdown",
   "id": "13df872c",
   "metadata": {},
   "source": [
    "## if else [covered]"
   ]
  },
  {
   "cell_type": "markdown",
   "id": "35313129",
   "metadata": {},
   "source": [
    "### if elif"
   ]
  },
  {
   "cell_type": "markdown",
   "id": "5d906465",
   "metadata": {},
   "source": [
    "Online Food Orders- Zomato App, Swiggy,Uber Eats\n",
    "\n",
    "-if you order more than Rs 499\n",
    "  -discount=20%\n",
    "-if you order more than Rs.999\n",
    "  -discount=30%\n",
    "-if you order more than Rs.1499\n",
    "  -discount-40%"
   ]
  },
  {
   "cell_type": "code",
   "execution_count": 1,
   "id": "37e37c75",
   "metadata": {},
   "outputs": [
    {
     "name": "stdout",
     "output_type": "stream",
     "text": [
      "cart total:1290\n",
      "Pay amount : 903.0\n"
     ]
    }
   ],
   "source": [
    "Total_amount=90+100+100+1000\n",
    "\n",
    "print(f\"cart total:{Total_amount}\")\n",
    "\n",
    "if Total_amount > 999:\n",
    "    price_after_discount=Total_amount*70/100\n",
    "    print(f\"Pay amount : {price_after_discount}\")\n",
    "elif Total_amount < 999 and Total_amount>499:   # 999<=price<499\n",
    "    price_after_discount=Total_amount*80/100\n",
    "    print(f\"Pay amount : {price_after_discount}\")\n",
    "else:\n",
    "    print(f\"Pay amount : {Total_amount}\")"
   ]
  },
  {
   "cell_type": "code",
   "execution_count": 3,
   "id": "6e300403",
   "metadata": {},
   "outputs": [
    {
     "name": "stdout",
     "output_type": "stream",
     "text": [
      "cart total:190\n",
      "Pay amount : 190\n"
     ]
    }
   ],
   "source": [
    "Total_amount=90+100\n",
    "\n",
    "print(f\"cart total:{Total_amount}\")\n",
    "\n",
    "if Total_amount > 999:\n",
    "    price_after_discount=Total_amount*70/100\n",
    "    print(f\"Pay amount : {price_after_discount}\")\n",
    "elif Total_amount < 999 and Total_amount>499:   # 999<=price<499\n",
    "    price_after_discount=Total_amount*80/100\n",
    "    print(f\"Pay amount : {price_after_discount}\")\n",
    "else:\n",
    "    print(f\"Pay amount : {Total_amount}\")"
   ]
  },
  {
   "cell_type": "code",
   "execution_count": 4,
   "id": "a1a7add3",
   "metadata": {},
   "outputs": [
    {
     "name": "stdout",
     "output_type": "stream",
     "text": [
      "cart total:690\n",
      "Pay amount : 552.0\n"
     ]
    }
   ],
   "source": [
    "Total_amount=90+100+500\n",
    "\n",
    "print(f\"cart total:{Total_amount}\")\n",
    "\n",
    "if Total_amount > 999:\n",
    "    price_after_discount=Total_amount*70/100\n",
    "    print(f\"Pay amount : {price_after_discount}\")\n",
    "elif Total_amount < 999 and Total_amount>499:   # 999<=price<499\n",
    "    price_after_discount=Total_amount*80/100\n",
    "    print(f\"Pay amount : {price_after_discount}\")\n",
    "else:\n",
    "    print(f\"Pay amount : {Total_amount}\")"
   ]
  },
  {
   "cell_type": "code",
   "execution_count": 5,
   "id": "6cf548cd",
   "metadata": {},
   "outputs": [
    {
     "name": "stdout",
     "output_type": "stream",
     "text": [
      "cart total:690\n",
      "Pay amount : 552.0\n"
     ]
    }
   ],
   "source": [
    "Total_amount=90+100+500\n",
    "\n",
    "print(f\"cart total:{Total_amount}\")\n",
    "\n",
    "if Total_amount > 999:\n",
    "    price_after_discount=Total_amount*70/100\n",
    "    print(f\"Pay amount : {price_after_discount}\")\n",
    "elif 499 <Total_amount < 999:   # 999<=price<499\n",
    "    price_after_discount=Total_amount*80/100\n",
    "    print(f\"Pay amount : {price_after_discount}\")\n",
    "else:\n",
    "    print(f\"Pay amount : {Total_amount}\")"
   ]
  },
  {
   "cell_type": "code",
   "execution_count": 6,
   "id": "a658c7c2",
   "metadata": {},
   "outputs": [
    {
     "name": "stdout",
     "output_type": "stream",
     "text": [
      "cart total:690\n",
      "Pay amount : 552.0\n"
     ]
    }
   ],
   "source": [
    "Total_amount=90+100+500\n",
    "\n",
    "print(f\"cart total:{Total_amount}\")\n",
    "\n",
    "if Total_amount > 999:\n",
    "    price_after_discount=Total_amount*70/100\n",
    "    print(f\"Pay amount : {price_after_discount}\")\n",
    "if 499 <Total_amount <= 999:   # 999<=price<499\n",
    "    price_after_discount=Total_amount*80/100\n",
    "    print(f\"Pay amount : {price_after_discount}\")\n",
    "else:\n",
    "    print(f\"Pay amount : {Total_amount}\")"
   ]
  },
  {
   "cell_type": "code",
   "execution_count": 81,
   "id": "2231e97b",
   "metadata": {},
   "outputs": [
    {
     "name": "stdout",
     "output_type": "stream",
     "text": [
      "cart total:1690\n",
      "Pay amount : 1014.0\n"
     ]
    }
   ],
   "source": [
    "Total_amount=90+100+500+1000\n",
    "\n",
    "print(f\"cart total:{Total_amount}\")\n",
    "\n",
    "if Total_amount>1499:\n",
    "    price_after_discount=Total_amount*60/100 \n",
    "    print(f\"Pay amount : {price_after_discount}\")\n",
    "\n",
    "elif 999 < Total_amount <=1499:\n",
    "    price_after_discount=Total_amount*70/100\n",
    "    print(f\"Pay amount : {price_after_discount}\")\n",
    "elif 499 <Total_amount <= 999:   # 999<=price<499\n",
    "    price_after_discount=Total_amount*80/100\n",
    "    print(f\"Pay amount : {price_after_discount}\")\n",
    "else:\n",
    "    print(f\"Pay amount : {Total_amount}\")"
   ]
  },
  {
   "cell_type": "markdown",
   "id": "510ee358",
   "metadata": {},
   "source": [
    "### Nested if else"
   ]
  },
  {
   "cell_type": "markdown",
   "id": "44524e2e",
   "metadata": {},
   "source": [
    "print if the no is negative or positive"
   ]
  },
  {
   "cell_type": "code",
   "execution_count": 13,
   "id": "f8692a44",
   "metadata": {},
   "outputs": [
    {
     "name": "stdout",
     "output_type": "stream",
     "text": [
      "Enter a number: -9\n",
      "Negative Number\n"
     ]
    }
   ],
   "source": [
    "val=float(input(\"Enter a number: \"))\n",
    "if val>=0:\n",
    "    if val==0:\n",
    "        print(\"Its Zero\")\n",
    "    else:\n",
    "        print(\"Its a positive no\")\n",
    "else:\n",
    "    print(\"Negative Number\")"
   ]
  },
  {
   "cell_type": "markdown",
   "id": "d17e6834",
   "metadata": {},
   "source": [
    "## Single line if else\n",
    "\n",
    "NOTE:-  RECOMMENDED FOR CODING IN PROJECTS OR PRODUCTION \n",
    "\n",
    "but good for competitive programming"
   ]
  },
  {
   "cell_type": "code",
   "execution_count": 16,
   "id": "4058f391",
   "metadata": {},
   "outputs": [],
   "source": [
    "# Print YES if the no is greater than 99"
   ]
  },
  {
   "cell_type": "code",
   "execution_count": 20,
   "id": "6e8785e4",
   "metadata": {},
   "outputs": [
    {
     "name": "stdout",
     "output_type": "stream",
     "text": [
      "Enter a number: 999\n",
      "YES\n"
     ]
    }
   ],
   "source": [
    "val=float(input(\"Enter a number: \"))\n",
    "\n",
    "if val>99: print(\"YES\")"
   ]
  },
  {
   "cell_type": "code",
   "execution_count": 19,
   "id": "b10886be",
   "metadata": {},
   "outputs": [
    {
     "name": "stdout",
     "output_type": "stream",
     "text": [
      "Enter a number: 1\n",
      "No\n"
     ]
    }
   ],
   "source": [
    "# OK for competitive program\n",
    "# For production code and company it is not recommended\n",
    "\n",
    "val=float(input(\"Enter a number: \"))\n",
    "\n",
    "if val>99: print(\"YES\")\n",
    "else: print(\"No\")"
   ]
  },
  {
   "cell_type": "code",
   "execution_count": 25,
   "id": "25d1d257",
   "metadata": {},
   "outputs": [
    {
     "name": "stdout",
     "output_type": "stream",
     "text": [
      "Enter a number: 999\n",
      "YES\n"
     ]
    }
   ],
   "source": [
    "# Recommended approach\n",
    "# Its more readable and clean\n",
    "\n",
    "val=float(input(\"Enter a number: \"))\n",
    "\n",
    "if val>99: \n",
    "    print(\"YES\")\n",
    "else: \n",
    "    print(\"No\")"
   ]
  },
  {
   "cell_type": "code",
   "execution_count": 23,
   "id": "4887b9be",
   "metadata": {},
   "outputs": [
    {
     "name": "stdout",
     "output_type": "stream",
     "text": [
      "Enter a number: 1000\n",
      "YES\n"
     ]
    }
   ],
   "source": [
    "# Only good for competitive Programming\n",
    "val=float(input(\"Enter a number: \"))\n",
    "print(\"YES\" if val >99 else \"No\")"
   ]
  },
  {
   "cell_type": "code",
   "execution_count": 24,
   "id": "babb44d4",
   "metadata": {},
   "outputs": [
    {
     "name": "stdout",
     "output_type": "stream",
     "text": [
      "Enter a number: 9\n",
      "No\n"
     ]
    }
   ],
   "source": [
    "val=float(input(\"Enter a number: \"))\n",
    "print(\"YES\" if val >99 else \"No\")"
   ]
  },
  {
   "cell_type": "markdown",
   "id": "8295c66a",
   "metadata": {},
   "source": [
    "# LOOPS\n",
    "1. While loop\n",
    "2. For loop\n",
    "3. Loop Control\n",
    "   -break\n",
    "   -continue\n",
    "   -pass\n",
    " 4. Nested Loop\n",
    " "
   ]
  },
  {
   "cell_type": "code",
   "execution_count": 32,
   "id": "06b6e281",
   "metadata": {},
   "outputs": [],
   "source": [
    "# UPSC,IAS,Governemnt Exams,Board Exams\n",
    "# Repetive attempts"
   ]
  },
  {
   "cell_type": "code",
   "execution_count": null,
   "id": "1daae646",
   "metadata": {},
   "outputs": [],
   "source": [
    "While I do not cross the cutoff I will keep on giving my exams\n",
    "\n",
    "while condition is True:\n",
    "    print()\n",
    "    "
   ]
  },
  {
   "cell_type": "code",
   "execution_count": 31,
   "id": "afbac018",
   "metadata": {},
   "outputs": [
    {
     "name": "stdout",
     "output_type": "stream",
     "text": [
      "Your Score is : 100, cutoff :400\n",
      "I Will attempt next year\n",
      "Your Score is : 200, cutoff :400\n",
      "I Will attempt next year\n",
      "Your Score is : 300, cutoff :400\n",
      "I Will attempt next year\n",
      "Your Score is : 399, cutoff :400\n",
      "I Will attempt next year\n"
     ]
    }
   ],
   "source": [
    "total_marks= 1000\n",
    "cutoff= 400\n",
    "scores= [100,200,300,399,500]\n",
    "\n",
    "# I will keep on attempting until I Succeed\n",
    "\n",
    "year= 0\n",
    "\n",
    "while scores[year] < cutoff:\n",
    "    print(f\"Your Score is : {scores[year]}, cutoff :{cutoff}\")\n",
    "    print(\"I Will attempt next year\")\n",
    "    year=year + 1  # I am adding 1 to current year"
   ]
  },
  {
   "cell_type": "code",
   "execution_count": 30,
   "id": "d0e76b73",
   "metadata": {},
   "outputs": [
    {
     "data": {
      "text/plain": [
       "200"
      ]
     },
     "execution_count": 30,
     "metadata": {},
     "output_type": "execute_result"
    }
   ],
   "source": [
    "scores[1]"
   ]
  },
  {
   "cell_type": "code",
   "execution_count": 33,
   "id": "d8a3b842",
   "metadata": {},
   "outputs": [
    {
     "data": {
      "text/plain": [
       "500"
      ]
     },
     "execution_count": 33,
     "metadata": {},
     "output_type": "execute_result"
    }
   ],
   "source": [
    "year=4\n",
    "scores[year]"
   ]
  },
  {
   "cell_type": "markdown",
   "id": "13215334",
   "metadata": {},
   "source": [
    "# Infinite LOOP\n",
    "\n",
    "if the condition is always TRUE then loop will keep on running"
   ]
  },
  {
   "cell_type": "markdown",
   "id": "74ea618d",
   "metadata": {},
   "source": [
    "while True:\n",
    "    print(\"YES\")----infinite loop ended"
   ]
  },
  {
   "cell_type": "code",
   "execution_count": 1,
   "id": "f1cb0344",
   "metadata": {},
   "outputs": [
    {
     "name": "stdout",
     "output_type": "stream",
     "text": [
      "current sum: 10\n",
      "current sum: 20\n",
      "current sum: 30\n",
      "current sum: 40\n",
      "current sum: 50\n"
     ]
    }
   ],
   "source": [
    "\"\"\"\n",
    "Child is learning to counting 10 rupees of note \n",
    "\n",
    "\"\"\"\n",
    "\n",
    "notes = 5\n",
    "i = 1  # 1st note\n",
    "\n",
    "while i <= notes:\n",
    "    print(f\"current sum: {i * 10}\")\n",
    "    i=i+1"
   ]
  },
  {
   "cell_type": "code",
   "execution_count": 2,
   "id": "f2523bfc",
   "metadata": {},
   "outputs": [
    {
     "name": "stdout",
     "output_type": "stream",
     "text": [
      "current sum: 10\n",
      "current sum: 20\n",
      "current sum: 30\n",
      "current sum: 40\n",
      "current sum: 50\n",
      "current sum: 60\n",
      "current sum: 70\n",
      "current sum: 80\n",
      "current sum: 90\n",
      "current sum: 100\n"
     ]
    }
   ],
   "source": [
    "\"\"\"\n",
    "Child is learning to counting 10 rupees of note \n",
    "\n",
    "\"\"\"\n",
    "\n",
    "notes = 10\n",
    "i = 1  # 1st note\n",
    "\n",
    "while i <= notes:\n",
    "    print(f\"current sum: {i * 10}\")\n",
    "    i=i+1"
   ]
  },
  {
   "cell_type": "code",
   "execution_count": 3,
   "id": "ea698371",
   "metadata": {},
   "outputs": [
    {
     "name": "stdout",
     "output_type": "stream",
     "text": [
      "Current Station is : Station 01\n",
      "Destination station is : Station 03\n",
      "Continue the Journey I have not reached the destination\n",
      "Next station is :Station 02\n",
      "-----\n",
      "Current Station is : Station 02\n",
      "Destination station is : Station 03\n",
      "Continue the Journey I have not reached the destination\n",
      "Next station is :Station 03\n",
      "-----\n"
     ]
    }
   ],
   "source": [
    "# Train journey\n",
    "stations= [\"Station 01\",\"Station 02\",\"Station 03\",\"Station 04\"]\n",
    "\n",
    "corrent_station = 0\n",
    "destination_station = \"Station 03\"\n",
    "\n",
    "while stations[corrent_station] != destination_station:\n",
    "    print(f\"Current Station is : {stations[corrent_station]}\")\n",
    "    print(f\"Destination station is : {destination_station}\")\n",
    "    print(\"Continue the Journey I have not reached the destination\")\n",
    "    corrent_station=corrent_station+1\n",
    "    print(f\"Next station is :{stations[corrent_station]}\")\n",
    "    print(\"-----\")"
   ]
  },
  {
   "cell_type": "markdown",
   "id": "6b9c00f1",
   "metadata": {},
   "source": [
    "# While else "
   ]
  },
  {
   "cell_type": "code",
   "execution_count": 4,
   "id": "a3e6ad8b",
   "metadata": {},
   "outputs": [
    {
     "name": "stdout",
     "output_type": "stream",
     "text": [
      "Current Station is : Station 01\n",
      "Destination station is : Station 03\n",
      "Continue the Journey I have not reached the destination\n",
      "Next station is :Station 02\n",
      "-----\n",
      "Current Station is : Station 02\n",
      "Destination station is : Station 03\n",
      "Continue the Journey I have not reached the destination\n",
      "Next station is :Station 03\n",
      "-----\n",
      "I have arrived at : Station 03\n"
     ]
    }
   ],
   "source": [
    "# Train journey\n",
    "stations= [\"Station 01\",\"Station 02\",\"Station 03\",\"Station 04\"]\n",
    "\n",
    "corrent_station = 0\n",
    "destination_station = \"Station 03\"\n",
    "\n",
    "while stations[corrent_station] != destination_station:\n",
    "    print(f\"Current Station is : {stations[corrent_station]}\")\n",
    "    print(f\"Destination station is : {destination_station}\")\n",
    "    print(\"Continue the Journey I have not reached the destination\")\n",
    "    corrent_station=corrent_station+1\n",
    "    print(f\"Next station is :{stations[corrent_station]}\")\n",
    "    print(\"-----\")\n",
    "else:\n",
    "    print(f\"I have arrived at : {stations[corrent_station]}\")"
   ]
  },
  {
   "cell_type": "markdown",
   "id": "2c15fb64",
   "metadata": {},
   "source": [
    "\"\"\"\n",
    "while CONDITION is True :\n",
    "    statement\n",
    "else:\n",
    "    statement\n",
    "\"\"\""
   ]
  },
  {
   "cell_type": "code",
   "execution_count": 6,
   "id": "4fb3b0c1",
   "metadata": {},
   "outputs": [
    {
     "name": "stdout",
     "output_type": "stream",
     "text": [
      "current sum: 10\n",
      "current sum: 20\n",
      "current sum: 30\n",
      "current sum: 40\n",
      "current sum: 50\n",
      "No more 10 rupees notes left\n"
     ]
    }
   ],
   "source": [
    "\"\"\"\n",
    "Child is learning to counting 10 rupees of note \n",
    "\n",
    "\"\"\"\n",
    "\n",
    "notes = 5\n",
    "i = 1  # 1st note\n",
    "\n",
    "while i <= notes:\n",
    "    print(f\"current sum: {i * 10}\")\n",
    "    i=i+1\n",
    "else:\n",
    "    print(\"No more 10 rupees notes left\")\n",
    "    "
   ]
  },
  {
   "cell_type": "code",
   "execution_count": 9,
   "id": "d3a73b1e",
   "metadata": {},
   "outputs": [
    {
     "name": "stdout",
     "output_type": "stream",
     "text": [
      "CONDITON :True\n",
      "current sum: 10\n",
      "-----\n",
      "CONDITON :True\n",
      "current sum: 20\n",
      "-----\n",
      "CONDITON :True\n",
      "current sum: 30\n",
      "-----\n",
      "CONDITON :True\n",
      "current sum: 40\n",
      "-----\n",
      "CONDITON :True\n",
      "current sum: 50\n",
      "-----\n",
      "CONDITON :False\n",
      "No more 10 rupees notes left\n"
     ]
    }
   ],
   "source": [
    "\"\"\"\n",
    "Child is learning to counting 10 rupees of note \n",
    "\n",
    "\"\"\"\n",
    "\n",
    "notes = 5\n",
    "i = 1  # 1st note\n",
    "\n",
    "while i <= notes:\n",
    "    print(f\"CONDITON :{i <= notes}\")\n",
    "    print(f\"current sum: {i * 10}\")\n",
    "    print(\"-----\")\n",
    "    i=i+1\n",
    "else:\n",
    "    print(f\"CONDITON :{i <= notes}\")\n",
    "    print(\"No more 10 rupees notes left\")"
   ]
  },
  {
   "cell_type": "markdown",
   "id": "0b0b243d",
   "metadata": {},
   "source": [
    " # for loop"
   ]
  },
  {
   "cell_type": "code",
   "execution_count": 10,
   "id": "230d0b1b",
   "metadata": {},
   "outputs": [
    {
     "name": "stdout",
     "output_type": "stream",
     "text": [
      "0\n",
      "1\n",
      "2\n",
      "3\n",
      "4\n",
      "5\n",
      "6\n",
      "7\n",
      "8\n",
      "9\n"
     ]
    }
   ],
   "source": [
    "for i in range(0,10):# 10 is out of bond\n",
    "    print(i)"
   ]
  },
  {
   "cell_type": "code",
   "execution_count": 18,
   "id": "0fd1fcfd",
   "metadata": {},
   "outputs": [
    {
     "name": "stdout",
     "output_type": "stream",
     "text": [
      "10X0=0\n",
      "10X1=10\n",
      "10X2=20\n",
      "10X3=30\n",
      "10X4=40\n",
      "10X5=50\n",
      "10X6=60\n",
      "10X7=70\n",
      "10X8=80\n",
      "10X9=90\n"
     ]
    }
   ],
   "source": [
    "for i in range(0,10):# 10 is out of bond\n",
    "    print(f\"10X{i}={10 * i}\")"
   ]
  },
  {
   "cell_type": "code",
   "execution_count": 17,
   "id": "e6795c00",
   "metadata": {},
   "outputs": [
    {
     "name": "stdout",
     "output_type": "stream",
     "text": [
      "10X1=10\n",
      "10X2=20\n",
      "10X3=30\n",
      "10X4=40\n",
      "10X5=50\n",
      "10X6=60\n",
      "10X7=70\n",
      "10X8=80\n",
      "10X9=90\n",
      "10X10=100\n"
     ]
    }
   ],
   "source": [
    "for i in range(0,10):# 10 is out of bond\n",
    "    print(f\"10X{i+1}={10 *(i+1)}\")"
   ]
  },
  {
   "cell_type": "code",
   "execution_count": 16,
   "id": "46aad196",
   "metadata": {},
   "outputs": [
    {
     "name": "stdout",
     "output_type": "stream",
     "text": [
      "10X1=10\n",
      "10X2=20\n",
      "10X3=30\n",
      "10X4=40\n",
      "10X5=50\n",
      "10X6=60\n",
      "10X7=70\n",
      "10X8=80\n",
      "10X9=90\n",
      "10X10=100\n"
     ]
    }
   ],
   "source": [
    "for i in range(1,11):# 11 is out of bond\n",
    "    print(f\"10X{i}={10*i}\")\n"
   ]
  },
  {
   "cell_type": "code",
   "execution_count": 20,
   "id": "b999165d",
   "metadata": {},
   "outputs": [
    {
     "data": {
      "text/plain": [
       "'SuunySuunySuunySuunySuunySuunySuunySuunySuunySuuny'"
      ]
     },
     "execution_count": 20,
     "metadata": {},
     "output_type": "execute_result"
    }
   ],
   "source": [
    "\"Suuny\"*10"
   ]
  },
  {
   "cell_type": "code",
   "execution_count": 21,
   "id": "f18268ca",
   "metadata": {},
   "outputs": [
    {
     "data": {
      "text/plain": [
       "'**********'"
      ]
     },
     "execution_count": 21,
     "metadata": {},
     "output_type": "execute_result"
    }
   ],
   "source": [
    "\"*\"*10"
   ]
  },
  {
   "cell_type": "code",
   "execution_count": null,
   "id": "0ab5baed",
   "metadata": {},
   "outputs": [],
   "source": []
  },
  {
   "cell_type": "code",
   "execution_count": 19,
   "id": "e0cc02b5",
   "metadata": {},
   "outputs": [
    {
     "name": "stdout",
     "output_type": "stream",
     "text": [
      "*\n",
      "**\n",
      "***\n",
      "****\n",
      "*****\n",
      "******\n",
      "*******\n",
      "********\n",
      "*********\n",
      "**********\n"
     ]
    }
   ],
   "source": [
    " ## i is not necessary to use\n",
    "for i in range(1,11): # 11 is out of bond\n",
    "    print(\"*\"*i)"
   ]
  },
  {
   "cell_type": "code",
   "execution_count": 22,
   "id": "5629c0a6",
   "metadata": {},
   "outputs": [
    {
     "name": "stdout",
     "output_type": "stream",
     "text": [
      "*\n",
      "**\n",
      "***\n",
      "****\n",
      "*****\n",
      "******\n",
      "*******\n",
      "********\n",
      "*********\n",
      "**********\n"
     ]
    }
   ],
   "source": [
    " ## i is not necessary to use\n",
    "for sunny in range(1,11): # 11 is out of bond\n",
    "    print(\"*\"*sunny)"
   ]
  },
  {
   "cell_type": "code",
   "execution_count": 24,
   "id": "66421436",
   "metadata": {},
   "outputs": [
    {
     "name": "stdout",
     "output_type": "stream",
     "text": [
      "0=0+100\n",
      "After adding  total sum=100\n",
      "-----\n",
      "100=100+200\n",
      "After adding  total sum=300\n",
      "-----\n",
      "300=300+129\n",
      "After adding  total sum=429\n",
      "-----\n",
      "429=429+456\n",
      "After adding  total sum=885\n",
      "-----\n",
      "Total amount to be paid : 885\n"
     ]
    }
   ],
   "source": [
    "Cost_of_items=[100,200,129,456]\n",
    "\n",
    "total_sum = 0\n",
    "\n",
    "for i in range(0,4):\n",
    "    print(f\"{total_sum}={total_sum}+{Cost_of_items[i]}\")\n",
    "    total_sum=total_sum+Cost_of_items[i]\n",
    "    print(f\"After adding  total sum={total_sum}\")\n",
    "    print(\"-----\")\n",
    "print(f\"Total amount to be paid : {total_sum}\")"
   ]
  },
  {
   "cell_type": "code",
   "execution_count": 28,
   "id": "4cb456ee",
   "metadata": {},
   "outputs": [
    {
     "name": "stdout",
     "output_type": "stream",
     "text": [
      "0=0+100\n",
      "After adding  total sum=100\n",
      "-----\n",
      "100=100+200\n",
      "After adding  total sum=300\n",
      "-----\n",
      "300=300+129\n",
      "After adding  total sum=429\n",
      "-----\n",
      "Total amount to be paid : 429\n"
     ]
    }
   ],
   "source": [
    "Cost_of_items=[100,200,129,456]\n",
    "\n",
    "total_sum = 0\n",
    "\n",
    "for i in range(0,3):\n",
    "    print(f\"{total_sum}={total_sum}+{Cost_of_items[i]}\")\n",
    "    total_sum=total_sum+Cost_of_items[i]\n",
    "    print(f\"After adding  total sum={total_sum}\")\n",
    "    print(\"-----\")\n",
    "print(f\"Total amount to be paid : {total_sum}\")"
   ]
  },
  {
   "cell_type": "code",
   "execution_count": 26,
   "id": "21a46889",
   "metadata": {},
   "outputs": [
    {
     "data": {
      "text/plain": [
       "4"
      ]
     },
     "execution_count": 26,
     "metadata": {},
     "output_type": "execute_result"
    }
   ],
   "source": [
    "len(Cost_of_items)"
   ]
  },
  {
   "cell_type": "code",
   "execution_count": 29,
   "id": "f0a174c0",
   "metadata": {},
   "outputs": [
    {
     "name": "stdout",
     "output_type": "stream",
     "text": [
      "0=0+100\n",
      "After adding  total sum=100\n",
      "-----\n",
      "100=100+200\n",
      "After adding  total sum=300\n",
      "-----\n",
      "300=300+129\n",
      "After adding  total sum=429\n",
      "-----\n",
      "429=429+456\n",
      "After adding  total sum=885\n",
      "-----\n",
      "885=885+1000\n",
      "After adding  total sum=1885\n",
      "-----\n",
      "Total amount to be paid : 1885\n"
     ]
    }
   ],
   "source": [
    "Cost_of_items=[100,200,129,456,1000]\n",
    "\n",
    "total_sum = 0\n",
    "N = len(Cost_of_items)\n",
    "for i in range(0,N):\n",
    "    print(f\"{total_sum}={total_sum}+{Cost_of_items[i]}\")\n",
    "    total_sum=total_sum+Cost_of_items[i]\n",
    "    print(f\"After adding  total sum={total_sum}\")\n",
    "    print(\"-----\")\n",
    "print(f\"Total amount to be paid : {total_sum}\")"
   ]
  },
  {
   "cell_type": "code",
   "execution_count": 34,
   "id": "0c7ab5a7",
   "metadata": {},
   "outputs": [
    {
     "name": "stdout",
     "output_type": "stream",
     "text": [
      "0=0+100\n",
      "After adding  total sum=100\n",
      "-----\n",
      "100=100+200\n",
      "After adding  total sum=300\n",
      "-----\n",
      "300=300+129\n",
      "After adding  total sum=429\n",
      "-----\n",
      "429=429+456\n",
      "After adding  total sum=885\n",
      "-----\n",
      "885=885+1000\n",
      "After adding  total sum=1885\n",
      "-----\n",
      "Total amount to be paid : 1885\n"
     ]
    }
   ],
   "source": [
    "Cost_of_items=[100,200,129,456,1000]\n",
    "\n",
    "total_sum = 0\n",
    "\n",
    "for cost in Cost_of_items:\n",
    "    print(f\"{total_sum}={total_sum}+{cost}\")\n",
    "    total_sum=total_sum+cost\n",
    "    print(f\"After adding  total sum={total_sum}\")\n",
    "    print(\"-----\")\n",
    "print(f\"Total amount to be paid : {total_sum}\")"
   ]
  },
  {
   "cell_type": "code",
   "execution_count": 31,
   "id": "9c89aaa3",
   "metadata": {},
   "outputs": [
    {
     "name": "stdout",
     "output_type": "stream",
     "text": [
      "100\n",
      "200\n",
      "129\n",
      "456\n",
      "1000\n"
     ]
    }
   ],
   "source": [
    "Cost_of_items=[100,200,129,456,1000]\n",
    "\n",
    "total_sum = 0\n",
    "for cost in Cost_of_items :\n",
    "    print (cost)"
   ]
  },
  {
   "cell_type": "code",
   "execution_count": 33,
   "id": "4096b6d8",
   "metadata": {},
   "outputs": [
    {
     "name": "stdout",
     "output_type": "stream",
     "text": [
      "100\n",
      "200\n",
      "129\n",
      "456\n",
      "1000\n"
     ]
    }
   ],
   "source": [
    "Cost_of_items=[100,200,129,456,1000]\n",
    "\n",
    "total_sum = 0\n",
    "N = len(Cost_of_items)\n",
    "for i in range(0,N):\n",
    "    print(Cost_of_items[i])"
   ]
  },
  {
   "cell_type": "code",
   "execution_count": 35,
   "id": "36fe7430",
   "metadata": {},
   "outputs": [
    {
     "name": "stdout",
     "output_type": "stream",
     "text": [
      "Current station is : Station 01\n",
      "Current station is : Station 02\n",
      "Current station is : Station 03\n",
      "Current station is : Station 04\n"
     ]
    }
   ],
   "source": [
    "# Train journey\n",
    "stations= [\"Station 01\",\"Station 02\",\"Station 03\",\"Station 04\"]\n",
    "\n",
    "for current_station in stations:\n",
    "    print(f\"Current station is : {current_station}\")"
   ]
  },
  {
   "cell_type": "code",
   "execution_count": 36,
   "id": "9a0dd728",
   "metadata": {},
   "outputs": [
    {
     "name": "stdout",
     "output_type": "stream",
     "text": [
      "Current station is : Station 01\n",
      "Current station is : Station 02\n",
      "Current station is : Station 03\n",
      "Current station is : Station 04\n"
     ]
    }
   ],
   "source": [
    "# Train journey\n",
    "stations= [\"Station 01\",\"Station 02\",\"Station 03\",\"Station 04\"]\n",
    "\n",
    "for sunny in stations:\n",
    "    print(f\"Current station is : {sunny}\")"
   ]
  },
  {
   "cell_type": "markdown",
   "id": "e52f631c",
   "metadata": {},
   "source": [
    "# break statement"
   ]
  },
  {
   "cell_type": "code",
   "execution_count": 47,
   "id": "7c13004d",
   "metadata": {},
   "outputs": [
    {
     "name": "stdout",
     "output_type": "stream",
     "text": [
      "current total:100\n",
      "current total:300\n",
      "current total:429\n",
      "current total:885\n",
      "current total:1885\n",
      "current total:2084\n",
      "Since current total is more than my budget : 2000\n",
      "Please remove the last item\n",
      "Total amount to be paid : 1885\n"
     ]
    }
   ],
   "source": [
    "Cost_of_items=[100,200,129,456,1000,199,299]\n",
    "\n",
    "total_sum = 0\n",
    "budget = 2000\n",
    "\n",
    "\n",
    "for cost in Cost_of_items:\n",
    "        total_sum=total_sum+cost\n",
    "        print(f\"current total:{total_sum}\")\n",
    "        if total_sum > budget:\n",
    "            print(f\"Since current total is more than my budget : {budget}\")\n",
    "            print(\"Please remove the last item\")\n",
    "            total_sum=total_sum-cost\n",
    "            break\n",
    "                \n",
    "print(f\"Total amount to be paid : {total_sum}\")\n",
    "\n"
   ]
  },
  {
   "cell_type": "code",
   "execution_count": 44,
   "id": "2b83743e",
   "metadata": {},
   "outputs": [
    {
     "name": "stdout",
     "output_type": "stream",
     "text": [
      "1\n",
      "2\n",
      "3\n",
      "4\n",
      "5\n",
      "6\n",
      "7\n",
      "8\n",
      "9\n",
      "10\n",
      "11\n",
      "12\n",
      "13\n",
      "14\n",
      "15\n",
      "16\n",
      "17\n",
      "18\n",
      "19\n",
      "20\n",
      "21\n",
      "22\n",
      "23\n",
      "24\n",
      "25\n",
      "26\n",
      "27\n",
      "28\n",
      "29\n",
      "30\n",
      "31\n",
      "32\n",
      "33\n",
      "34\n",
      "35\n",
      "36\n",
      "37\n",
      "38\n",
      "39\n",
      "40\n",
      "41\n",
      "42\n",
      "43\n",
      "44\n",
      "45\n",
      "46\n",
      "47\n",
      "48\n",
      "49\n",
      "50\n",
      "51\n"
     ]
    }
   ],
   "source": [
    "for i in range(1,100):\n",
    "    \n",
    "    print(i)\n",
    "    if i>50:\n",
    "        break"
   ]
  },
  {
   "cell_type": "code",
   "execution_count": 52,
   "id": "eac3f0ea",
   "metadata": {},
   "outputs": [
    {
     "name": "stdout",
     "output_type": "stream",
     "text": [
      "0\n",
      "1\n",
      "2\n",
      "3\n",
      "4\n",
      "5\n",
      "6\n",
      "7\n",
      "8\n",
      "9\n",
      "10\n",
      "11\n",
      "12\n",
      "13\n",
      "14\n",
      "15\n",
      "16\n",
      "17\n",
      "18\n",
      "19\n",
      "20\n",
      "21\n",
      "22\n",
      "23\n",
      "24\n",
      "25\n",
      "26\n",
      "27\n",
      "28\n",
      "29\n",
      "30\n",
      "31\n",
      "32\n",
      "33\n",
      "34\n",
      "35\n",
      "36\n",
      "37\n",
      "38\n",
      "39\n",
      "40\n",
      "41\n",
      "42\n",
      "43\n",
      "44\n",
      "45\n",
      "46\n",
      "47\n",
      "48\n",
      "49\n",
      "50\n"
     ]
    }
   ],
   "source": [
    "for i in range(0,100):\n",
    "    if i > 50:\n",
    "        break\n",
    "    print(i)\n"
   ]
  },
  {
   "cell_type": "code",
   "execution_count": 53,
   "id": "8cc4dada",
   "metadata": {},
   "outputs": [
    {
     "name": "stdout",
     "output_type": "stream",
     "text": [
      "1\n",
      "3\n",
      "5\n",
      "7\n",
      "9\n",
      "11\n",
      "13\n",
      "15\n",
      "17\n",
      "19\n"
     ]
    }
   ],
   "source": [
    "for i in range(1,20):\n",
    "    if i%2== 0:\n",
    "        continue  # Start the loop again\n",
    "    print(i)"
   ]
  },
  {
   "cell_type": "code",
   "execution_count": 54,
   "id": "fb412146",
   "metadata": {},
   "outputs": [
    {
     "name": "stdout",
     "output_type": "stream",
     "text": [
      "1\n"
     ]
    }
   ],
   "source": [
    "for i in range(1,20):\n",
    "    if i%2== 0:\n",
    "        break # Stop the loop\n",
    "    print(i)"
   ]
  },
  {
   "cell_type": "code",
   "execution_count": 55,
   "id": "2aa498ae",
   "metadata": {},
   "outputs": [
    {
     "name": "stdout",
     "output_type": "stream",
     "text": [
      "2\n",
      "4\n",
      "6\n",
      "8\n",
      "10\n",
      "12\n",
      "14\n",
      "16\n",
      "18\n"
     ]
    }
   ],
   "source": [
    "for i in range(1,20):\n",
    "    if i%2!= 0:\n",
    "        continue  # Start the loop again\n",
    "    print(i)"
   ]
  },
  {
   "cell_type": "code",
   "execution_count": 58,
   "id": "c5e14997",
   "metadata": {},
   "outputs": [],
   "source": [
    "for i in range(1,20):\n",
    "    if i%2!= 0:\n",
    "        break # stop the loop\n",
    "    print(i)"
   ]
  },
  {
   "cell_type": "code",
   "execution_count": 59,
   "id": "023dc9a4",
   "metadata": {},
   "outputs": [
    {
     "name": "stdout",
     "output_type": "stream",
     "text": [
      "1\n",
      "2\n",
      "3\n",
      "4\n",
      "5\n",
      "6\n",
      "7\n",
      "8\n",
      "9\n",
      "10\n",
      "11\n",
      "12\n",
      "13\n",
      "14\n",
      "15\n",
      "16\n",
      "17\n",
      "18\n",
      "19\n",
      "20\n",
      "21\n",
      "22\n",
      "23\n",
      "24\n",
      "25\n",
      "26\n",
      "27\n",
      "28\n",
      "29\n",
      "30\n",
      "31\n",
      "32\n",
      "33\n",
      "34\n",
      "35\n",
      "36\n",
      "37\n",
      "38\n",
      "39\n",
      "40\n",
      "41\n",
      "42\n",
      "43\n",
      "44\n",
      "45\n",
      "46\n",
      "47\n",
      "48\n",
      "49\n",
      "50\n",
      "51\n",
      "52\n",
      "53\n",
      "54\n",
      "55\n",
      "56\n",
      "57\n",
      "58\n",
      "59\n",
      "60\n",
      "61\n",
      "62\n",
      "63\n",
      "64\n",
      "65\n",
      "66\n",
      "67\n",
      "68\n",
      "69\n",
      "70\n",
      "71\n",
      "72\n",
      "73\n",
      "74\n",
      "75\n",
      "76\n",
      "77\n",
      "78\n",
      "79\n",
      "80\n",
      "81\n",
      "82\n",
      "83\n",
      "84\n",
      "85\n",
      "86\n",
      "87\n",
      "88\n",
      "89\n",
      "90\n",
      "91\n",
      "92\n",
      "93\n",
      "94\n",
      "95\n",
      "96\n",
      "97\n",
      "98\n",
      "99\n"
     ]
    }
   ],
   "source": [
    "for i in range(1,100):\n",
    "    \n",
    "    print(i)\n",
    "    if i>50:\n",
    "        continue"
   ]
  },
  {
   "cell_type": "code",
   "execution_count": 60,
   "id": "98e09e43",
   "metadata": {},
   "outputs": [
    {
     "name": "stdout",
     "output_type": "stream",
     "text": [
      "0\n",
      "1\n",
      "2\n",
      "3\n",
      "4\n",
      "5\n",
      "6\n",
      "7\n",
      "8\n",
      "9\n",
      "10\n",
      "11\n",
      "12\n",
      "13\n",
      "14\n",
      "15\n",
      "16\n",
      "17\n",
      "18\n",
      "19\n",
      "20\n",
      "21\n",
      "22\n",
      "23\n",
      "24\n",
      "25\n",
      "26\n",
      "27\n",
      "28\n",
      "29\n",
      "30\n",
      "31\n",
      "32\n",
      "33\n",
      "34\n",
      "35\n",
      "36\n",
      "37\n",
      "38\n",
      "39\n",
      "40\n",
      "41\n",
      "42\n",
      "43\n",
      "44\n",
      "45\n",
      "46\n",
      "47\n",
      "48\n",
      "49\n",
      "50\n"
     ]
    }
   ],
   "source": [
    "for i in range(0,100):\n",
    "    if i > 50:\n",
    "        continue\n",
    "    print(i)"
   ]
  },
  {
   "cell_type": "code",
   "execution_count": 63,
   "id": "60cd619d",
   "metadata": {},
   "outputs": [
    {
     "name": "stdout",
     "output_type": "stream",
     "text": [
      "Current station is : Station 01\n",
      "Current station is : Station 02\n",
      "Current station is : Station 03\n"
     ]
    }
   ],
   "source": [
    "# Train journey\n",
    "stations= [\"Station 01\",\"Station 02\",\"Station 03\",\"Station 04\"]\n",
    "\n",
    "for current_station in stations:\n",
    "    print(f\"Current station is : {current_station}\")\n",
    "    if current_station==\"Station 03\":\n",
    "        break\n",
    " "
   ]
  },
  {
   "cell_type": "code",
   "execution_count": 64,
   "id": "252e8951",
   "metadata": {},
   "outputs": [
    {
     "name": "stdout",
     "output_type": "stream",
     "text": [
      "Current station is : Station 01\n",
      "Current station is : Station 02\n"
     ]
    }
   ],
   "source": [
    "# Train journey\n",
    "stations= [\"Station 01\",\"Station 02\",\"Station 03\",\"Station 04\"]\n",
    "\n",
    "for current_station in stations:\n",
    "    print(f\"Current station is : {current_station}\")\n",
    "    if current_station==\"Station 02\":\n",
    "        break"
   ]
  },
  {
   "cell_type": "code",
   "execution_count": 65,
   "id": "a60b3a48",
   "metadata": {},
   "outputs": [
    {
     "name": "stdout",
     "output_type": "stream",
     "text": [
      "Current station is : Station 01\n",
      "Current station is : Station 02\n",
      "Current station is : Station 04\n"
     ]
    }
   ],
   "source": [
    "# Train journey\n",
    "stations= [\"Station 01\",\"Station 02\",\"Station 03\",\"Station 04\"]\n",
    "\n",
    "for current_station in stations:\n",
    "  \n",
    "    if current_station==\"Station 03\":\n",
    "        continue\n",
    "    print(f\"Current station is : {current_station}\")\n",
    "       "
   ]
  },
  {
   "cell_type": "markdown",
   "id": "e121b447",
   "metadata": {},
   "source": [
    "break: It complely stops the loop\n",
    "\n",
    "Continue: It Skips the current loop,it skips all  the statement after 'Continue' keyword"
   ]
  },
  {
   "cell_type": "code",
   "execution_count": null,
   "id": "17b48c2f",
   "metadata": {},
   "outputs": [],
   "source": [
    "for i in range(1,10):\n",
    "    pass # I want to write code later"
   ]
  },
  {
   "cell_type": "code",
   "execution_count": 66,
   "id": "5c1d8588",
   "metadata": {},
   "outputs": [
    {
     "name": "stdout",
     "output_type": "stream",
     "text": [
      "Current station is : Station 01\n",
      "Current station is : Station 02\n",
      "Current station is : Station 03\n",
      "Current station is : Station 04\n"
     ]
    }
   ],
   "source": [
    "# Train journey\n",
    "stations= [\"Station 01\",\"Station 02\",\"Station 03\",\"Station 04\"]\n",
    "\n",
    "for current_station in stations:\n",
    "  \n",
    "    if current_station==\"Station 02\":\n",
    "        pass\n",
    "    print(f\"Current station is : {current_station}\")"
   ]
  },
  {
   "cell_type": "markdown",
   "id": "ce20346c",
   "metadata": {},
   "source": [
    "# REVISION of Todays class"
   ]
  },
  {
   "cell_type": "markdown",
   "id": "cf98db1f",
   "metadata": {},
   "source": [
    " ### if else"
   ]
  },
  {
   "cell_type": "code",
   "execution_count": 67,
   "id": "6ffba914",
   "metadata": {},
   "outputs": [
    {
     "name": "stdout",
     "output_type": "stream",
     "text": [
      "The no is even\n"
     ]
    }
   ],
   "source": [
    "num=100\n",
    "\n",
    "if num%2==0:\n",
    "    print(\"The no is even\")\n",
    "else:\n",
    "     print(\"The no is odd\")"
   ]
  },
  {
   "cell_type": "code",
   "execution_count": 70,
   "id": "9d6041ec",
   "metadata": {},
   "outputs": [
    {
     "name": "stdout",
     "output_type": "stream",
     "text": [
      "the no is in range 80 to 100\n"
     ]
    }
   ],
   "source": [
    "num=89\n",
    "\n",
    "\n",
    "if num > 100:\n",
    "    print(\"the no is greater than 100\")\n",
    "elif 80 < num <=100:\n",
    "    print(\"the no is in range 80 to 100\")\n",
    "elif 60 < num <=80:\n",
    "    print(\"the no is in range 60 to 80\")\n",
    "elif 40 < num <=60:\n",
    "    print(\"the no is in range 40 to 60\")\n",
    "else:\n",
    "    print(\"the no is less than 40\")"
   ]
  },
  {
   "cell_type": "code",
   "execution_count": 73,
   "id": "a7bdb8a5",
   "metadata": {},
   "outputs": [
    {
     "name": "stdout",
     "output_type": "stream",
     "text": [
      "Failed\n"
     ]
    }
   ],
   "source": [
    "num=35\n",
    "\n",
    "\n",
    "\n",
    "if 80 < num <=100:\n",
    "    print(\"grade A\")\n",
    "elif 60 < num <=80:\n",
    "    print(\"grade B\")\n",
    "elif 40 < num <=60:\n",
    "    print(\"grade C\")\n",
    "else:\n",
    "    print(\"Failed\")"
   ]
  },
  {
   "cell_type": "markdown",
   "id": "0aa87887",
   "metadata": {},
   "source": [
    "### Nested if else:"
   ]
  },
  {
   "cell_type": "code",
   "execution_count": 76,
   "id": "48453826",
   "metadata": {},
   "outputs": [
    {
     "name": "stdout",
     "output_type": "stream",
     "text": [
      "a is greater the all 3 nos: 120\n"
     ]
    }
   ],
   "source": [
    "a,b,c=120,13,15\n",
    "\n",
    "if a > b:\n",
    "    if a > c:\n",
    "        print(f\"a is greater the all 3 nos: {a}\")\n",
    "  "
   ]
  },
  {
   "cell_type": "code",
   "execution_count": null,
   "id": "4f1e7577",
   "metadata": {},
   "outputs": [],
   "source": [
    "# Complex conditional cases\n",
    "attendance=70\n",
    "assignment_submitted=40\n",
    "sports_player=True\n",
    "print(f\"attendance criteria met?:{attendance>=75}\")\n",
    "print(f\"attendance criteria met?:{assignment_submitted>=70}\")\n",
    "print(f\"sports criteria met?:{sports_player}\")\n",
    "\n",
    "\n",
    "if attendance>=75 and assignment_submitted>=70 :\n",
    "    if sports_player:\n",
    "        print(\"the student is eligible foe appear in final year exam\")\n",
    "    else:\n",
    "        print(\"the student is   eligible foe appear in final year exam\")\n",
    "else:\n",
    "    print(\"the student is  not eligible foe appear in final year exam\")"
   ]
  },
  {
   "cell_type": "markdown",
   "id": "b69481c3",
   "metadata": {},
   "source": [
    "## Pass"
   ]
  },
  {
   "cell_type": "code",
   "execution_count": 78,
   "id": "b25569e3",
   "metadata": {},
   "outputs": [
    {
     "ename": "IndentationError",
     "evalue": "expected an indented block (626226076.py, line 3)",
     "output_type": "error",
     "traceback": [
      "\u001b[1;36m  Input \u001b[1;32mIn [78]\u001b[1;36m\u001b[0m\n\u001b[1;33m    print(\"Hello\")\u001b[0m\n\u001b[1;37m    ^\u001b[0m\n\u001b[1;31mIndentationError\u001b[0m\u001b[1;31m:\u001b[0m expected an indented block\n"
     ]
    }
   ],
   "source": [
    "for i in range (0,11):\n",
    "\n",
    "print(\"Hello\")"
   ]
  },
  {
   "cell_type": "code",
   "execution_count": 79,
   "id": "e893af0c",
   "metadata": {},
   "outputs": [
    {
     "name": "stdout",
     "output_type": "stream",
     "text": [
      "Hello\n"
     ]
    }
   ],
   "source": [
    "for i in range (0,11):\n",
    "    pass\n",
    "\n",
    "print(\"Hello\")"
   ]
  },
  {
   "cell_type": "code",
   "execution_count": null,
   "id": "4551c401",
   "metadata": {},
   "outputs": [],
   "source": []
  }
 ],
 "metadata": {
  "kernelspec": {
   "display_name": "Python 3 (ipykernel)",
   "language": "python",
   "name": "python3"
  },
  "language_info": {
   "codemirror_mode": {
    "name": "ipython",
    "version": 3
   },
   "file_extension": ".py",
   "mimetype": "text/x-python",
   "name": "python",
   "nbconvert_exporter": "python",
   "pygments_lexer": "ipython3",
   "version": "3.9.12"
  }
 },
 "nbformat": 4,
 "nbformat_minor": 5
}
