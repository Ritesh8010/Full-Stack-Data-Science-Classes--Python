{
 "cells": [
  {
   "cell_type": "code",
   "execution_count": 1,
   "id": "67740f74",
   "metadata": {},
   "outputs": [],
   "source": [
    "_num=10 # hidden variable"
   ]
  },
  {
   "cell_type": "markdown",
   "id": "b79d95fe",
   "metadata": {},
   "source": [
    "# AGENDA\n",
    "Variable Case senstivity\n",
    "Reserved words in Python\n",
    "Multi assignment of variables\n",
    "User input\n",
    "type casting | type conversion\n",
    "Memory block\n",
    "Operators\n",
    "- Logical\n",
    "- Equality\n",
    "- Comparison\n",
    "- Arithmetic\n",
    "-Bitwise [advance classes]\n",
    "-Operators for sets and dictionary [advance classes]\n",
    "String Method"
   ]
  },
  {
   "cell_type": "markdown",
   "id": "27b14732",
   "metadata": {},
   "source": [
    "# Variable Case Sensitivity\n",
    "\n",
    "variables name defined as\n",
    "\n",
    "Ashish =\"India\"\n",
    "ashish =\"US\""
   ]
  },
  {
   "cell_type": "code",
   "execution_count": 3,
   "id": "7e514a93",
   "metadata": {},
   "outputs": [],
   "source": [
    "TEN =10\n",
    "ten= 20\n",
    "# TEN and ten both are different in terms of lowercase and upper case  letter\n",
    "\n"
   ]
  },
  {
   "cell_type": "code",
   "execution_count": 2,
   "id": "f460d09a",
   "metadata": {},
   "outputs": [
    {
     "ename": "NameError",
     "evalue": "name 'Ten' is not defined",
     "output_type": "error",
     "traceback": [
      "\u001b[1;31m---------------------------------------------------------------------------\u001b[0m",
      "\u001b[1;31mNameError\u001b[0m                                 Traceback (most recent call last)",
      "Input \u001b[1;32mIn [2]\u001b[0m, in \u001b[0;36m<cell line: 1>\u001b[1;34m()\u001b[0m\n\u001b[1;32m----> 1\u001b[0m \u001b[38;5;28mprint\u001b[39m(\u001b[43mTen\u001b[49m)\n",
      "\u001b[1;31mNameError\u001b[0m: name 'Ten' is not defined"
     ]
    }
   ],
   "source": [
    "print(Ten)"
   ]
  },
  {
   "cell_type": "code",
   "execution_count": 4,
   "id": "8f7123de",
   "metadata": {},
   "outputs": [
    {
     "data": {
      "text/plain": [
       "10"
      ]
     },
     "execution_count": 4,
     "metadata": {},
     "output_type": "execute_result"
    }
   ],
   "source": [
    "TEN"
   ]
  },
  {
   "cell_type": "markdown",
   "id": "6d479d8a",
   "metadata": {},
   "source": [
    "# Reserved words in Python\n",
    "https://realpython.com/lessons/reserved-keywords/"
   ]
  },
  {
   "cell_type": "markdown",
   "id": "faf2069d",
   "metadata": {},
   "source": [
    "WE should not use reserved words as variable names\n",
    "Also python doesn't restrict the user to use reserved keywords as varibale names"
   ]
  },
  {
   "cell_type": "code",
   "execution_count": 5,
   "id": "c42a31ba",
   "metadata": {},
   "outputs": [
    {
     "name": "stdout",
     "output_type": "stream",
     "text": [
      "Hi there\n"
     ]
    }
   ],
   "source": [
    "print(\"Hi there\")"
   ]
  },
  {
   "cell_type": "code",
   "execution_count": 3,
   "id": "b8f32357",
   "metadata": {},
   "outputs": [
    {
     "data": {
      "text/plain": [
       "str"
      ]
     },
     "execution_count": 3,
     "metadata": {},
     "output_type": "execute_result"
    }
   ],
   "source": [
    "print=\"Hi there\" # as a variable\n",
    "type (print)"
   ]
  },
  {
   "cell_type": "code",
   "execution_count": 4,
   "id": "7cb2c1a1",
   "metadata": {},
   "outputs": [],
   "source": [
    "del print   # delete the variable print"
   ]
  },
  {
   "cell_type": "code",
   "execution_count": 5,
   "id": "f3bfdbf6",
   "metadata": {},
   "outputs": [
    {
     "name": "stdout",
     "output_type": "stream",
     "text": [
      "Hi there\n"
     ]
    }
   ],
   "source": [
    "print(\"Hi there\")"
   ]
  },
  {
   "cell_type": "code",
   "execution_count": 23,
   "id": "0e0d4763",
   "metadata": {},
   "outputs": [],
   "source": [
    "print=10\n"
   ]
  },
  {
   "cell_type": "code",
   "execution_count": 24,
   "id": "dbd55bd2",
   "metadata": {},
   "outputs": [
    {
     "data": {
      "text/plain": [
       "int"
      ]
     },
     "execution_count": 24,
     "metadata": {},
     "output_type": "execute_result"
    }
   ],
   "source": [
    "type(print)"
   ]
  },
  {
   "cell_type": "code",
   "execution_count": 26,
   "id": "56879095",
   "metadata": {},
   "outputs": [],
   "source": [
    "del print"
   ]
  },
  {
   "cell_type": "code",
   "execution_count": 27,
   "id": "6b2a34f0",
   "metadata": {},
   "outputs": [
    {
     "name": "stdout",
     "output_type": "stream",
     "text": [
      "Sunny\n"
     ]
    }
   ],
   "source": [
    "print(\"Sunny\")"
   ]
  },
  {
   "cell_type": "markdown",
   "id": "f4ed486c",
   "metadata": {},
   "source": [
    "# Multi assignment of variables"
   ]
  },
  {
   "cell_type": "code",
   "execution_count": 13,
   "id": "656bb200",
   "metadata": {},
   "outputs": [],
   "source": [
    "a,b,c,yes=10,20,\"Sunny\",True"
   ]
  },
  {
   "cell_type": "code",
   "execution_count": 9,
   "id": "dd46090c",
   "metadata": {},
   "outputs": [
    {
     "data": {
      "text/plain": [
       "int"
      ]
     },
     "execution_count": 9,
     "metadata": {},
     "output_type": "execute_result"
    }
   ],
   "source": [
    "type(a)"
   ]
  },
  {
   "cell_type": "code",
   "execution_count": 10,
   "id": "03b294e5",
   "metadata": {},
   "outputs": [
    {
     "data": {
      "text/plain": [
       "int"
      ]
     },
     "execution_count": 10,
     "metadata": {},
     "output_type": "execute_result"
    }
   ],
   "source": [
    "type(b)"
   ]
  },
  {
   "cell_type": "code",
   "execution_count": 11,
   "id": "1b66d14d",
   "metadata": {},
   "outputs": [
    {
     "data": {
      "text/plain": [
       "str"
      ]
     },
     "execution_count": 11,
     "metadata": {},
     "output_type": "execute_result"
    }
   ],
   "source": [
    "type(c)"
   ]
  },
  {
   "cell_type": "code",
   "execution_count": 14,
   "id": "b5fff1d8",
   "metadata": {},
   "outputs": [
    {
     "data": {
      "text/plain": [
       "bool"
      ]
     },
     "execution_count": 14,
     "metadata": {},
     "output_type": "execute_result"
    }
   ],
   "source": [
    "type(yes)"
   ]
  },
  {
   "cell_type": "code",
   "execution_count": 15,
   "id": "891fd4dd",
   "metadata": {},
   "outputs": [
    {
     "ename": "TypeError",
     "evalue": "cannot unpack non-iterable int object",
     "output_type": "error",
     "traceback": [
      "\u001b[1;31m---------------------------------------------------------------------------\u001b[0m",
      "\u001b[1;31mTypeError\u001b[0m                                 Traceback (most recent call last)",
      "Input \u001b[1;32mIn [15]\u001b[0m, in \u001b[0;36m<cell line: 1>\u001b[1;34m()\u001b[0m\n\u001b[1;32m----> 1\u001b[0m a,b,c\u001b[38;5;241m=\u001b[39m\u001b[38;5;241m10\u001b[39m\n",
      "\u001b[1;31mTypeError\u001b[0m: cannot unpack non-iterable int object"
     ]
    }
   ],
   "source": [
    "a,b,c=10"
   ]
  },
  {
   "cell_type": "code",
   "execution_count": 16,
   "id": "efdf1b62",
   "metadata": {},
   "outputs": [
    {
     "data": {
      "text/plain": [
       "bool"
      ]
     },
     "execution_count": 16,
     "metadata": {},
     "output_type": "execute_result"
    }
   ],
   "source": [
    "type(a)\n",
    "type(b)\n",
    "type(c)\n",
    "type(yes)"
   ]
  },
  {
   "cell_type": "code",
   "execution_count": 17,
   "id": "d5d4b72d",
   "metadata": {},
   "outputs": [
    {
     "name": "stdout",
     "output_type": "stream",
     "text": [
      "<class 'int'>\n",
      "<class 'int'>\n",
      "<class 'str'>\n",
      "<class 'bool'>\n"
     ]
    }
   ],
   "source": [
    "print (type(a))\n",
    "print (type(b))\n",
    "print (type(c))\n",
    "print (type(yes))"
   ]
  },
  {
   "cell_type": "code",
   "execution_count": 18,
   "id": "9beb9efd",
   "metadata": {},
   "outputs": [],
   "source": [
    "a,b,c=10,10,10"
   ]
  },
  {
   "cell_type": "code",
   "execution_count": 20,
   "id": "5454d72f",
   "metadata": {},
   "outputs": [],
   "source": [
    "a,A,c,C=10,20.2,\"Sunny\",True"
   ]
  },
  {
   "cell_type": "code",
   "execution_count": 21,
   "id": "a75e3fb7",
   "metadata": {},
   "outputs": [
    {
     "name": "stdout",
     "output_type": "stream",
     "text": [
      "10 20.2 Sunny True\n"
     ]
    }
   ],
   "source": [
    "print(a,A,c,C)"
   ]
  },
  {
   "cell_type": "code",
   "execution_count": 22,
   "id": "b4302832",
   "metadata": {},
   "outputs": [],
   "source": [
    "a=b=c=10"
   ]
  },
  {
   "cell_type": "code",
   "execution_count": 23,
   "id": "3564ee2d",
   "metadata": {},
   "outputs": [
    {
     "data": {
      "text/plain": [
       "(10, 10, 10)"
      ]
     },
     "execution_count": 23,
     "metadata": {},
     "output_type": "execute_result"
    }
   ],
   "source": [
    "a,b,c"
   ]
  },
  {
   "cell_type": "code",
   "execution_count": 28,
   "id": "dd8ece5f",
   "metadata": {},
   "outputs": [],
   "source": [
    "firstName,middleName,sirName=\"Sunny\",\"Bhaveen\",\"Chandra\""
   ]
  },
  {
   "cell_type": "code",
   "execution_count": 29,
   "id": "7cdc3272",
   "metadata": {},
   "outputs": [
    {
     "name": "stdout",
     "output_type": "stream",
     "text": [
      "Sunny.Chandra@gmail.com\n"
     ]
    }
   ],
   "source": [
    "print(f\"{firstName}.{sirName}@gmail.com\")"
   ]
  },
  {
   "cell_type": "code",
   "execution_count": 30,
   "id": "153d6276",
   "metadata": {},
   "outputs": [],
   "source": [
    "name,place,year_of_birth,weight=\"Sunny\",\"Bengaluru\",1991,80.88"
   ]
  },
  {
   "cell_type": "code",
   "execution_count": 32,
   "id": "86e5aca2",
   "metadata": {},
   "outputs": [
    {
     "name": "stdout",
     "output_type": "stream",
     "text": [
      "Sunny Bengaluru 1991 80.88\n"
     ]
    }
   ],
   "source": [
    "print(name,place,year_of_birth,weight)"
   ]
  },
  {
   "cell_type": "code",
   "execution_count": 33,
   "id": "c11f7002",
   "metadata": {},
   "outputs": [
    {
     "name": "stdout",
     "output_type": "stream",
     "text": [
      "My name is :Sunny\n",
      "I live at : Bengaluru\n",
      "I was born in:1991\n",
      "My weight is :80.88 in Kgs\n",
      "\n"
     ]
    }
   ],
   "source": [
    "print(f\"\"\"My name is :{name}\n",
    "I live at : {place}\n",
    "I was born in:{year_of_birth}\n",
    "My weight is :{weight} in Kgs\n",
    "\"\"\")"
   ]
  },
  {
   "cell_type": "markdown",
   "id": "3ac649b2",
   "metadata": {},
   "source": [
    "## User input"
   ]
  },
  {
   "cell_type": "code",
   "execution_count": 26,
   "id": "71d31a0d",
   "metadata": {},
   "outputs": [
    {
     "name": "stdout",
     "output_type": "stream",
     "text": [
      "Enter your Name: Sunny\n",
      "You have entered :Sunny\n"
     ]
    }
   ],
   "source": [
    "name= input(\"Enter your Name: \")\n",
    "print(f\"You have entered :{name}\")"
   ]
  },
  {
   "cell_type": "code",
   "execution_count": 27,
   "id": "5f62e88d",
   "metadata": {},
   "outputs": [
    {
     "name": "stdout",
     "output_type": "stream",
     "text": [
      "Entervalue of A : 12\n",
      "Enter value of B: 10\n",
      "Sum of A & B is : 1210\n"
     ]
    }
   ],
   "source": [
    "A= input(\"Entervalue of A : \")\n",
    "B=input(\"Enter value of B: \")\n",
    "\n",
    "print(f\"Sum of A & B is : {A+B}\")"
   ]
  },
  {
   "cell_type": "code",
   "execution_count": 28,
   "id": "aaf1ae32",
   "metadata": {},
   "outputs": [
    {
     "name": "stdout",
     "output_type": "stream",
     "text": [
      "Entervalue of A : 12\n",
      "Enter value of B: 10\n",
      "<class 'str'> <class 'str'>\n",
      "Sum of A & B is : 1210\n"
     ]
    }
   ],
   "source": [
    "A= input(\"Entervalue of A : \")\n",
    "B=input(\"Enter value of B: \")\n",
    "print(type(A),type(B))\n",
    "print(f\"Sum of A & B is : {A+B}\")"
   ]
  },
  {
   "cell_type": "code",
   "execution_count": 36,
   "id": "3b69d207",
   "metadata": {},
   "outputs": [
    {
     "name": "stdout",
     "output_type": "stream",
     "text": [
      "Name: Bhaven\n",
      "place: Lucknow\n",
      "year_of_birth: 1996\n"
     ]
    }
   ],
   "source": [
    "name=  input(\"Name: \")\n",
    "place=input(\"place: \")\n",
    "year_of_birth=input(\"year_of_birth: \")\n"
   ]
  },
  {
   "cell_type": "code",
   "execution_count": 37,
   "id": "bc47d6f6",
   "metadata": {},
   "outputs": [
    {
     "name": "stdout",
     "output_type": "stream",
     "text": [
      "\n",
      "My name is :Bhaven\n",
      "I live at : Lucknow\n",
      "I was born in:1996\n",
      "\n",
      "\n"
     ]
    }
   ],
   "source": [
    "print(f\"\"\"\n",
    "My name is :{name}\n",
    "I live at : {place}\n",
    "I was born in:{year_of_birth}\n",
    "\n",
    "\"\"\")"
   ]
  },
  {
   "cell_type": "code",
   "execution_count": 39,
   "id": "bfb009fb",
   "metadata": {},
   "outputs": [
    {
     "name": "stdout",
     "output_type": "stream",
     "text": [
      "Name: Sunny\n",
      "place: Blr\n",
      "year_of_birth: 1991\n"
     ]
    },
    {
     "ename": "TypeError",
     "evalue": "unsupported operand type(s) for -: 'int' and 'str'",
     "output_type": "error",
     "traceback": [
      "\u001b[1;31m---------------------------------------------------------------------------\u001b[0m",
      "\u001b[1;31mTypeError\u001b[0m                                 Traceback (most recent call last)",
      "Input \u001b[1;32mIn [39]\u001b[0m, in \u001b[0;36m<cell line: 6>\u001b[1;34m()\u001b[0m\n\u001b[0;32m      3\u001b[0m place\u001b[38;5;241m=\u001b[39m\u001b[38;5;28minput\u001b[39m(\u001b[38;5;124m\"\u001b[39m\u001b[38;5;124mplace: \u001b[39m\u001b[38;5;124m\"\u001b[39m)\n\u001b[0;32m      4\u001b[0m year_of_birth\u001b[38;5;241m=\u001b[39m\u001b[38;5;28minput\u001b[39m(\u001b[38;5;124m\"\u001b[39m\u001b[38;5;124myear_of_birth: \u001b[39m\u001b[38;5;124m\"\u001b[39m)\n\u001b[1;32m----> 6\u001b[0m age\u001b[38;5;241m=\u001b[39m\u001b[38;5;241;43m2022\u001b[39;49m\u001b[38;5;241;43m-\u001b[39;49m\u001b[43myear_of_birth\u001b[49m\n",
      "\u001b[1;31mTypeError\u001b[0m: unsupported operand type(s) for -: 'int' and 'str'"
     ]
    }
   ],
   "source": [
    "# Calculate the age of the user\n",
    "name=  input(\"Name: \") # input always gives you string\n",
    "place=input(\"place: \")\n",
    "year_of_birth=input(\"year_of_birth: \")\n",
    "\n",
    "age=2022-year_of_birth"
   ]
  },
  {
   "cell_type": "code",
   "execution_count": 42,
   "id": "dd15f6ec",
   "metadata": {},
   "outputs": [
    {
     "name": "stdout",
     "output_type": "stream",
     "text": [
      "Name: Ritesh\n",
      "place: Bihar\n",
      "year_of_birth: 1998\n",
      "\n",
      "My name is :Ritesh\n",
      "I live at : Bihar\n",
      "Ritesh is of age : 24\n",
      "\n",
      "\n"
     ]
    }
   ],
   "source": [
    "# Calculate the age of the user\n",
    "name=  input(\"Name: \") # input always gives you string\n",
    "place=input(\"place: \")\n",
    "year_of_birth=int(input(\"year_of_birth: \"))\n",
    "\n",
    "age=2022-year_of_birth\n",
    "print(f\"\"\"\n",
    "My name is :{name}\n",
    "I live at : {place}\n",
    "{name} is of age : {age}\n",
    "\n",
    "\"\"\")"
   ]
  },
  {
   "cell_type": "code",
   "execution_count": 41,
   "id": "c4e25b44",
   "metadata": {},
   "outputs": [
    {
     "name": "stdout",
     "output_type": "stream",
     "text": [
      "\n",
      "My name is :sunny\n",
      "I live at : Blr\n",
      "sunny is of age : 24\n",
      "\n",
      "\n"
     ]
    }
   ],
   "source": [
    "print(f\"\"\"\n",
    "My name is :{name}\n",
    "I live at : {place}\n",
    "{name} is of age : {age}\n",
    "\n",
    "\"\"\")"
   ]
  },
  {
   "cell_type": "code",
   "execution_count": 43,
   "id": "adf5ae84",
   "metadata": {},
   "outputs": [
    {
     "name": "stdout",
     "output_type": "stream",
     "text": [
      "Name: Ritesh\n",
      "place: Chapra Bihar\n",
      "year_of_birth: 1998\n",
      "current_year :2022\n",
      "\n",
      "My name is :Ritesh\n",
      "I live at : Chapra Bihar\n",
      "Ritesh is of age : 24\n",
      "\n",
      "\n"
     ]
    }
   ],
   "source": [
    "# Calculate the age of the user\n",
    "name=  input(\"Name: \") # input always gives you string\n",
    "place=input(\"place: \")\n",
    "year_of_birth=int(input(\"year_of_birth: \"))\n",
    "current_year= int(input(\"current_year :\"))\n",
    "\n",
    "age=current_year-year_of_birth\n",
    "print(f\"\"\"\n",
    "My name is :{name}\n",
    "I live at : {place}\n",
    "{name} is of age : {age}\n",
    "\n",
    "\"\"\")"
   ]
  },
  {
   "cell_type": "markdown",
   "id": "2712bff5",
   "metadata": {},
   "source": [
    "# Type Conversion\n",
    "we can convert the data type of one variable into another if it is allowed"
   ]
  },
  {
   "cell_type": "code",
   "execution_count": 29,
   "id": "bdb976c7",
   "metadata": {},
   "outputs": [
    {
     "name": "stdout",
     "output_type": "stream",
     "text": [
      "Entervalue of A : 12\n",
      "Enter value of B: 10\n",
      "<class 'int'> <class 'int'>\n",
      "Sum of A & B is : 22\n"
     ]
    }
   ],
   "source": [
    "A= int(input(\"Entervalue of A : \"))\n",
    "B=int(input(\"Enter value of B: \"))\n",
    "print(type(A),type(B))\n",
    "print(f\"Sum of A & B is : {A+B}\")"
   ]
  },
  {
   "cell_type": "code",
   "execution_count": 31,
   "id": "f72cdb98",
   "metadata": {},
   "outputs": [
    {
     "name": "stdout",
     "output_type": "stream",
     "text": [
      "Entervalue of A : 12.2\n",
      "Enter value of B: 10.2\n",
      "<class 'float'> <class 'float'>\n",
      "Sum of A & B is : 22.4\n"
     ]
    }
   ],
   "source": [
    "A= float(input(\"Entervalue of A : \"))\n",
    "B=float(input(\"Enter value of B: \"))\n",
    "print(type(A),type(B))\n",
    "print(f\"Sum of A & B is : {A+B}\")"
   ]
  },
  {
   "cell_type": "code",
   "execution_count": 34,
   "id": "47f6196a",
   "metadata": {},
   "outputs": [
    {
     "name": "stdout",
     "output_type": "stream",
     "text": [
      "Entervalue of A : 12.2\n",
      "Enter value of B: 9\n",
      "<class 'float'> <class 'int'>\n",
      "Sum of A & B is : 21.2\n"
     ]
    }
   ],
   "source": [
    "A= float(input(\"Entervalue of A : \"))\n",
    "B=int(input(\"Enter value of B: \"))\n",
    "print(type(A),type(B))\n",
    "print(f\"Sum of A & B is : {A+B}\")"
   ]
  },
  {
   "cell_type": "code",
   "execution_count": 10,
   "id": "4faa38fb",
   "metadata": {},
   "outputs": [
    {
     "name": "stdout",
     "output_type": "stream",
     "text": [
      "data type before : <class 'str'>, value of A: 50 \n",
      "data type after:<class 'int'>,value of A: 50\n"
     ]
    }
   ],
   "source": [
    "# String to integer\n",
    "A=\"50\"\n",
    "print(f\"data type before : {type(A)}, value of A: {A} \")\n",
    "A= int(A)\n",
    "print(f\"data type after:{type(A)},value of A: {A}\")"
   ]
  },
  {
   "cell_type": "code",
   "execution_count": 11,
   "id": "fbec05fb",
   "metadata": {},
   "outputs": [
    {
     "name": "stdout",
     "output_type": "stream",
     "text": [
      "data type before : <class 'str'>,value of A: 50.22\n"
     ]
    },
    {
     "ename": "ValueError",
     "evalue": "invalid literal for int() with base 10: '50.22'",
     "output_type": "error",
     "traceback": [
      "\u001b[1;31m---------------------------------------------------------------------------\u001b[0m",
      "\u001b[1;31mValueError\u001b[0m                                Traceback (most recent call last)",
      "Input \u001b[1;32mIn [11]\u001b[0m, in \u001b[0;36m<cell line: 4>\u001b[1;34m()\u001b[0m\n\u001b[0;32m      2\u001b[0m A\u001b[38;5;241m=\u001b[39m\u001b[38;5;124m\"\u001b[39m\u001b[38;5;124m50.22\u001b[39m\u001b[38;5;124m\"\u001b[39m\u001b[38;5;66;03m# entering float value\u001b[39;00m\n\u001b[0;32m      3\u001b[0m \u001b[38;5;28mprint\u001b[39m(\u001b[38;5;124mf\u001b[39m\u001b[38;5;124m\"\u001b[39m\u001b[38;5;124mdata type before : \u001b[39m\u001b[38;5;132;01m{\u001b[39;00m\u001b[38;5;28mtype\u001b[39m(A)\u001b[38;5;132;01m}\u001b[39;00m\u001b[38;5;124m,value of A: \u001b[39m\u001b[38;5;132;01m{\u001b[39;00mA\u001b[38;5;132;01m}\u001b[39;00m\u001b[38;5;124m\"\u001b[39m)\n\u001b[1;32m----> 4\u001b[0m A\u001b[38;5;241m=\u001b[39m \u001b[38;5;28;43mint\u001b[39;49m\u001b[43m(\u001b[49m\u001b[43mA\u001b[49m\u001b[43m)\u001b[49m \u001b[38;5;66;03m# trying to convert it into integer\u001b[39;00m\n\u001b[0;32m      5\u001b[0m \u001b[38;5;28mprint\u001b[39m(\u001b[38;5;124mf\u001b[39m\u001b[38;5;124m\"\u001b[39m\u001b[38;5;124mdata type after:\u001b[39m\u001b[38;5;132;01m{\u001b[39;00m\u001b[38;5;28mtype\u001b[39m(A)\u001b[38;5;132;01m}\u001b[39;00m\u001b[38;5;124m,value of A: \u001b[39m\u001b[38;5;132;01m{\u001b[39;00mA\u001b[38;5;132;01m}\u001b[39;00m\u001b[38;5;124m\"\u001b[39m)\n",
      "\u001b[1;31mValueError\u001b[0m: invalid literal for int() with base 10: '50.22'"
     ]
    }
   ],
   "source": [
    "# String to integer\n",
    "A=\"50.22\"# entering float value\n",
    "print(f\"data type before : {type(A)},value of A: {A}\")\n",
    "A= int(A) # trying to convert it into integer\n",
    "print(f\"data type after:{type(A)},value of A: {A}\")"
   ]
  },
  {
   "cell_type": "code",
   "execution_count": 12,
   "id": "62306b64",
   "metadata": {},
   "outputs": [
    {
     "name": "stdout",
     "output_type": "stream",
     "text": [
      "data type before : <class 'float'>,value of A: 50.22\n",
      "data type after:<class 'int'>,value of A: 50\n"
     ]
    }
   ],
   "source": [
    "# float to integer\n",
    "A= 50.22 # entering float value\n",
    "print(f\"data type before : {type(A)},value of A: {A}\")\n",
    "A= int(A) # trying to convert it into integer\n",
    "print(f\"data type after:{type(A)},value of A: {A}\")"
   ]
  },
  {
   "cell_type": "code",
   "execution_count": 14,
   "id": "00eefd37",
   "metadata": {},
   "outputs": [
    {
     "name": "stdout",
     "output_type": "stream",
     "text": [
      "data type before : <class 'int'>,value of A: 50\n",
      "data type after:<class 'float'>,value of A: 50.0\n"
     ]
    }
   ],
   "source": [
    "# integer to float\n",
    "A= 50 # entering int value\n",
    "print(f\"data type before : {type(A)},value of A: {A}\")\n",
    "A= float(A) # trying to convert it into float\n",
    "print(f\"data type after:{type(A)},value of A: {A}\")"
   ]
  },
  {
   "cell_type": "code",
   "execution_count": 15,
   "id": "ec23d094",
   "metadata": {},
   "outputs": [
    {
     "name": "stdout",
     "output_type": "stream",
     "text": [
      "data type before : <class 'int'>,value of A: 10\n",
      "data type after:<class 'bool'>,value of A: True\n"
     ]
    }
   ],
   "source": [
    "# integer to boolean\n",
    "A= 10\n",
    "print(f\"data type before : {type(A)},value of A: {A}\")\n",
    "A= bool(A) \n",
    "print(f\"data type after:{type(A)},value of A: {A}\")"
   ]
  },
  {
   "cell_type": "code",
   "execution_count": null,
   "id": "b7cae212",
   "metadata": {},
   "outputs": [],
   "source": [
    "# True in binary - 1\n",
    "# False in binary - 0"
   ]
  },
  {
   "cell_type": "code",
   "execution_count": 16,
   "id": "d435b541",
   "metadata": {},
   "outputs": [
    {
     "name": "stdout",
     "output_type": "stream",
     "text": [
      "data type before : <class 'int'>,value of A: 0\n",
      "data type after:<class 'bool'>,value of A: False\n"
     ]
    }
   ],
   "source": [
    "# integer to boolean\n",
    "A= 0\n",
    "print(f\"data type before : {type(A)},value of A: {A}\")\n",
    "A= bool(A) \n",
    "print(f\"data type after:{type(A)},value of A: {A}\")"
   ]
  },
  {
   "cell_type": "code",
   "execution_count": 17,
   "id": "d75b8638",
   "metadata": {
    "scrolled": true
   },
   "outputs": [
    {
     "name": "stdout",
     "output_type": "stream",
     "text": [
      "data type before : <class 'int'>,value of A: -5\n",
      "data type after:<class 'bool'>,value of A: True\n"
     ]
    }
   ],
   "source": [
    "# integer to boolean\n",
    "A= -5\n",
    "print(f\"data type before : {type(A)},value of A: {A}\")\n",
    "A= bool(A) \n",
    "print(f\"data type after:{type(A)},value of A: {A}\")"
   ]
  },
  {
   "cell_type": "code",
   "execution_count": null,
   "id": "35629d16",
   "metadata": {},
   "outputs": [],
   "source": [
    "# Converting  any non Zero number and string values into boolean will give TRUE  as an answer\n",
    " # Empty string will give FALSE as an answer after converting string into boolean"
   ]
  },
  {
   "cell_type": "code",
   "execution_count": 18,
   "id": "76b8e7fb",
   "metadata": {},
   "outputs": [
    {
     "name": "stdout",
     "output_type": "stream",
     "text": [
      "data type before : <class 'str'>,value of A: Sunny\n",
      "data type after:<class 'bool'>,value of A: True\n"
     ]
    }
   ],
   "source": [
    "# string  to boolean\n",
    "A= \"Sunny\"\n",
    "print(f\"data type before : {type(A)},value of A: {A}\")\n",
    "A= bool(A) \n",
    "print(f\"data type after:{type(A)},value of A: {A}\")"
   ]
  },
  {
   "cell_type": "code",
   "execution_count": 19,
   "id": "fd3c5523",
   "metadata": {},
   "outputs": [
    {
     "name": "stdout",
     "output_type": "stream",
     "text": [
      "data type before : <class 'str'>,value of A: True\n",
      "data type after:<class 'bool'>,value of A: True\n"
     ]
    }
   ],
   "source": [
    "# string  to boolean\n",
    "A= \"True\"\n",
    "print(f\"data type before : {type(A)},value of A: {A}\")\n",
    "A= bool(A) \n",
    "print(f\"data type after:{type(A)},value of A: {A}\")"
   ]
  },
  {
   "cell_type": "code",
   "execution_count": 20,
   "id": "7f36e05d",
   "metadata": {},
   "outputs": [
    {
     "name": "stdout",
     "output_type": "stream",
     "text": [
      "data type before : <class 'str'>,value of A: False\n",
      "data type after:<class 'bool'>,value of A: True\n"
     ]
    }
   ],
   "source": [
    "# string  to boolean\n",
    "A= \"False\"\n",
    "print(f\"data type before : {type(A)},value of A: {A}\")\n",
    "A= bool(A) \n",
    "print(f\"data type after:{type(A)},value of A: {A}\")"
   ]
  },
  {
   "cell_type": "code",
   "execution_count": 21,
   "id": "af163689",
   "metadata": {},
   "outputs": [
    {
     "name": "stdout",
     "output_type": "stream",
     "text": [
      "data type before : <class 'str'>,value of A: \n",
      "data type after:<class 'bool'>,value of A: False\n"
     ]
    }
   ],
   "source": [
    "# empty string  to boolean\n",
    "A= \"\"\n",
    "print(f\"data type before : {type(A)},value of A: {A}\")\n",
    "A= bool(A) \n",
    "print(f\"data type after:{type(A)},value of A: {A}\")"
   ]
  },
  {
   "cell_type": "code",
   "execution_count": 22,
   "id": "8b01a367",
   "metadata": {},
   "outputs": [
    {
     "name": "stdout",
     "output_type": "stream",
     "text": [
      "data type before : <class 'str'>,value of A: \n"
     ]
    },
    {
     "ename": "ValueError",
     "evalue": "invalid literal for int() with base 10: ''",
     "output_type": "error",
     "traceback": [
      "\u001b[1;31m---------------------------------------------------------------------------\u001b[0m",
      "\u001b[1;31mValueError\u001b[0m                                Traceback (most recent call last)",
      "Input \u001b[1;32mIn [22]\u001b[0m, in \u001b[0;36m<cell line: 4>\u001b[1;34m()\u001b[0m\n\u001b[0;32m      2\u001b[0m A\u001b[38;5;241m=\u001b[39m \u001b[38;5;124m\"\u001b[39m\u001b[38;5;124m\"\u001b[39m\n\u001b[0;32m      3\u001b[0m \u001b[38;5;28mprint\u001b[39m(\u001b[38;5;124mf\u001b[39m\u001b[38;5;124m\"\u001b[39m\u001b[38;5;124mdata type before : \u001b[39m\u001b[38;5;132;01m{\u001b[39;00m\u001b[38;5;28mtype\u001b[39m(A)\u001b[38;5;132;01m}\u001b[39;00m\u001b[38;5;124m,value of A: \u001b[39m\u001b[38;5;132;01m{\u001b[39;00mA\u001b[38;5;132;01m}\u001b[39;00m\u001b[38;5;124m\"\u001b[39m)\n\u001b[1;32m----> 4\u001b[0m A\u001b[38;5;241m=\u001b[39m \u001b[38;5;28;43mint\u001b[39;49m\u001b[43m(\u001b[49m\u001b[43mA\u001b[49m\u001b[43m)\u001b[49m \n\u001b[0;32m      5\u001b[0m \u001b[38;5;28mprint\u001b[39m(\u001b[38;5;124mf\u001b[39m\u001b[38;5;124m\"\u001b[39m\u001b[38;5;124mdata type after:\u001b[39m\u001b[38;5;132;01m{\u001b[39;00m\u001b[38;5;28mtype\u001b[39m(A)\u001b[38;5;132;01m}\u001b[39;00m\u001b[38;5;124m,value of A: \u001b[39m\u001b[38;5;132;01m{\u001b[39;00mA\u001b[38;5;132;01m}\u001b[39;00m\u001b[38;5;124m\"\u001b[39m)\n",
      "\u001b[1;31mValueError\u001b[0m: invalid literal for int() with base 10: ''"
     ]
    }
   ],
   "source": [
    "# empty string  to integer\n",
    "A= \"\"\n",
    "print(f\"data type before : {type(A)},value of A: {A}\")\n",
    "A= int(A) \n",
    "print(f\"data type after:{type(A)},value of A: {A}\")"
   ]
  },
  {
   "cell_type": "code",
   "execution_count": 44,
   "id": "fc55d1f6",
   "metadata": {},
   "outputs": [
    {
     "name": "stdout",
     "output_type": "stream",
     "text": [
      "Entervalue of A : 10\n",
      "Enter value of B: 10.2\n"
     ]
    },
    {
     "ename": "ValueError",
     "evalue": "invalid literal for int() with base 10: '10.2'",
     "output_type": "error",
     "traceback": [
      "\u001b[1;31m---------------------------------------------------------------------------\u001b[0m",
      "\u001b[1;31mValueError\u001b[0m                                Traceback (most recent call last)",
      "Input \u001b[1;32mIn [44]\u001b[0m, in \u001b[0;36m<cell line: 2>\u001b[1;34m()\u001b[0m\n\u001b[0;32m      1\u001b[0m A\u001b[38;5;241m=\u001b[39m \u001b[38;5;28mint\u001b[39m(\u001b[38;5;28minput\u001b[39m(\u001b[38;5;124m\"\u001b[39m\u001b[38;5;124mEntervalue of A : \u001b[39m\u001b[38;5;124m\"\u001b[39m))\n\u001b[1;32m----> 2\u001b[0m B\u001b[38;5;241m=\u001b[39m\u001b[38;5;28;43mint\u001b[39;49m\u001b[43m(\u001b[49m\u001b[38;5;28;43minput\u001b[39;49m\u001b[43m(\u001b[49m\u001b[38;5;124;43m\"\u001b[39;49m\u001b[38;5;124;43mEnter value of B: \u001b[39;49m\u001b[38;5;124;43m\"\u001b[39;49m\u001b[43m)\u001b[49m\u001b[43m)\u001b[49m\n\u001b[0;32m      3\u001b[0m \u001b[38;5;28mprint\u001b[39m(\u001b[38;5;28mtype\u001b[39m(A),\u001b[38;5;28mtype\u001b[39m(B))\n\u001b[0;32m      4\u001b[0m \u001b[38;5;28mprint\u001b[39m(\u001b[38;5;124mf\u001b[39m\u001b[38;5;124m\"\u001b[39m\u001b[38;5;124mSum of A & B is : \u001b[39m\u001b[38;5;132;01m{\u001b[39;00mA\u001b[38;5;241m+\u001b[39mB\u001b[38;5;132;01m}\u001b[39;00m\u001b[38;5;124m\"\u001b[39m)\n",
      "\u001b[1;31mValueError\u001b[0m: invalid literal for int() with base 10: '10.2'"
     ]
    }
   ],
   "source": [
    "A= int(input(\"Entervalue of A : \"))\n",
    "B=int(input(\"Enter value of B: \")) # 10.2 is float but not converting to integer\n",
    "print(type(A),type(B))\n",
    "print(f\"Sum of A & B is : {A+B}\")"
   ]
  },
  {
   "cell_type": "code",
   "execution_count": 46,
   "id": "692c1682",
   "metadata": {},
   "outputs": [
    {
     "name": "stdout",
     "output_type": "stream",
     "text": [
      "data type before : <class 'str'>,value of A:  \n",
      "data type after:<class 'bool'>,value of A: True\n"
     ]
    }
   ],
   "source": [
    "# empty string  to boolean\n",
    "A= \" \"\n",
    "print(f\"data type before : {type(A)},value of A: {A}\")\n",
    "A= bool(A) \n",
    "print(f\"data type after:{type(A)},value of A: {A}\")"
   ]
  },
  {
   "cell_type": "markdown",
   "id": "168f8669",
   "metadata": {},
   "source": [
    "# Memory Block"
   ]
  },
  {
   "cell_type": "code",
   "execution_count": 47,
   "id": "543aff1b",
   "metadata": {},
   "outputs": [],
   "source": [
    "a=22\n",
    "b=34\n",
    "c=22"
   ]
  },
  {
   "cell_type": "code",
   "execution_count": 48,
   "id": "b8adb4f9",
   "metadata": {},
   "outputs": [
    {
     "data": {
      "text/plain": [
       "1672039656400"
      ]
     },
     "execution_count": 48,
     "metadata": {},
     "output_type": "execute_result"
    }
   ],
   "source": [
    "id(a)"
   ]
  },
  {
   "cell_type": "code",
   "execution_count": 49,
   "id": "a7aa186c",
   "metadata": {},
   "outputs": [
    {
     "data": {
      "text/plain": [
       "1672039656784"
      ]
     },
     "execution_count": 49,
     "metadata": {},
     "output_type": "execute_result"
    }
   ],
   "source": [
    "id(b)"
   ]
  },
  {
   "cell_type": "code",
   "execution_count": 50,
   "id": "730dc83f",
   "metadata": {},
   "outputs": [
    {
     "data": {
      "text/plain": [
       "1672039656400"
      ]
     },
     "execution_count": 50,
     "metadata": {},
     "output_type": "execute_result"
    }
   ],
   "source": [
    "id(c)"
   ]
  },
  {
   "cell_type": "code",
   "execution_count": 52,
   "id": "b2ca6181",
   "metadata": {},
   "outputs": [],
   "source": [
    "c=22+b\n"
   ]
  },
  {
   "cell_type": "code",
   "execution_count": 53,
   "id": "ef3015e5",
   "metadata": {},
   "outputs": [
    {
     "data": {
      "text/plain": [
       "1672039845968"
      ]
     },
     "execution_count": 53,
     "metadata": {},
     "output_type": "execute_result"
    }
   ],
   "source": [
    "id(c)"
   ]
  },
  {
   "cell_type": "code",
   "execution_count": 54,
   "id": "6321f03e",
   "metadata": {},
   "outputs": [
    {
     "data": {
      "text/plain": [
       "1672039656400"
      ]
     },
     "execution_count": 54,
     "metadata": {},
     "output_type": "execute_result"
    }
   ],
   "source": [
    "a=22\n",
    "id(a)"
   ]
  },
  {
   "cell_type": "code",
   "execution_count": 55,
   "id": "4c3c16c0",
   "metadata": {},
   "outputs": [
    {
     "data": {
      "text/plain": [
       "1672039847344"
      ]
     },
     "execution_count": 55,
     "metadata": {},
     "output_type": "execute_result"
    }
   ],
   "source": [
    "a=99\n",
    "id(a)"
   ]
  },
  {
   "cell_type": "code",
   "execution_count": 56,
   "id": "b1f52cda",
   "metadata": {},
   "outputs": [],
   "source": [
    "# Memory is assigned to the value of variable passed not the variable name"
   ]
  },
  {
   "cell_type": "code",
   "execution_count": 57,
   "id": "ddeda9a9",
   "metadata": {},
   "outputs": [
    {
     "name": "stdout",
     "output_type": "stream",
     "text": [
      "1672039656400 1672039656784 1672039656400\n"
     ]
    }
   ],
   "source": [
    "a=22\n",
    "b=34\n",
    "c=22\n",
    "\n",
    "print(id(a),id(b),id(c))"
   ]
  },
  {
   "cell_type": "code",
   "execution_count": 58,
   "id": "19c84f61",
   "metadata": {},
   "outputs": [
    {
     "name": "stdout",
     "output_type": "stream",
     "text": [
      "1672151119728 1672039656784 1672151119728\n"
     ]
    }
   ],
   "source": [
    "a=\"Sunny\"\n",
    "b=34\n",
    "c=\"Sunny\"\n",
    "\n",
    "print(id(a),id(b),id(c))"
   ]
  },
  {
   "cell_type": "code",
   "execution_count": 59,
   "id": "81d8fc9f",
   "metadata": {},
   "outputs": [
    {
     "name": "stdout",
     "output_type": "stream",
     "text": [
      "1672039656400 1672039657360 1672039656400\n"
     ]
    }
   ],
   "source": [
    "a,b,c=22,52,22\n",
    "\n",
    "print(id(a),id(b),id(c))"
   ]
  },
  {
   "cell_type": "code",
   "execution_count": 60,
   "id": "cf050c8b",
   "metadata": {},
   "outputs": [
    {
     "name": "stdout",
     "output_type": "stream",
     "text": [
      "1672042067760 1672039656784 1672042067760\n"
     ]
    }
   ],
   "source": [
    "a=\"S\"\n",
    "b=34\n",
    "c=\"S\"\n",
    "\n",
    "print(id(a),id(b),id(c))"
   ]
  },
  {
   "cell_type": "code",
   "execution_count": 61,
   "id": "bba51e22",
   "metadata": {},
   "outputs": [
    {
     "name": "stdout",
     "output_type": "stream",
     "text": [
      "1672039656400 1672039656784 1672151933104\n"
     ]
    }
   ],
   "source": [
    "a=22\n",
    "b=34\n",
    "c=22.0\n",
    "\n",
    "print(id(a),id(b),id(c))"
   ]
  },
  {
   "cell_type": "code",
   "execution_count": null,
   "id": "7f9e67a0",
   "metadata": {},
   "outputs": [],
   "source": [
    "# Assignment-\n",
    "## send the mail to \n",
    "To: query@ineuron.ai\n",
    "CC: sunny@ineuron.ai, riishav@ineuron.ai\n",
    "Subject: [Bootcamp 2.0 | Assignment No-1]\n",
    "    1. Find out all the types of error that we have encountered in our lecture and why?\n",
    "    2.Take input A and B and print their sum ,mul,div,square of the nos.\n",
    "    3. How many reserve keywords are there in python and why we should not use them as a variable name.\n",
    "    4. Create email ids with the user inputs. in the following format-\n",
    "       <lastname>.<firstname>@gmail.com\n",
    "    5. Try to print the following lines-\n",
    "       - Hi I'm Sunny\n",
    "        - My address is 22/3\n",
    "        - I earn 20$ daily\n",
    "    6. Take user input (name,date of birth etc ) to fill a form for your college and print their email IDs.\n",
    "    7. Convert the folllowing-\n",
    "       - \"22.4\" into integer\n",
    "        - \"22\" into complex no\n",
    "        - \n",
    "    "
   ]
  }
 ],
 "metadata": {
  "kernelspec": {
   "display_name": "Python 3 (ipykernel)",
   "language": "python",
   "name": "python3"
  },
  "language_info": {
   "codemirror_mode": {
    "name": "ipython",
    "version": 3
   },
   "file_extension": ".py",
   "mimetype": "text/x-python",
   "name": "python",
   "nbconvert_exporter": "python",
   "pygments_lexer": "ipython3",
   "version": "3.9.12"
  }
 },
 "nbformat": 4,
 "nbformat_minor": 5
}
