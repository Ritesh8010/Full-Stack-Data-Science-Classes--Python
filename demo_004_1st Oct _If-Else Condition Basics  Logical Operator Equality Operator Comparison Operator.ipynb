{
 "cells": [
  {
   "cell_type": "markdown",
   "id": "2a72b776",
   "metadata": {},
   "source": [
    "# AGENDA\n",
    "Operators\n",
    "- Glimpse of Conditional Statements\n",
    "- if -else statement\n",
    "-Logical\n",
    "- Equality\n",
    "- Comparison\n",
    "- Arithmetic\n",
    "-Bitwise [advance classes]\n",
    "-Operators for sets and dictionary [advance classes]\n",
    "String Method\n",
    "Control Flow statement "
   ]
  },
  {
   "cell_type": "markdown",
   "id": "b47968ed",
   "metadata": {},
   "source": [
    "## Logical Operators\n",
    "not unary negation\n",
    "and conditional AND\n",
    "or Conditional OR\n"
   ]
  },
  {
   "cell_type": "code",
   "execution_count": 1,
   "id": "ea02927d",
   "metadata": {},
   "outputs": [
    {
     "name": "stdout",
     "output_type": "stream",
     "text": [
      "True\n"
     ]
    }
   ],
   "source": [
    "START= True\n",
    "print(START)"
   ]
  },
  {
   "cell_type": "code",
   "execution_count": 2,
   "id": "b9b93418",
   "metadata": {},
   "outputs": [
    {
     "name": "stdout",
     "output_type": "stream",
     "text": [
      "False\n"
     ]
    }
   ],
   "source": [
    "START= True\n",
    "print(not START)"
   ]
  },
  {
   "cell_type": "code",
   "execution_count": 3,
   "id": "b40f2a5c",
   "metadata": {},
   "outputs": [
    {
     "name": "stdout",
     "output_type": "stream",
     "text": [
      "lets concentrate\n"
     ]
    }
   ],
   "source": [
    "class_started=True\n",
    "if class_started:\n",
    "    print(\"lets concentrate\")"
   ]
  },
  {
   "cell_type": "markdown",
   "id": "0eef8201",
   "metadata": {},
   "source": [
    "# Conditinal Statement (IF-ELSE)"
   ]
  },
  {
   "cell_type": "code",
   "execution_count": null,
   "id": "9c1d6872",
   "metadata": {},
   "outputs": [],
   "source": [
    "if condition:\n",
    "    print(\"This statement executed\")\n",
    "else:\n",
    "     print(\"This statement executed if condition is not true\")\n"
   ]
  },
  {
   "cell_type": "code",
   "execution_count": null,
   "id": "365730a1",
   "metadata": {},
   "outputs": [],
   "source": [
    "#if it is raining then let's work from home else let's go to office"
   ]
  },
  {
   "cell_type": "code",
   "execution_count": 4,
   "id": "2cc2fa53",
   "metadata": {},
   "outputs": [
    {
     "name": "stdout",
     "output_type": "stream",
     "text": [
      "lets revise previous class\n"
     ]
    }
   ],
   "source": [
    "class_started=False\n",
    "if class_started:\n",
    "    print(\"lets concentrate\")\n",
    "else:\n",
    "    print(\"lets revise previous class\")"
   ]
  },
  {
   "cell_type": "code",
   "execution_count": 5,
   "id": "073c0092",
   "metadata": {},
   "outputs": [
    {
     "name": "stdout",
     "output_type": "stream",
     "text": [
      "lets do work from home\n"
     ]
    }
   ],
   "source": [
    "raining=True\n",
    "\n",
    "if raining: # True condition\n",
    "    print(\"lets do work from home\") # This statement executed\n",
    "else:\n",
    "    print(\"lets go to office\")"
   ]
  },
  {
   "cell_type": "markdown",
   "id": "cae23459",
   "metadata": {},
   "source": [
    "# Use of Indentation"
   ]
  },
  {
   "cell_type": "code",
   "execution_count": 8,
   "id": "33d061d1",
   "metadata": {},
   "outputs": [
    {
     "ename": "IndentationError",
     "evalue": "expected an indented block (102549760.py, line 4)",
     "output_type": "error",
     "traceback": [
      "\u001b[1;36m  Input \u001b[1;32mIn [8]\u001b[1;36m\u001b[0m\n\u001b[1;33m    print(\"lets do work from home\") # This statement executed\u001b[0m\n\u001b[1;37m    ^\u001b[0m\n\u001b[1;31mIndentationError\u001b[0m\u001b[1;31m:\u001b[0m expected an indented block\n"
     ]
    }
   ],
   "source": [
    "raining=True\n",
    "\n",
    "if raining: # True condition\n",
    "print(\"lets do work from home\") # This statement executed\n",
    "else:\n",
    "    print(\"lets go to office\")"
   ]
  },
  {
   "cell_type": "code",
   "execution_count": 11,
   "id": "922087ef",
   "metadata": {},
   "outputs": [
    {
     "name": "stdout",
     "output_type": "stream",
     "text": [
      "Since it's raining\n",
      "lets do work from home\n"
     ]
    }
   ],
   "source": [
    "raining=True\n",
    "\n",
    "if raining: # True condition\n",
    "    print(\"Since it's raining\")\n",
    "    print(\"lets do work from home\") # This statement executed\n",
    "else:\n",
    "    print(\"Since it's not  raining\")\n",
    "    print(\"lets go to office\")"
   ]
  },
  {
   "cell_type": "code",
   "execution_count": null,
   "id": "cc2fcac5",
   "metadata": {},
   "outputs": [],
   "source": [
    "raining=False\n",
    "\n",
    "if raining: # False Condition\n",
    "    print(\"Since it's raining\")\n",
    "    print(\"lets do work from home\") # This statement executed\n",
    "else:\n",
    "    print(\"Since it's not  raining\")\n",
    "    print(\"lets go to office\")"
   ]
  },
  {
   "cell_type": "code",
   "execution_count": null,
   "id": "a8a8e4b7",
   "metadata": {},
   "outputs": [],
   "source": [
    "#if it,s not raining then let's go to office else work from home"
   ]
  },
  {
   "cell_type": "code",
   "execution_count": 23,
   "id": "3ae7aca2",
   "metadata": {},
   "outputs": [
    {
     "name": "stdout",
     "output_type": "stream",
     "text": [
      "Since it's raining\n",
      "lets do work from home\n"
     ]
    }
   ],
   "source": [
    "raining=True\n",
    "\n",
    "if not raining:# False condition\n",
    "    print(\"Since it's not  raining\")\n",
    "    print(\"lets go to office\")\n",
    "else:\n",
    "    print(\"Since it's raining\")\n",
    "    print(\"lets do work from home\") # This statement executed"
   ]
  },
  {
   "cell_type": "code",
   "execution_count": null,
   "id": "7f4e5962",
   "metadata": {},
   "outputs": [],
   "source": [
    "#  if class started then let's concentrate else revise previous class"
   ]
  },
  {
   "cell_type": "code",
   "execution_count": 24,
   "id": "8d27a909",
   "metadata": {},
   "outputs": [
    {
     "name": "stdout",
     "output_type": "stream",
     "text": [
      "lets concentrate\n"
     ]
    }
   ],
   "source": [
    "class_started=True\n",
    "if class_started:\n",
    "    print(\"Since class started\")\n",
    "    print(\"lets concentrate\")\n",
    "else:\n",
    "      print(\"Since not class started\")\n",
    "    print(\"lets revise previous class\")"
   ]
  },
  {
   "cell_type": "code",
   "execution_count": null,
   "id": "e024abc9",
   "metadata": {},
   "outputs": [],
   "source": [
    "#  if class not started then let's  revise previous class else concentrate "
   ]
  },
  {
   "cell_type": "code",
   "execution_count": 27,
   "id": "93b68e4c",
   "metadata": {},
   "outputs": [
    {
     "name": "stdout",
     "output_type": "stream",
     "text": [
      "Since not class started\n",
      "lets revise previous class\n"
     ]
    }
   ],
   "source": [
    "class_started=False\n",
    "if class_started:\n",
    "    print(\"Since class started\")\n",
    "    print(\"lets concentrate\")\n",
    "else:\n",
    "    print(\"Since not class started\")\n",
    "    print(\"lets revise previous class\")"
   ]
  },
  {
   "cell_type": "code",
   "execution_count": 68,
   "id": "037d5a8e",
   "metadata": {},
   "outputs": [
    {
     "name": "stdout",
     "output_type": "stream",
     "text": [
      "since class started\n",
      "lets comcentrate\n"
     ]
    }
   ],
   "source": [
    "class_started=True\n",
    "if not class_started:\n",
    "    print(\"Since class not started \")\n",
    "    print(\"lrts revise\")\n",
    "else:\n",
    "    print(\"since class started\")\n",
    "    print(\"lets comcentrate\")"
   ]
  },
  {
   "cell_type": "code",
   "execution_count": null,
   "id": "b3dc5a12",
   "metadata": {},
   "outputs": [],
   "source": [
    "# Statement not alligned properly will give indentation error\n",
    "class_started=bool(input(\"hey friend ,is class started?:[0-False /1-True]\"))\n",
    "if class_started:\n",
    "    "
   ]
  },
  {
   "cell_type": "markdown",
   "id": "70d53418",
   "metadata": {},
   "source": [
    "# and-Conditional AND"
   ]
  },
  {
   "cell_type": "code",
   "execution_count": null,
   "id": "8a373fd6",
   "metadata": {},
   "outputs": [],
   "source": [
    "\"\"\"\n",
    "vegetable | Salt| Dish\n",
    "\n",
    "False      False  False\n",
    "F          T       F\n",
    "T          F        F\n",
    "T          T        T\n",
    "\n",
    "# Salt and vegetable present then only good dish."
   ]
  },
  {
   "cell_type": "code",
   "execution_count": 47,
   "id": "70e5e393",
   "metadata": {},
   "outputs": [
    {
     "name": "stdout",
     "output_type": "stream",
     "text": [
      "it bad dish\n",
      "because vegetable present:False\n",
      "because salt_present:False\n"
     ]
    }
   ],
   "source": [
    "vegetable_present= False\n",
    "salt_present=False\n",
    "\n",
    "if vegetable_present and salt_present:\n",
    "    print(\"good dish\")\n",
    "else:\n",
    "    print(\"it bad dish\")\n",
    "    print(f\"because vegetable present:{vegetable_present}\")\n",
    "    print(f\"because salt_present:{salt_present}\")"
   ]
  },
  {
   "cell_type": "code",
   "execution_count": 48,
   "id": "9007d0fe",
   "metadata": {},
   "outputs": [
    {
     "name": "stdout",
     "output_type": "stream",
     "text": [
      "it bad dish\n",
      "because vegetable present:False\n",
      "because salt_present:True\n"
     ]
    }
   ],
   "source": [
    "vegetable_present= False\n",
    "salt_present=True\n",
    "\n",
    "if vegetable_present and salt_present:\n",
    "    print(\"good dish\")\n",
    "else:\n",
    "    print(\"it bad dish\")\n",
    "    print(f\"because vegetable present:{vegetable_present}\")\n",
    "    print(f\"because salt_present:{salt_present}\")"
   ]
  },
  {
   "cell_type": "code",
   "execution_count": 49,
   "id": "230df666",
   "metadata": {},
   "outputs": [
    {
     "name": "stdout",
     "output_type": "stream",
     "text": [
      "it bad dish\n",
      "because vegetable present:True\n",
      "because salt_present:False\n"
     ]
    }
   ],
   "source": [
    "vegetable_present= True\n",
    "salt_present=False\n",
    "\n",
    "if vegetable_present and salt_present:\n",
    "    print(\"good dish\")\n",
    "else:\n",
    "    print(\"it bad dish\")\n",
    "    print(f\"because vegetable present:{vegetable_present}\")\n",
    "    print(f\"because salt_present:{salt_present}\")"
   ]
  },
  {
   "cell_type": "code",
   "execution_count": 50,
   "id": "09f54802",
   "metadata": {},
   "outputs": [
    {
     "name": "stdout",
     "output_type": "stream",
     "text": [
      "good dish\n"
     ]
    }
   ],
   "source": [
    "vegetable_present= True\n",
    "salt_present=True\n",
    "\n",
    "if vegetable_present and salt_present:\n",
    "    print(\"good dish\")\n",
    "else:\n",
    "    print(\"it bad dish\")\n",
    "    print(f\"because vegetable present:{vegetable_present}\")\n",
    "    print(f\"because salt_present:{salt_present}\")"
   ]
  },
  {
   "cell_type": "markdown",
   "id": "14ffd8b2",
   "metadata": {},
   "source": [
    "# Or Conditional OR\n",
    "\n",
    "if I have to travel 100 km in a day I can use car or bike\n",
    "Ya\n",
    "If have a car or bike then I can travel 100 Kms in a day"
   ]
  },
  {
   "cell_type": "markdown",
   "id": "ab11da98",
   "metadata": {},
   "source": [
    "\"\"\"\n",
    "Car| Bike| Travel_100 kms\n",
    "\n",
    "F          F       F\n",
    "F          T       T\n",
    "T          F        T\n",
    "T          T        T\n",
    "\n",
    "# Salt and vegetable present then only good dish."
   ]
  },
  {
   "cell_type": "code",
   "execution_count": 52,
   "id": "44665bc2",
   "metadata": {},
   "outputs": [
    {
     "name": "stdout",
     "output_type": "stream",
     "text": [
      "I am stuck as I do't have car or bike\n"
     ]
    }
   ],
   "source": [
    "i_own_car=False\n",
    "i_own_bike=False\n",
    "\n",
    "if i_own_car or i_own_bike:\n",
    "    print(\"I can travel 100 Kms in a day\")\n",
    "else:\n",
    "    print(\"I am stuck as I do't have car or bike\")\n",
    "        "
   ]
  },
  {
   "cell_type": "code",
   "execution_count": 53,
   "id": "59bb0333",
   "metadata": {},
   "outputs": [
    {
     "name": "stdout",
     "output_type": "stream",
     "text": [
      "I can travel 100 Kms in a day\n"
     ]
    }
   ],
   "source": [
    "i_own_car=False\n",
    "i_own_bike=True\n",
    "\n",
    "if i_own_car or i_own_bike:\n",
    "    print(\"I can travel 100 Kms in a day\")\n",
    "else:\n",
    "    print(\"I am stuck as I do't have car or bike\")"
   ]
  },
  {
   "cell_type": "code",
   "execution_count": 54,
   "id": "32509e3c",
   "metadata": {},
   "outputs": [
    {
     "name": "stdout",
     "output_type": "stream",
     "text": [
      "I can travel 100 Kms in a day\n"
     ]
    }
   ],
   "source": [
    "i_own_car=True\n",
    "i_own_bike=False\n",
    "\n",
    "if i_own_car or i_own_bike:\n",
    "    print(\"I can travel 100 Kms in a day\")\n",
    "else:\n",
    "    print(\"I am stuck as I do't have car or bike\")"
   ]
  },
  {
   "cell_type": "code",
   "execution_count": 55,
   "id": "cae8ae74",
   "metadata": {},
   "outputs": [
    {
     "name": "stdout",
     "output_type": "stream",
     "text": [
      "I can travel 100 Kms in a day\n"
     ]
    }
   ],
   "source": [
    "i_own_car=True\n",
    "i_own_bike=True\n",
    "\n",
    "if i_own_car or i_own_bike:\n",
    "    print(\"I can travel 100 Kms in a day\")\n",
    "else:\n",
    "    print(\"I am stuck as I do't have car or bike\")"
   ]
  },
  {
   "cell_type": "markdown",
   "id": "8fcbab31",
   "metadata": {},
   "source": [
    "## Conclusion \n",
    "#1.- use and operator when you want all the condition to be true\n",
    "\n",
    "#2.- use or  operator if you want anyone  condition to be true"
   ]
  },
  {
   "cell_type": "markdown",
   "id": "d07ecfcc",
   "metadata": {},
   "source": [
    "## Example-\n",
    "\n",
    "\"\"\"\n",
    "\n",
    "attendance|assignment|eligible_for_eaxm\n",
    ">=75%      >=70%       True\"\"\""
   ]
  },
  {
   "cell_type": "code",
   "execution_count": 61,
   "id": "a99bf4c7",
   "metadata": {},
   "outputs": [
    {
     "name": "stdout",
     "output_type": "stream",
     "text": [
      "attendance criteria met?:False\n",
      "attendance criteria met?:False\n",
      "False\n",
      "False\n",
      "the student is not  eligible foe appear in final year exam\n"
     ]
    }
   ],
   "source": [
    "attendance=70\n",
    "assignment_submitted=40\n",
    "print(f\"attendance criteria met?:{attendance>=75}\")\n",
    "print(f\"attendance criteria met?:{assignment_submitted>=70}\")\n",
    "\n",
    "print(attendance>=75 )\n",
    "print( assignment_submitted>=70)\n",
    "if attendance>=75 and assignment_submitted>=70:\n",
    "    print(\"the student is eligible foe appear in final year exam\")\n",
    "else:\n",
    "    print(\"the student is not  eligible foe appear in final year exam\")\n",
    "    "
   ]
  },
  {
   "cell_type": "code",
   "execution_count": 60,
   "id": "0ec000e9",
   "metadata": {},
   "outputs": [
    {
     "name": "stdout",
     "output_type": "stream",
     "text": [
      "attendance criteria met?:True\n",
      "attendance criteria met?:False\n",
      "True\n",
      "False\n",
      "the student is not  eligible foe appear in final year exam\n"
     ]
    }
   ],
   "source": [
    "attendance=90\n",
    "assignment_submitted=40\n",
    "print(f\"attendance criteria met?:{attendance>=75}\")\n",
    "print(f\"attendance criteria met?:{assignment_submitted>=70}\")\n",
    "\n",
    "print(attendance>=75 )\n",
    "print( assignment_submitted>=70)\n",
    "if attendance>=75 and assignment_submitted>=70:\n",
    "    print(\"the student is eligible foe appear in final year exam\")\n",
    "else:\n",
    "    print(\"the student is not  eligible foe appear in final year exam\")"
   ]
  },
  {
   "cell_type": "code",
   "execution_count": 62,
   "id": "87083406",
   "metadata": {},
   "outputs": [
    {
     "name": "stdout",
     "output_type": "stream",
     "text": [
      "attendance criteria met?:True\n",
      "attendance criteria met?:True\n",
      "True\n",
      "True\n",
      "the student is eligible foe appear in final year exam\n"
     ]
    }
   ],
   "source": [
    "attendance=90\n",
    "assignment_submitted=90\n",
    "print(f\"attendance criteria met?:{attendance>=75}\")\n",
    "print(f\"attendance criteria met?:{assignment_submitted>=70}\")\n",
    "print(attendance>=75 )\n",
    "print( assignment_submitted>=70)\n",
    "if attendance>=75 and assignment_submitted>=70:\n",
    "    print(\"the student is eligible foe appear in final year exam\")\n",
    "else:\n",
    "    print(\"the student is not  eligible foe appear in final year exam\")"
   ]
  },
  {
   "cell_type": "markdown",
   "id": "ee73a589",
   "metadata": {},
   "source": [
    "## Example-\n",
    "\n",
    "\"\"\"\n",
    "\n",
    "credit_card| debit_card| purchase_book_from_amazon\n",
    "T          |    True            True\"\"\""
   ]
  },
  {
   "cell_type": "code",
   "execution_count": 63,
   "id": "3d8e50d3",
   "metadata": {},
   "outputs": [
    {
     "name": "stdout",
     "output_type": "stream",
     "text": [
      "Ask from DAD for debit or credit card\n",
      "Cash on Delivery\n"
     ]
    }
   ],
   "source": [
    "own_credit_card=False\n",
    "own_debit_card=False\n",
    "\n",
    "if own_credit_card or own_debit_card:\n",
    "    print(\"proceed further for payment\")\n",
    "else:\n",
    "    print(\"Ask from DAD for debit or credit card\")\n",
    "    print(\"Cash on Delivery\")\n",
    "    "
   ]
  },
  {
   "cell_type": "code",
   "execution_count": 64,
   "id": "8799c2aa",
   "metadata": {},
   "outputs": [
    {
     "name": "stdout",
     "output_type": "stream",
     "text": [
      "proceed further for payment\n"
     ]
    }
   ],
   "source": [
    "n_credit_card=False\n",
    "own_debit_card=True\n",
    "\n",
    "if own_credit_card or own_debit_card:\n",
    "    print(\"proceed further for payment\")\n",
    "else:\n",
    "    print(\"Ask from DAD for debit or credit card\")\n",
    "    print(\"Cash on Delivery\")"
   ]
  },
  {
   "cell_type": "code",
   "execution_count": 66,
   "id": "428d2ccf",
   "metadata": {},
   "outputs": [
    {
     "name": "stdout",
     "output_type": "stream",
     "text": [
      "proceed further for payment\n"
     ]
    }
   ],
   "source": [
    "n_credit_card=False\n",
    "own_debit_card=False\n",
    "Net_banking=True\n",
    "if own_credit_card or own_debit_card or Net_banking:\n",
    "    print(\"proceed further for payment\")\n",
    "else:\n",
    "    print(\"Ask from DAD for debit or credit card\")\n",
    "    print(\"Cash on Delivery\")"
   ]
  },
  {
   "cell_type": "markdown",
   "id": "67718d09",
   "metadata": {},
   "source": [
    "## and or together\n",
    "\"\"\"\n",
    "\n",
    "attendance|assignment| sports_player | eligible_for_eaxm\n",
    ">=75%      >=70%          F                T\n",
    ">=75%      >=70%          T                T"
   ]
  },
  {
   "cell_type": "code",
   "execution_count": 76,
   "id": "820bbb66",
   "metadata": {},
   "outputs": [
    {
     "name": "stdout",
     "output_type": "stream",
     "text": [
      "attendance criteria met?:False\n",
      "attendance criteria met?:False\n",
      "sports criteria met?:True\n",
      "the student is  not eligible foe appear in final year exam\n"
     ]
    }
   ],
   "source": [
    "# Complex conditional cases\n",
    "attendance=70\n",
    "assignment_submitted=40\n",
    "sports_player=True\n",
    "print(f\"attendance criteria met?:{attendance>=75}\")\n",
    "print(f\"attendance criteria met?:{assignment_submitted>=70}\")\n",
    "print(f\"sports criteria met?:{sports_player}\")\n",
    "\n",
    "\n",
    "if attendance>=75 and assignment_submitted>=70 :\n",
    "    if sports_player:\n",
    "        print(\"the student is eligible foe appear in final year exam\")\n",
    "    else:\n",
    "        print(\"the student is   eligible foe appear in final year exam\")\n",
    "else:\n",
    "    print(\"the student is  not eligible foe appear in final year exam\")\n",
    "    "
   ]
  },
  {
   "cell_type": "markdown",
   "id": "60211f07",
   "metadata": {},
   "source": [
    "If attendance is more than 75 % and assignment completed more than 70% OR the student is sport player then he \n",
    "is eligible for exam\n",
    "\n",
    "If you are a sport player then you will get grace marks"
   ]
  },
  {
   "cell_type": "code",
   "execution_count": 75,
   "id": "1beba95b",
   "metadata": {},
   "outputs": [
    {
     "name": "stdout",
     "output_type": "stream",
     "text": [
      "attendance criteria met?:True\n",
      "attendance criteria met?:True\n",
      "sports criteria met?:False\n",
      "the student is   eligible foe appear in final year exam\n"
     ]
    }
   ],
   "source": [
    "# Complex conditional cases\n",
    "attendance=90\n",
    "assignment_submitted=75\n",
    "sports_player=False\n",
    "print(f\"attendance criteria met?:{attendance>=75}\")\n",
    "print(f\"attendance criteria met?:{assignment_submitted>=70}\")\n",
    "print(f\"sports criteria met?:{sports_player}\")\n",
    "\n",
    "\n",
    "if attendance>=75 and assignment_submitted>=70 :\n",
    "    if sports_player:\n",
    "        print(\"the student is eligible foe appear in final year exam\")\n",
    "    else:\n",
    "        print(\"the student is   eligible foe appear in final year exam\")\n",
    "else:\n",
    "    print(\"the student is  not eligible foe appear in final year exam\")"
   ]
  },
  {
   "cell_type": "code",
   "execution_count": null,
   "id": "c342eae4",
   "metadata": {},
   "outputs": [],
   "source": [
    "If you are a sport player then you will get grace marks"
   ]
  },
  {
   "cell_type": "code",
   "execution_count": 77,
   "id": "e9b8df11",
   "metadata": {},
   "outputs": [
    {
     "name": "stdout",
     "output_type": "stream",
     "text": [
      "attendance criteria met?:True\n",
      "attendance criteria met?:True\n",
      "sports criteria met?:False\n",
      "the student is   eligible foe appear in final year exam\n"
     ]
    }
   ],
   "source": [
    "# Complex conditional cases\n",
    "attendance=90\n",
    "assignment_submitted=75\n",
    "sports_player=False\n",
    "print(f\"attendance criteria met?:{attendance>=75}\")\n",
    "print(f\"attendance criteria met?:{assignment_submitted>=70}\")\n",
    "print(f\"sports criteria met?:{sports_player}\")\n",
    "\n",
    "\n",
    "if attendance>=75 and assignment_submitted>=70 :\n",
    "    if sports_player:\n",
    "        print(\"the student is can get grace marks +10\")\n",
    "    else:\n",
    "        print(\"the student is   eligible foe appear in final year exam  but not grace marks\")\n",
    "else:\n",
    "    print(\"the student is  not eligible foe appear in final year exam\")"
   ]
  },
  {
   "cell_type": "code",
   "execution_count": 78,
   "id": "e735346b",
   "metadata": {},
   "outputs": [
    {
     "name": "stdout",
     "output_type": "stream",
     "text": [
      "attendance criteria met?:True\n",
      "attendance criteria met?:True\n",
      "sports criteria met?:True\n",
      "the student is can get grace marks +10\n"
     ]
    }
   ],
   "source": [
    "# Complex conditional cases\n",
    "attendance=90\n",
    "assignment_submitted=75\n",
    "sports_player=True\n",
    "print(f\"attendance criteria met?:{attendance>=75}\")\n",
    "print(f\"attendance criteria met?:{assignment_submitted>=70}\")\n",
    "print(f\"sports criteria met?:{sports_player}\")\n",
    "\n",
    "\n",
    "if attendance>=75 and assignment_submitted>=70 :\n",
    "    if sports_player:\n",
    "        print(\"the student is can get grace marks +10\")\n",
    "    else:\n",
    "        print(\"the student is   eligible foe appear in final year exam but not grace marks\")\n",
    "else:\n",
    "    print(\"the student is  not eligible foe appear in final year exam\")"
   ]
  },
  {
   "cell_type": "code",
   "execution_count": 79,
   "id": "55fb61ef",
   "metadata": {},
   "outputs": [
    {
     "name": "stdout",
     "output_type": "stream",
     "text": [
      "attendance criteria met?:True\n",
      "attendance criteria met?:True\n",
      "sports criteria met?:False\n",
      "the student is   eligible foe appear in final year exam but not grace marks\n"
     ]
    }
   ],
   "source": [
    "# Complex conditional cases\n",
    "\n",
    "attendance=90\n",
    "assignment_submitted=75\n",
    "sports_player=False\n",
    "print(f\"attendance criteria met?:{attendance>=75}\")\n",
    "print(f\"attendance criteria met?:{assignment_submitted>=70}\")\n",
    "print(f\"sports criteria met?:{sports_player}\")\n",
    "\n",
    "\n",
    "if attendance>=75 and assignment_submitted>=70 :\n",
    "    if sports_player:\n",
    "        print(\"the student is can get grace marks +10\")\n",
    "    else:\n",
    "        print(\"the student is   eligible foe appear in final year exam but not grace marks\")\n",
    "else:\n",
    "    print(\"the student is  not eligible foe appear in final year exam\")"
   ]
  },
  {
   "cell_type": "markdown",
   "id": "eb9db54c",
   "metadata": {},
   "source": [
    "# Equality Operators"
   ]
  },
  {
   "cell_type": "markdown",
   "id": "170d017f",
   "metadata": {},
   "source": [
    "Operator- Meaning\n",
    "\n",
    "is-- A is bB => return true if A and B points to the same object\n",
    "\n",
    "is not --- Ais not B  => returns true if A and B do not points to the same object\n",
    "\n",
    "==----- A==B   => A is equal to B\n",
    "!=-------A!=B   => A is not equal to B\n",
    "\n",
    "when using 'is' then are also comparing memory location\n",
    "when using 'is not ' then are also comparing memory location\n",
    "\n",
    "== and != is only checking value of the variables (used more offently or Frequently)"
   ]
  },
  {
   "cell_type": "code",
   "execution_count": 85,
   "id": "088bd84f",
   "metadata": {},
   "outputs": [
    {
     "name": "stdout",
     "output_type": "stream",
     "text": [
      "A and B are same\n"
     ]
    }
   ],
   "source": [
    "A=1\n",
    "B=1\n",
    "\n",
    "if A is B:\n",
    "    print(\"A and B are same\")\n",
    "else:\n",
    "    print(\"A and B are not  same\")"
   ]
  },
  {
   "cell_type": "code",
   "execution_count": 86,
   "id": "25c1993a",
   "metadata": {},
   "outputs": [
    {
     "data": {
      "text/plain": [
       "1624078575920"
      ]
     },
     "execution_count": 86,
     "metadata": {},
     "output_type": "execute_result"
    }
   ],
   "source": [
    "id(A)"
   ]
  },
  {
   "cell_type": "code",
   "execution_count": 87,
   "id": "440b5a8b",
   "metadata": {},
   "outputs": [
    {
     "data": {
      "text/plain": [
       "1624078575920"
      ]
     },
     "execution_count": 87,
     "metadata": {},
     "output_type": "execute_result"
    }
   ],
   "source": [
    "id(B)"
   ]
  },
  {
   "cell_type": "code",
   "execution_count": 81,
   "id": "f44dfcf9",
   "metadata": {},
   "outputs": [
    {
     "name": "stdout",
     "output_type": "stream",
     "text": [
      "A and B are not  same\n"
     ]
    }
   ],
   "source": [
    "A=1\n",
    "B=2\n",
    "\n",
    "if A is B:\n",
    "    print(\"A and B are same\")\n",
    "else:\n",
    "    print(\"A and B are not  same\")"
   ]
  },
  {
   "cell_type": "code",
   "execution_count": 82,
   "id": "9b485adf",
   "metadata": {},
   "outputs": [
    {
     "name": "stdout",
     "output_type": "stream",
     "text": [
      "A and B are  same\n"
     ]
    }
   ],
   "source": [
    "A=1\n",
    "B=1\n",
    "\n",
    "if A is not B:\n",
    "    print(\"A and B are not  same\")\n",
    "else:\n",
    "    print(\"A and B are  same\")"
   ]
  },
  {
   "cell_type": "code",
   "execution_count": 83,
   "id": "d666f39b",
   "metadata": {},
   "outputs": [
    {
     "name": "stdout",
     "output_type": "stream",
     "text": [
      "A and B are same\n"
     ]
    }
   ],
   "source": [
    "A=1\n",
    "B=1\n",
    "\n",
    "if A == B: # A and B are having same value\n",
    "    print(\"A and B are same\")\n",
    "else:\n",
    "    print(\"A and B are not  same\")"
   ]
  },
  {
   "cell_type": "code",
   "execution_count": 84,
   "id": "3fda25c9",
   "metadata": {},
   "outputs": [
    {
     "name": "stdout",
     "output_type": "stream",
     "text": [
      "A and B are  same\n"
     ]
    }
   ],
   "source": [
    "A=1\n",
    "B=1\n",
    "\n",
    "if A!=B:\n",
    "    print(\"A and B are not  same\")\n",
    "else:\n",
    "    print(\"A and B are  same\")"
   ]
  },
  {
   "cell_type": "code",
   "execution_count": 88,
   "id": "0fc280a8",
   "metadata": {},
   "outputs": [
    {
     "data": {
      "text/plain": [
       "True"
      ]
     },
     "execution_count": 88,
     "metadata": {},
     "output_type": "execute_result"
    }
   ],
   "source": [
    "A=\"Sunny\"\n",
    "B=\"Sunny\"\n",
    "\n",
    "A is B"
   ]
  },
  {
   "cell_type": "code",
   "execution_count": 89,
   "id": "f26b13ad",
   "metadata": {},
   "outputs": [
    {
     "data": {
      "text/plain": [
       "False"
      ]
     },
     "execution_count": 89,
     "metadata": {},
     "output_type": "execute_result"
    }
   ],
   "source": [
    "A=[\"Sunny\",\"Rishav\"] # list data structure # array in other language\n",
    "B=[\"Sunny\",\"Rishav\"] # list data structure\n",
    "\n",
    "A is B\n"
   ]
  },
  {
   "cell_type": "code",
   "execution_count": 93,
   "id": "604ec2ff",
   "metadata": {},
   "outputs": [
    {
     "data": {
      "text/plain": [
       "True"
      ]
     },
     "execution_count": 93,
     "metadata": {},
     "output_type": "execute_result"
    }
   ],
   "source": [
    "A==B"
   ]
  },
  {
   "cell_type": "code",
   "execution_count": 92,
   "id": "c5072abd",
   "metadata": {},
   "outputs": [
    {
     "data": {
      "text/plain": [
       "True"
      ]
     },
     "execution_count": 92,
     "metadata": {},
     "output_type": "execute_result"
    }
   ],
   "source": [
    "A is not B"
   ]
  },
  {
   "cell_type": "code",
   "execution_count": 90,
   "id": "b8c9e8eb",
   "metadata": {},
   "outputs": [
    {
     "data": {
      "text/plain": [
       "1624165281984"
      ]
     },
     "execution_count": 90,
     "metadata": {},
     "output_type": "execute_result"
    }
   ],
   "source": [
    "id(A)"
   ]
  },
  {
   "cell_type": "code",
   "execution_count": 91,
   "id": "a3216edb",
   "metadata": {},
   "outputs": [
    {
     "data": {
      "text/plain": [
       "1624193759168"
      ]
     },
     "execution_count": 91,
     "metadata": {},
     "output_type": "execute_result"
    }
   ],
   "source": [
    "id(B)"
   ]
  },
  {
   "cell_type": "code",
   "execution_count": 95,
   "id": "cd5bd678",
   "metadata": {},
   "outputs": [
    {
     "name": "stdout",
     "output_type": "stream",
     "text": [
      "enter the value of A: 2\n",
      "enter the value of B: 2\n"
     ]
    },
    {
     "data": {
      "text/plain": [
       "True"
      ]
     },
     "execution_count": 95,
     "metadata": {},
     "output_type": "execute_result"
    }
   ],
   "source": [
    "A=int (input(\"enter the value of A: \"))\n",
    "B=int (input(\"enter the value of B: \"))\n",
    "\n",
    "A is B"
   ]
  },
  {
   "cell_type": "code",
   "execution_count": 96,
   "id": "f027a73b",
   "metadata": {},
   "outputs": [
    {
     "name": "stdout",
     "output_type": "stream",
     "text": [
      "enter the value of B: 2\n"
     ]
    },
    {
     "data": {
      "text/plain": [
       "True"
      ]
     },
     "execution_count": 96,
     "metadata": {},
     "output_type": "execute_result"
    }
   ],
   "source": [
    "A=2\n",
    "B=int (input(\"enter the value of B: \"))\n",
    "\n",
    "A is B"
   ]
  },
  {
   "cell_type": "markdown",
   "id": "ab0099d7",
   "metadata": {},
   "source": [
    " # Example of Equality Operator"
   ]
  },
  {
   "cell_type": "code",
   "execution_count": 97,
   "id": "9438fff5",
   "metadata": {},
   "outputs": [
    {
     "name": "stdout",
     "output_type": "stream",
     "text": [
      "He is mentor\n"
     ]
    }
   ],
   "source": [
    "name=\"Sunny Bhaveen Chandra\"\n",
    "\n",
    "if name==\"Sunny Bhaveen Chandra\":\n",
    "    print(f\"He is mentor\")\n",
    "else:\n",
    "    print(f\"It's possible that he/she is student\")"
   ]
  },
  {
   "cell_type": "code",
   "execution_count": 98,
   "id": "750c33e9",
   "metadata": {},
   "outputs": [
    {
     "name": "stdout",
     "output_type": "stream",
     "text": [
      "enter name:Sunny Bhaveen Chandra\n",
      "He is mentor\n"
     ]
    }
   ],
   "source": [
    "name=input(\"enter name:\")\n",
    "\n",
    "if name==\"Sunny Bhaveen Chandra\":\n",
    "    print(f\"He is mentor\")\n",
    "else:\n",
    "    print(f\"It's possible that he/she is student\")"
   ]
  },
  {
   "cell_type": "code",
   "execution_count": 99,
   "id": "e8f6c6da",
   "metadata": {},
   "outputs": [
    {
     "name": "stdout",
     "output_type": "stream",
     "text": [
      "enter name:sunnu Bhaveen Chandra\n",
      "It's possible that he/she is student\n"
     ]
    }
   ],
   "source": [
    "name=input(\"enter name:\")\n",
    "\n",
    "if name==\"Sunny Bhaveen Chandra\":\n",
    "    print(f\"He is mentor\")\n",
    "else:\n",
    "    print(f\"It's possible that he/she is student\")"
   ]
  },
  {
   "cell_type": "code",
   "execution_count": 100,
   "id": "98062d2a",
   "metadata": {},
   "outputs": [
    {
     "name": "stdout",
     "output_type": "stream",
     "text": [
      "enter name:Sunny Bhaveen Chandra\n",
      "He is mentor\n"
     ]
    }
   ],
   "source": [
    "name=input(\"enter name:\")\n",
    "\n",
    "if name==\"Sunny Bhaveen Chandra\":\n",
    "    print(\"He is mentor\")\n",
    "else:\n",
    "    print(\"It's possible that he/she is student\")"
   ]
  },
  {
   "cell_type": "markdown",
   "id": "4d168c7a",
   "metadata": {},
   "source": [
    "### Comparison Operator\n",
    "\n",
    "operation | Meaning\n",
    "\n",
    "<| A<B\n",
    "<=|A<=B\n",
    ">|A>B\n",
    ">=|A>=B"
   ]
  },
  {
   "cell_type": "code",
   "execution_count": 102,
   "id": "58270cce",
   "metadata": {},
   "outputs": [
    {
     "name": "stdout",
     "output_type": "stream",
     "text": [
      "attendance criteria met?:True\n",
      "attendance criteria met?:True\n",
      "True\n",
      "True\n",
      "the student is eligible to appear in final year exam\n"
     ]
    }
   ],
   "source": [
    "attendance=75\n",
    "assignment_submitted=70\n",
    "print(f\"attendance criteria met?:{attendance>=75}\")\n",
    "print(f\"attendance criteria met?:{assignment_submitted>=70}\")\n",
    "\n",
    "print(attendance>=75 )\n",
    "print( assignment_submitted>=70)\n",
    "if attendance>=75 and assignment_submitted>=70:\n",
    "    print(\"the student is eligible to appear in final year exam\")\n",
    "else:\n",
    "    print(\"the student is not  eligible to appear in final year exam\")"
   ]
  },
  {
   "cell_type": "code",
   "execution_count": 103,
   "id": "50f5aeae",
   "metadata": {},
   "outputs": [
    {
     "name": "stdout",
     "output_type": "stream",
     "text": [
      "Since you have scored:40, You have passed the exam!\n"
     ]
    }
   ],
   "source": [
    "your_score=40\n",
    "passing_marks=33.33\n",
    "\n",
    "if your_score >=33.33:\n",
    "    print(f\"Since you have scored:{your_score}, You have passed the exam!\")\n",
    "else:\n",
    "    print(\"Dad: You should have taken things seriously\")"
   ]
  },
  {
   "cell_type": "code",
   "execution_count": 104,
   "id": "962c61c5",
   "metadata": {},
   "outputs": [
    {
     "name": "stdout",
     "output_type": "stream",
     "text": [
      "Dad: You should have taken things seriously\n"
     ]
    }
   ],
   "source": [
    "your_score=30\n",
    "passing_marks=33.33\n",
    "\n",
    "if your_score >=33.33:\n",
    "    print(f\"Since you have scored:{your_score}, You have passed the exam!\")\n",
    "else:\n",
    "    print(\"Dad: You should have taken things seriously\")"
   ]
  },
  {
   "cell_type": "code",
   "execution_count": 105,
   "id": "6541f642",
   "metadata": {},
   "outputs": [
    {
     "name": "stdout",
     "output_type": "stream",
     "text": [
      "Dad: You should have taken things seriously\n"
     ]
    }
   ],
   "source": [
    "your_score=33.33\n",
    "passing_marks=33.33\n",
    "\n",
    "if your_score >33.33: # Strict Case\n",
    "    print(f\"Since you have scored:{your_score}, You have passed the exam!\")\n",
    "else:\n",
    "    print(\"Dad: You should have taken things seriously\")"
   ]
  },
  {
   "cell_type": "code",
   "execution_count": 106,
   "id": "809206b5",
   "metadata": {},
   "outputs": [
    {
     "name": "stdout",
     "output_type": "stream",
     "text": [
      "Dad: You should have taken things seriously\n"
     ]
    }
   ],
   "source": [
    "your_score=33.33\n",
    "passing_marks=33.33\n",
    "distinction_marks=75\n",
    "\n",
    "if your_score >33.33: # Strict Case\n",
    "    print(f\"Since you have scored:{your_score}, You have passed the exam!\")\n",
    "    if your_score>distinction_marks:\n",
    "        print(\"Dad: I will buy you a bike! Well Done!\")\n",
    "else:\n",
    "    print(\"Dad: You should have taken things seriously\")"
   ]
  },
  {
   "cell_type": "code",
   "execution_count": 107,
   "id": "fc0cecb1",
   "metadata": {},
   "outputs": [
    {
     "name": "stdout",
     "output_type": "stream",
     "text": [
      "Since you have scored:33.33, You have passed the exam!\n"
     ]
    }
   ],
   "source": [
    "your_score=33.33\n",
    "passing_marks=33.33\n",
    "distinction_marks=75\n",
    "\n",
    "if your_score >=33.33: \n",
    "    print(f\"Since you have scored:{your_score}, You have passed the exam!\")\n",
    "    if your_score>distinction_marks:\n",
    "        print(\"Dad: I will buy you a bike! Well Done!\")\n",
    "else:\n",
    "    print(\"Dad: You should have taken things seriously\")"
   ]
  },
  {
   "cell_type": "code",
   "execution_count": 108,
   "id": "9cd83c23",
   "metadata": {},
   "outputs": [
    {
     "name": "stdout",
     "output_type": "stream",
     "text": [
      "Since you have scored:90, You have passed the exam!\n",
      "Dad: I will buy you a bike! Well Done!\n"
     ]
    }
   ],
   "source": [
    "your_score=90\n",
    "passing_marks=33.33\n",
    "distinction_marks=75\n",
    "\n",
    "if your_score >33.33: #strict case\n",
    "    print(f\"Since you have scored:{your_score}, You have passed the exam!\")\n",
    "    if your_score>distinction_marks:\n",
    "        print(\"Dad: I will buy you a bike! Well Done!\")\n",
    "else:\n",
    "    print(\"Dad: You should have taken things seriously\")"
   ]
  },
  {
   "cell_type": "code",
   "execution_count": 109,
   "id": "e8d3a360",
   "metadata": {},
   "outputs": [
    {
     "name": "stdout",
     "output_type": "stream",
     "text": [
      "Since you have scored:90, You have passed the exam!\n",
      "Dad: I will buy you a bike! Well Done!\n"
     ]
    }
   ],
   "source": [
    "your_score=90\n",
    "passing_marks=33.33\n",
    "distinction_marks=75\n",
    "\n",
    "if your_score >33.33: #strict case\n",
    "    print(f\"Since you have scored:{your_score}, You have passed the exam!\")\n",
    "    if your_score>distinction_marks:\n",
    "        print(\"Dad: I will buy you a bike! Well Done!\")\n",
    "    else:\n",
    "        print(\"Dad: Better luck next time!\")\n",
    "else:\n",
    "    print(\"Dad: You should have taken things seriously\")"
   ]
  },
  {
   "cell_type": "code",
   "execution_count": 110,
   "id": "5f6123e5",
   "metadata": {},
   "outputs": [
    {
     "name": "stdout",
     "output_type": "stream",
     "text": [
      "Since you have scored:60, You have passed the exam!\n",
      "Dad: Better luck next time!\n"
     ]
    }
   ],
   "source": [
    "your_score=60\n",
    "passing_marks=33.33\n",
    "distinction_marks=75\n",
    "\n",
    "if your_score >33.33: #strict case\n",
    "    print(f\"Since you have scored:{your_score}, You have passed the exam!\")\n",
    "    if your_score>distinction_marks:\n",
    "        print(\"Dad: I will buy you a bike! Well Done!\")\n",
    "    else:\n",
    "        print(\"Dad: Better luck next time!\")\n",
    "else:\n",
    "    print(\"Dad: You should have taken things seriously\")"
   ]
  },
  {
   "cell_type": "code",
   "execution_count": null,
   "id": "67ca330e",
   "metadata": {},
   "outputs": [],
   "source": []
  }
 ],
 "metadata": {
  "kernelspec": {
   "display_name": "Python 3 (ipykernel)",
   "language": "python",
   "name": "python3"
  },
  "language_info": {
   "codemirror_mode": {
    "name": "ipython",
    "version": 3
   },
   "file_extension": ".py",
   "mimetype": "text/x-python",
   "name": "python",
   "nbconvert_exporter": "python",
   "pygments_lexer": "ipython3",
   "version": "3.9.12"
  }
 },
 "nbformat": 4,
 "nbformat_minor": 5
}
