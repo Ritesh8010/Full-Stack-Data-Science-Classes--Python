{
 "cells": [
  {
   "cell_type": "markdown",
   "id": "6f886bf4",
   "metadata": {},
   "source": [
    "# PRINT STATEMENTS"
   ]
  },
  {
   "cell_type": "code",
   "execution_count": 2,
   "id": "0edcc0cb",
   "metadata": {},
   "outputs": [
    {
     "name": "stdout",
     "output_type": "stream",
     "text": [
      "greetings from iNeuron\n",
      "Good Evening\n"
     ]
    }
   ],
   "source": [
    "print(\"greetings from iNeuron\")\n",
    "print(\"Good Evening\")"
   ]
  },
  {
   "cell_type": "code",
   "execution_count": 1,
   "id": "19ecb2d0",
   "metadata": {
    "scrolled": true
   },
   "outputs": [
    {
     "name": "stdout",
     "output_type": "stream",
     "text": [
      "Hello Neurons\n"
     ]
    }
   ],
   "source": [
    "print(\"Hello Neurons\")"
   ]
  },
  {
   "cell_type": "code",
   "execution_count": 3,
   "id": "d29cea51",
   "metadata": {},
   "outputs": [
    {
     "name": "stdout",
     "output_type": "stream",
     "text": [
      "greetings from iNeuron\n",
      "Good Evening\n"
     ]
    }
   ],
   "source": [
    "print('greetings from iNeuron')\n",
    "print('Good Evening')"
   ]
  },
  {
   "cell_type": "code",
   "execution_count": 4,
   "id": "54c2e750",
   "metadata": {},
   "outputs": [
    {
     "ename": "NameError",
     "evalue": "name 'Print' is not defined",
     "output_type": "error",
     "traceback": [
      "\u001b[1;31m---------------------------------------------------------------------------\u001b[0m",
      "\u001b[1;31mNameError\u001b[0m                                 Traceback (most recent call last)",
      "Input \u001b[1;32mIn [4]\u001b[0m, in \u001b[0;36m<cell line: 1>\u001b[1;34m()\u001b[0m\n\u001b[1;32m----> 1\u001b[0m \u001b[43mPrint\u001b[49m(\u001b[38;5;124m\"\u001b[39m\u001b[38;5;124mGood Evening\u001b[39m\u001b[38;5;124m\"\u001b[39m)\n",
      "\u001b[1;31mNameError\u001b[0m: name 'Print' is not defined"
     ]
    }
   ],
   "source": [
    "Print(\"Good Evening\")"
   ]
  },
  {
   "cell_type": "code",
   "execution_count": 5,
   "id": "eace4f5f",
   "metadata": {},
   "outputs": [
    {
     "ename": "SyntaxError",
     "evalue": "Missing parentheses in call to 'print'. Did you mean print(\"Good Evening\")? (213401618.py, line 1)",
     "output_type": "error",
     "traceback": [
      "\u001b[1;36m  Input \u001b[1;32mIn [5]\u001b[1;36m\u001b[0m\n\u001b[1;33m    print \"Good Evening\"\u001b[0m\n\u001b[1;37m          ^\u001b[0m\n\u001b[1;31mSyntaxError\u001b[0m\u001b[1;31m:\u001b[0m Missing parentheses in call to 'print'. Did you mean print(\"Good Evening\")?\n"
     ]
    }
   ],
   "source": [
    "print \"Good Evening\""
   ]
  },
  {
   "cell_type": "code",
   "execution_count": 6,
   "id": "1b84f5c0",
   "metadata": {},
   "outputs": [
    {
     "ename": "SyntaxError",
     "evalue": "EOL while scanning string literal (705981708.py, line 1)",
     "output_type": "error",
     "traceback": [
      "\u001b[1;36m  Input \u001b[1;32mIn [6]\u001b[1;36m\u001b[0m\n\u001b[1;33m    print(\"Good\u001b[0m\n\u001b[1;37m               ^\u001b[0m\n\u001b[1;31mSyntaxError\u001b[0m\u001b[1;31m:\u001b[0m EOL while scanning string literal\n"
     ]
    }
   ],
   "source": [
    "print(\"Good\n",
    "      Evening\")"
   ]
  },
  {
   "cell_type": "code",
   "execution_count": 7,
   "id": "80129fd6",
   "metadata": {},
   "outputs": [
    {
     "data": {
      "text/plain": [
       "'Good morning'"
      ]
     },
     "execution_count": 7,
     "metadata": {},
     "output_type": "execute_result"
    }
   ],
   "source": [
    "\"Good morning\""
   ]
  },
  {
   "cell_type": "code",
   "execution_count": 8,
   "id": "4b28307d",
   "metadata": {},
   "outputs": [
    {
     "name": "stdout",
     "output_type": "stream",
     "text": [
      "HI\n"
     ]
    }
   ],
   "source": [
    "\"Good morning\"\n",
    "print(\"HI\")"
   ]
  },
  {
   "cell_type": "code",
   "execution_count": 9,
   "id": "1f561c91",
   "metadata": {},
   "outputs": [
    {
     "name": "stdout",
     "output_type": "stream",
     "text": [
      "Good\n",
      "Evening\n"
     ]
    }
   ],
   "source": [
    "print(\"\"\"Good\n",
    "Evening\"\"\")"
   ]
  },
  {
   "cell_type": "code",
   "execution_count": 10,
   "id": "29fca15e",
   "metadata": {},
   "outputs": [
    {
     "name": "stdout",
     "output_type": "stream",
     "text": [
      "India, officially the Republic of India (Hindi: Bhārat Gaṇarājya),[25] is a country in South Asia. It is the seventh-largest country by area, the second-most populous country, and the most populous democracy in the world. Bounded by the Indian Ocean on the south, the Arabian Sea on the southwest, and the Bay of Bengal on the southeast, it shares land borders with Pakistan to the west;[f] China, Nepal, and Bhutan to the north; and Bangladesh and Myanmar to the east. In the Indian Ocean, India is in the vicinity of Sri Lanka and the Maldives; its Andaman and Nicobar Islands share a maritime border with Thailand, Myanmar, and Indonesia. The nation's capital city is New Delhi.\n",
      "\n"
     ]
    }
   ],
   "source": [
    "print(\"\"\"India, officially the Republic of India (Hindi: Bhārat Gaṇarājya),[25] is a country in South Asia. It is the seventh-largest country by area, the second-most populous country, and the most populous democracy in the world. Bounded by the Indian Ocean on the south, the Arabian Sea on the southwest, and the Bay of Bengal on the southeast, it shares land borders with Pakistan to the west;[f] China, Nepal, and Bhutan to the north; and Bangladesh and Myanmar to the east. In the Indian Ocean, India is in the vicinity of Sri Lanka and the Maldives; its Andaman and Nicobar Islands share a maritime border with Thailand, Myanmar, and Indonesia. The nation's capital city is New Delhi.\n",
    "\"\"\")"
   ]
  },
  {
   "cell_type": "code",
   "execution_count": 11,
   "id": "6babd24c",
   "metadata": {
    "scrolled": true
   },
   "outputs": [
    {
     "name": "stdout",
     "output_type": "stream",
     "text": [
      "Good\n",
      "Evening\n",
      "from\n",
      "India\n"
     ]
    }
   ],
   "source": [
    "print(\"\"\"Good\n",
    "Evening\n",
    "from\n",
    "India\"\"\")"
   ]
  },
  {
   "cell_type": "markdown",
   "id": "4f79b125",
   "metadata": {},
   "source": [
    "COMMENTS"
   ]
  },
  {
   "cell_type": "code",
   "execution_count": 12,
   "id": "ce9365ea",
   "metadata": {},
   "outputs": [
    {
     "name": "stdout",
     "output_type": "stream",
     "text": [
      "Hi Students\n"
     ]
    }
   ],
   "source": [
    "# SAY HELLO TO THE STUDENTS\n",
    "print ('Hi Students')"
   ]
  },
  {
   "cell_type": "code",
   "execution_count": 13,
   "id": "71627491",
   "metadata": {},
   "outputs": [],
   "source": [
    "# SAY HELLO TO THE STUDENTS\n",
    "#print ('Hi students')"
   ]
  },
  {
   "cell_type": "markdown",
   "id": "752f19bc",
   "metadata": {},
   "source": [
    "Multi line Comments"
   ]
  },
  {
   "cell_type": "code",
   "execution_count": 16,
   "id": "889dea87",
   "metadata": {},
   "outputs": [
    {
     "name": "stdout",
     "output_type": "stream",
     "text": [
      "Hi Students\n"
     ]
    }
   ],
   "source": [
    "\"\"\"\n",
    "Say Hi\n",
    "To the Students\n",
    "\"\"\"\n",
    "print('Hi Students')"
   ]
  },
  {
   "cell_type": "code",
   "execution_count": 17,
   "id": "a010e84a",
   "metadata": {},
   "outputs": [
    {
     "name": "stdout",
     "output_type": "stream",
     "text": [
      "Hi Students\n"
     ]
    }
   ],
   "source": [
    "#Say Hi\n",
    "#To the Students\n",
    "print('Hi Students')"
   ]
  },
  {
   "cell_type": "code",
   "execution_count": 18,
   "id": "424b6f45",
   "metadata": {},
   "outputs": [
    {
     "ename": "SyntaxError",
     "evalue": "invalid syntax (1736668985.py, line 3)",
     "output_type": "error",
     "traceback": [
      "\u001b[1;36m  Input \u001b[1;32mIn [18]\u001b[1;36m\u001b[0m\n\u001b[1;33m    print(\"hi my name is \"sunny\" \")\u001b[0m\n\u001b[1;37m                          ^\u001b[0m\n\u001b[1;31mSyntaxError\u001b[0m\u001b[1;31m:\u001b[0m invalid syntax\n"
     ]
    }
   ],
   "source": [
    "# more exceptional cases in print statements\n",
    "\n",
    "print(\"hi my name is \"sunny\" \")"
   ]
  },
  {
   "cell_type": "code",
   "execution_count": 21,
   "id": "38125530",
   "metadata": {},
   "outputs": [
    {
     "name": "stdout",
     "output_type": "stream",
     "text": [
      "hi my name is \"sunny\" \n"
     ]
    }
   ],
   "source": [
    "print('hi my name is \"sunny\" ')"
   ]
  },
  {
   "cell_type": "code",
   "execution_count": 22,
   "id": "e9ed2b53",
   "metadata": {},
   "outputs": [
    {
     "name": "stdout",
     "output_type": "stream",
     "text": [
      "hi my name is 'sunny' \n"
     ]
    }
   ],
   "source": [
    "print(\"hi my name is 'sunny' \")"
   ]
  },
  {
   "cell_type": "code",
   "execution_count": 23,
   "id": "deee1dd4",
   "metadata": {},
   "outputs": [
    {
     "name": "stdout",
     "output_type": "stream",
     "text": [
      "hi my name is \"sunny\" \n"
     ]
    }
   ],
   "source": [
    "print(\"\"\"hi my name is \"sunny\" \"\"\")"
   ]
  },
  {
   "cell_type": "code",
   "execution_count": 24,
   "id": "08aebbb3",
   "metadata": {},
   "outputs": [
    {
     "name": "stdout",
     "output_type": "stream",
     "text": [
      "hi my name is \"sunny\"! \n"
     ]
    }
   ],
   "source": [
    "print(\"\"\"hi my name is \"sunny\"! \"\"\")"
   ]
  },
  {
   "cell_type": "markdown",
   "id": "cfb80434",
   "metadata": {},
   "source": [
    "# Header --Markdown\n"
   ]
  },
  {
   "cell_type": "code",
   "execution_count": 26,
   "id": "918a8ab9",
   "metadata": {},
   "outputs": [
    {
     "data": {
      "text/plain": [
       "368"
      ]
     },
     "execution_count": 26,
     "metadata": {},
     "output_type": "execute_result"
    }
   ],
   "source": [
    "123+245 # Sum of 2 nos"
   ]
  },
  {
   "cell_type": "code",
   "execution_count": 27,
   "id": "3f2043db",
   "metadata": {},
   "outputs": [
    {
     "data": {
      "text/plain": [
       "30135"
      ]
     },
     "execution_count": 27,
     "metadata": {},
     "output_type": "execute_result"
    }
   ],
   "source": [
    " 123 * 245"
   ]
  },
  {
   "cell_type": "code",
   "execution_count": 28,
   "id": "b005462b",
   "metadata": {},
   "outputs": [
    {
     "data": {
      "text/plain": [
       "0.5020408163265306"
      ]
     },
     "execution_count": 28,
     "metadata": {},
     "output_type": "execute_result"
    }
   ],
   "source": [
    "123 /245"
   ]
  },
  {
   "cell_type": "code",
   "execution_count": 29,
   "id": "816aff9f",
   "metadata": {},
   "outputs": [
    {
     "data": {
      "text/plain": [
       "15129"
      ]
     },
     "execution_count": 29,
     "metadata": {},
     "output_type": "execute_result"
    }
   ],
   "source": [
    "123**2 # power of 123 raised to 2"
   ]
  },
  {
   "cell_type": "code",
   "execution_count": 30,
   "id": "26cff715",
   "metadata": {},
   "outputs": [
    {
     "data": {
      "text/plain": [
       "1"
      ]
     },
     "execution_count": 30,
     "metadata": {},
     "output_type": "execute_result"
    }
   ],
   "source": [
    "123%2 # modulo operator which gives you reminder"
   ]
  },
  {
   "cell_type": "code",
   "execution_count": 32,
   "id": "afe266fc",
   "metadata": {},
   "outputs": [
    {
     "data": {
      "text/plain": [
       "15129"
      ]
     },
     "execution_count": 32,
     "metadata": {},
     "output_type": "execute_result"
    }
   ],
   "source": [
    "(-123)**2"
   ]
  },
  {
   "cell_type": "code",
   "execution_count": 38,
   "id": "6d2b5a8d",
   "metadata": {},
   "outputs": [
    {
     "data": {
      "text/plain": [
       "0"
      ]
     },
     "execution_count": 38,
     "metadata": {},
     "output_type": "execute_result"
    }
   ],
   "source": [
    "122%2"
   ]
  },
  {
   "cell_type": "code",
   "execution_count": 34,
   "id": "ab52f047",
   "metadata": {},
   "outputs": [
    {
     "name": "stdout",
     "output_type": "stream",
     "text": [
      "Result\n"
     ]
    }
   ],
   "source": [
    "123 * 245\n",
    "print(\"Result\")"
   ]
  },
  {
   "cell_type": "code",
   "execution_count": 35,
   "id": "938a70fe",
   "metadata": {},
   "outputs": [
    {
     "name": "stdout",
     "output_type": "stream",
     "text": [
      "30135\n",
      "Result\n"
     ]
    }
   ],
   "source": [
    "print(123 * 245)\n",
    "print(\"Result\")"
   ]
  },
  {
   "cell_type": "code",
   "execution_count": 36,
   "id": "c9343e74",
   "metadata": {},
   "outputs": [
    {
     "name": "stdout",
     "output_type": "stream",
     "text": [
      "123 * 245\n",
      "Result\n"
     ]
    }
   ],
   "source": [
    "print(\"123 * 245\")\n",
    "print(\"Result\")"
   ]
  },
  {
   "cell_type": "markdown",
   "id": "fcb8d4ad",
   "metadata": {},
   "source": [
    "# Variables in Python"
   ]
  },
  {
   "cell_type": "code",
   "execution_count": 39,
   "id": "a354f9d7",
   "metadata": {},
   "outputs": [
    {
     "name": "stdout",
     "output_type": "stream",
     "text": [
      "10\n"
     ]
    }
   ],
   "source": [
    "x=10\n",
    "print(x)"
   ]
  },
  {
   "cell_type": "code",
   "execution_count": 40,
   "id": "f137c76a",
   "metadata": {},
   "outputs": [],
   "source": [
    "y=20"
   ]
  },
  {
   "cell_type": "code",
   "execution_count": 41,
   "id": "926ab605",
   "metadata": {},
   "outputs": [
    {
     "name": "stdout",
     "output_type": "stream",
     "text": [
      "20\n"
     ]
    }
   ],
   "source": [
    "print(y)"
   ]
  },
  {
   "cell_type": "code",
   "execution_count": 42,
   "id": "9a84ddde",
   "metadata": {},
   "outputs": [
    {
     "name": "stdout",
     "output_type": "stream",
     "text": [
      "30\n"
     ]
    }
   ],
   "source": [
    "print(x+y)"
   ]
  },
  {
   "cell_type": "code",
   "execution_count": 43,
   "id": "a51b633d",
   "metadata": {},
   "outputs": [
    {
     "name": "stdout",
     "output_type": "stream",
     "text": [
      "0.5\n"
     ]
    }
   ],
   "source": [
    "print(x/y)"
   ]
  },
  {
   "cell_type": "markdown",
   "id": "42c8143b",
   "metadata": {},
   "source": [
    "1. Variables name should start with alphabets\n",
    "2. Variables name should not contain any special characters ike ^ % $ ! @ ^ * ()\n",
    "3. Variables names can contain no but you cant start with numbers\n",
    "4.Its not a strict rule that variables start with capital letters but it is recommended."
   ]
  },
  {
   "cell_type": "markdown",
   "id": "307bfab6",
   "metadata": {},
   "source": [
    "1. Variables name should start with alphabets"
   ]
  },
  {
   "cell_type": "code",
   "execution_count": 44,
   "id": "11158aff",
   "metadata": {},
   "outputs": [],
   "source": [
    "ten=10\n",
    "ten_number=10\n",
    "tenNumber=10\n"
   ]
  },
  {
   "cell_type": "markdown",
   "id": "55ba0125",
   "metadata": {},
   "source": [
    "2. Variables name should not contain any special characters ike ^ % $ ! @ ^ * ()"
   ]
  },
  {
   "cell_type": "code",
   "execution_count": 1,
   "id": "b63e3d9b",
   "metadata": {},
   "outputs": [
    {
     "ename": "NameError",
     "evalue": "name 'ten' is not defined",
     "output_type": "error",
     "traceback": [
      "\u001b[1;31m---------------------------------------------------------------------------\u001b[0m",
      "\u001b[1;31mNameError\u001b[0m                                 Traceback (most recent call last)",
      "Input \u001b[1;32mIn [1]\u001b[0m, in \u001b[0;36m<cell line: 1>\u001b[1;34m()\u001b[0m\n\u001b[1;32m----> 1\u001b[0m ten\u001b[38;5;241m*\u001b[39m\u001b[38;5;241m=\u001b[39m\u001b[38;5;241m10\u001b[39m\n",
      "\u001b[1;31mNameError\u001b[0m: name 'ten' is not defined"
     ]
    }
   ],
   "source": [
    "ten*=10"
   ]
  },
  {
   "cell_type": "code",
   "execution_count": 2,
   "id": "00debf1a",
   "metadata": {},
   "outputs": [
    {
     "ename": "SyntaxError",
     "evalue": "cannot assign to operator (3935745263.py, line 3)",
     "output_type": "error",
     "traceback": [
      "\u001b[1;36m  Input \u001b[1;32mIn [2]\u001b[1;36m\u001b[0m\n\u001b[1;33m    ten%number=10\u001b[0m\n\u001b[1;37m    ^\u001b[0m\n\u001b[1;31mSyntaxError\u001b[0m\u001b[1;31m:\u001b[0m cannot assign to operator\n"
     ]
    }
   ],
   "source": [
    "ten=10\n",
    "ten_number=10\n",
    "ten%number=10\n",
    "tenNumber=10"
   ]
  },
  {
   "cell_type": "code",
   "execution_count": 3,
   "id": "f1a7588d",
   "metadata": {},
   "outputs": [
    {
     "ename": "SyntaxError",
     "evalue": "cannot assign to operator (1823854840.py, line 3)",
     "output_type": "error",
     "traceback": [
      "\u001b[1;36m  Input \u001b[1;32mIn [3]\u001b[1;36m\u001b[0m\n\u001b[1;33m    ten/number=10\u001b[0m\n\u001b[1;37m    ^\u001b[0m\n\u001b[1;31mSyntaxError\u001b[0m\u001b[1;31m:\u001b[0m cannot assign to operator\n"
     ]
    }
   ],
   "source": [
    "ten=10\n",
    "ten_number=10\n",
    "ten/number=10\n",
    "tenNumber=10"
   ]
  },
  {
   "cell_type": "code",
   "execution_count": null,
   "id": "49b8d0cf",
   "metadata": {},
   "outputs": [],
   "source": [
    "3. Variables names can contain no but you cant start with numbers"
   ]
  },
  {
   "cell_type": "code",
   "execution_count": 4,
   "id": "bb59c571",
   "metadata": {},
   "outputs": [],
   "source": [
    "ten=10"
   ]
  },
  {
   "cell_type": "code",
   "execution_count": 5,
   "id": "60a4bedf",
   "metadata": {},
   "outputs": [
    {
     "ename": "SyntaxError",
     "evalue": "invalid syntax (2851132279.py, line 1)",
     "output_type": "error",
     "traceback": [
      "\u001b[1;36m  Input \u001b[1;32mIn [5]\u001b[1;36m\u001b[0m\n\u001b[1;33m    10ten=10\u001b[0m\n\u001b[1;37m      ^\u001b[0m\n\u001b[1;31mSyntaxError\u001b[0m\u001b[1;31m:\u001b[0m invalid syntax\n"
     ]
    }
   ],
   "source": [
    "10ten=10"
   ]
  },
  {
   "cell_type": "code",
   "execution_count": 6,
   "id": "e8ecfa7a",
   "metadata": {},
   "outputs": [],
   "source": [
    "_num=10 # hidden variable"
   ]
  },
  {
   "cell_type": "code",
   "execution_count": null,
   "id": "8a7c61b1",
   "metadata": {},
   "outputs": [],
   "source": [
    "4.Its not a strict rule that variables start with capital letters but it is recommended."
   ]
  },
  {
   "cell_type": "code",
   "execution_count": 7,
   "id": "ff8ac058",
   "metadata": {},
   "outputs": [],
   "source": [
    "Ten=10"
   ]
  },
  {
   "cell_type": "code",
   "execution_count": 8,
   "id": "7008da85",
   "metadata": {},
   "outputs": [
    {
     "ename": "SyntaxError",
     "evalue": "invalid syntax (2336307459.py, line 1)",
     "output_type": "error",
     "traceback": [
      "\u001b[1;36m  Input \u001b[1;32mIn [8]\u001b[1;36m\u001b[0m\n\u001b[1;33m    ten number=10\u001b[0m\n\u001b[1;37m        ^\u001b[0m\n\u001b[1;31mSyntaxError\u001b[0m\u001b[1;31m:\u001b[0m invalid syntax\n"
     ]
    }
   ],
   "source": [
    "ten number=10"
   ]
  },
  {
   "cell_type": "code",
   "execution_count": 10,
   "id": "62b53a83",
   "metadata": {},
   "outputs": [],
   "source": [
    "tenn_umber=10"
   ]
  },
  {
   "cell_type": "markdown",
   "id": "16986ab6",
   "metadata": {},
   "source": [
    "# Data Type\n"
   ]
  },
  {
   "cell_type": "markdown",
   "id": "cbcc1048",
   "metadata": {},
   "source": [
    "# Fundamental Dataype"
   ]
  },
  {
   "cell_type": "markdown",
   "id": "a6108f7d",
   "metadata": {},
   "source": [
    "Integers"
   ]
  },
  {
   "cell_type": "code",
   "execution_count": 1,
   "id": "daee08a5",
   "metadata": {},
   "outputs": [],
   "source": [
    "a=7"
   ]
  },
  {
   "cell_type": "code",
   "execution_count": 2,
   "id": "02b2c035",
   "metadata": {},
   "outputs": [
    {
     "data": {
      "text/plain": [
       "int"
      ]
     },
     "execution_count": 2,
     "metadata": {},
     "output_type": "execute_result"
    }
   ],
   "source": [
    "type(a)"
   ]
  },
  {
   "cell_type": "code",
   "execution_count": 4,
   "id": "fe4bcc85",
   "metadata": {},
   "outputs": [
    {
     "data": {
      "text/plain": [
       "int"
      ]
     },
     "execution_count": 4,
     "metadata": {},
     "output_type": "execute_result"
    }
   ],
   "source": [
    "type(b)"
   ]
  },
  {
   "cell_type": "code",
   "execution_count": 3,
   "id": "aafd0390",
   "metadata": {},
   "outputs": [],
   "source": [
    "b=7777"
   ]
  },
  {
   "cell_type": "markdown",
   "id": "800dea9c",
   "metadata": {},
   "source": [
    "# Float-numbers containing decimal"
   ]
  },
  {
   "cell_type": "code",
   "execution_count": 10,
   "id": "ac83fe1f",
   "metadata": {},
   "outputs": [
    {
     "data": {
      "text/plain": [
       "3.14"
      ]
     },
     "execution_count": 10,
     "metadata": {},
     "output_type": "execute_result"
    }
   ],
   "source": [
    "pi=3.14\n",
    "pi"
   ]
  },
  {
   "cell_type": "code",
   "execution_count": 12,
   "id": "a201b48b",
   "metadata": {},
   "outputs": [
    {
     "data": {
      "text/plain": [
       "3.142857142857143"
      ]
     },
     "execution_count": 12,
     "metadata": {},
     "output_type": "execute_result"
    }
   ],
   "source": [
    "pi=22/7\n",
    "pi"
   ]
  },
  {
   "cell_type": "code",
   "execution_count": 14,
   "id": "e79adaa9",
   "metadata": {},
   "outputs": [
    {
     "data": {
      "text/plain": [
       "float"
      ]
     },
     "execution_count": 14,
     "metadata": {},
     "output_type": "execute_result"
    }
   ],
   "source": [
    "type(pi)"
   ]
  },
  {
   "cell_type": "code",
   "execution_count": 7,
   "id": "976d6f47",
   "metadata": {},
   "outputs": [
    {
     "data": {
      "text/plain": [
       "float"
      ]
     },
     "execution_count": 7,
     "metadata": {},
     "output_type": "execute_result"
    }
   ],
   "source": [
    "type(pi)"
   ]
  },
  {
   "cell_type": "code",
   "execution_count": 8,
   "id": "2852b417",
   "metadata": {},
   "outputs": [],
   "source": [
    "x=2.0"
   ]
  },
  {
   "cell_type": "code",
   "execution_count": 9,
   "id": "6eedf5b9",
   "metadata": {},
   "outputs": [
    {
     "data": {
      "text/plain": [
       "float"
      ]
     },
     "execution_count": 9,
     "metadata": {},
     "output_type": "execute_result"
    }
   ],
   "source": [
    "type(x)"
   ]
  },
  {
   "cell_type": "markdown",
   "id": "c173b4e4",
   "metadata": {},
   "source": [
    "# Complex\n"
   ]
  },
  {
   "cell_type": "code",
   "execution_count": 18,
   "id": "380275db",
   "metadata": {},
   "outputs": [
    {
     "data": {
      "text/plain": [
       "(2+3j)"
      ]
     },
     "execution_count": 18,
     "metadata": {},
     "output_type": "execute_result"
    }
   ],
   "source": [
    "a=2+3j\n",
    "a"
   ]
  },
  {
   "cell_type": "code",
   "execution_count": 17,
   "id": "49413725",
   "metadata": {},
   "outputs": [
    {
     "data": {
      "text/plain": [
       "complex"
      ]
     },
     "execution_count": 17,
     "metadata": {},
     "output_type": "execute_result"
    }
   ],
   "source": [
    "type(a)"
   ]
  },
  {
   "cell_type": "code",
   "execution_count": 20,
   "id": "bf48dd18",
   "metadata": {},
   "outputs": [
    {
     "data": {
      "text/plain": [
       "2.0"
      ]
     },
     "execution_count": 20,
     "metadata": {},
     "output_type": "execute_result"
    }
   ],
   "source": [
    "a.real"
   ]
  },
  {
   "cell_type": "code",
   "execution_count": 21,
   "id": "675bc6cf",
   "metadata": {},
   "outputs": [
    {
     "data": {
      "text/plain": [
       "3.0"
      ]
     },
     "execution_count": 21,
     "metadata": {},
     "output_type": "execute_result"
    }
   ],
   "source": [
    "a.imag"
   ]
  },
  {
   "cell_type": "code",
   "execution_count": 23,
   "id": "ef01231d",
   "metadata": {},
   "outputs": [
    {
     "data": {
      "text/plain": [
       "(2-3j)"
      ]
     },
     "execution_count": 23,
     "metadata": {},
     "output_type": "execute_result"
    }
   ],
   "source": [
    "a.conjugate()"
   ]
  },
  {
   "cell_type": "markdown",
   "id": "76c394f1",
   "metadata": {},
   "source": [
    "# Dynamic typing"
   ]
  },
  {
   "cell_type": "code",
   "execution_count": 25,
   "id": "5e717c44",
   "metadata": {},
   "outputs": [],
   "source": [
    "#int a=22;"
   ]
  },
  {
   "cell_type": "code",
   "execution_count": 2,
   "id": "edfc97a5",
   "metadata": {},
   "outputs": [
    {
     "name": "stdout",
     "output_type": "stream",
     "text": [
      "<class 'int'>\n",
      "<class 'float'>\n",
      "<class 'str'>\n"
     ]
    }
   ],
   "source": [
    "a=22\n",
    "print(type(a))\n",
    "a=22.2\n",
    "print(type(a))\n",
    "a=\"Sunny\"\n",
    "print(type(a))"
   ]
  },
  {
   "cell_type": "code",
   "execution_count": 3,
   "id": "5186d0b9",
   "metadata": {},
   "outputs": [
    {
     "name": "stdout",
     "output_type": "stream",
     "text": [
      "Sunny\n"
     ]
    }
   ],
   "source": [
    "print(a)"
   ]
  },
  {
   "cell_type": "markdown",
   "id": "0eb2b83c",
   "metadata": {},
   "source": [
    "# Strong typing"
   ]
  },
  {
   "cell_type": "code",
   "execution_count": 6,
   "id": "fc645366",
   "metadata": {},
   "outputs": [
    {
     "data": {
      "text/plain": [
       "'Day1'"
      ]
     },
     "execution_count": 6,
     "metadata": {},
     "output_type": "execute_result"
    }
   ],
   "source": [
    "\"Day\"+\"1\""
   ]
  },
  {
   "cell_type": "code",
   "execution_count": 12,
   "id": "0f9e6519",
   "metadata": {},
   "outputs": [
    {
     "data": {
      "text/plain": [
       "44"
      ]
     },
     "execution_count": 12,
     "metadata": {},
     "output_type": "execute_result"
    }
   ],
   "source": [
    "22+22"
   ]
  },
  {
   "cell_type": "code",
   "execution_count": 13,
   "id": "ccbf5f72",
   "metadata": {},
   "outputs": [
    {
     "data": {
      "text/plain": [
       "'2222'"
      ]
     },
     "execution_count": 13,
     "metadata": {},
     "output_type": "execute_result"
    }
   ],
   "source": [
    "\"22\"+\"22\""
   ]
  },
  {
   "cell_type": "code",
   "execution_count": 14,
   "id": "91e394ab",
   "metadata": {},
   "outputs": [
    {
     "ename": "TypeError",
     "evalue": "can only concatenate str (not \"int\") to str",
     "output_type": "error",
     "traceback": [
      "\u001b[1;31m---------------------------------------------------------------------------\u001b[0m",
      "\u001b[1;31mTypeError\u001b[0m                                 Traceback (most recent call last)",
      "Input \u001b[1;32mIn [14]\u001b[0m, in \u001b[0;36m<cell line: 1>\u001b[1;34m()\u001b[0m\n\u001b[1;32m----> 1\u001b[0m \u001b[38;5;124;43m\"\u001b[39;49m\u001b[38;5;124;43m22\u001b[39;49m\u001b[38;5;124;43m\"\u001b[39;49m\u001b[38;5;241;43m+\u001b[39;49m\u001b[38;5;241;43m22\u001b[39;49m\n",
      "\u001b[1;31mTypeError\u001b[0m: can only concatenate str (not \"int\") to str"
     ]
    }
   ],
   "source": [
    "\"22\"+22"
   ]
  },
  {
   "cell_type": "code",
   "execution_count": 15,
   "id": "47f49c07",
   "metadata": {},
   "outputs": [
    {
     "data": {
      "text/plain": [
       "'2222'"
      ]
     },
     "execution_count": 15,
     "metadata": {},
     "output_type": "execute_result"
    }
   ],
   "source": [
    "\"22\"+'22'"
   ]
  },
  {
   "cell_type": "code",
   "execution_count": 11,
   "id": "f159f013",
   "metadata": {},
   "outputs": [
    {
     "data": {
      "text/plain": [
       "'Sunny Chandra'"
      ]
     },
     "execution_count": 11,
     "metadata": {},
     "output_type": "execute_result"
    }
   ],
   "source": [
    "\"Sunny\" +\" \" \"Chandra\""
   ]
  },
  {
   "cell_type": "code",
   "execution_count": 16,
   "id": "3b570109",
   "metadata": {},
   "outputs": [
    {
     "data": {
      "text/plain": [
       "23.2"
      ]
     },
     "execution_count": 16,
     "metadata": {},
     "output_type": "execute_result"
    }
   ],
   "source": [
    "22.2+1"
   ]
  },
  {
   "cell_type": "code",
   "execution_count": 17,
   "id": "94b4b4fa",
   "metadata": {},
   "outputs": [],
   "source": [
    "a=1#integer  data type\n",
    "b=1.2 #float data type\n",
    "c=\"Sunny\"# string data type\n",
    "f=1+2J #Complex dat type"
   ]
  },
  {
   "cell_type": "code",
   "execution_count": 18,
   "id": "0face3db",
   "metadata": {},
   "outputs": [
    {
     "name": "stdout",
     "output_type": "stream",
     "text": [
      "Hi welcome to class of python language\n"
     ]
    }
   ],
   "source": [
    "print(\"Hi welcome to class of python language\")"
   ]
  },
  {
   "cell_type": "code",
   "execution_count": 20,
   "id": "464767eb",
   "metadata": {},
   "outputs": [
    {
     "name": "stdout",
     "output_type": "stream",
     "text": [
      "Hi welcome to class of Java language\n"
     ]
    }
   ],
   "source": [
    "print(\"Hi welcome to class of Java language\")"
   ]
  },
  {
   "cell_type": "code",
   "execution_count": 25,
   "id": "cdd7b19d",
   "metadata": {},
   "outputs": [
    {
     "name": "stdout",
     "output_type": "stream",
     "text": [
      "Hi welcome to class ofpython language\n"
     ]
    }
   ],
   "source": [
    "language=\"python\"\n",
    "print(\"Hi welcome to class of\" +language +  \" language\")"
   ]
  },
  {
   "cell_type": "code",
   "execution_count": 26,
   "id": "dac84c48",
   "metadata": {},
   "outputs": [
    {
     "name": "stdout",
     "output_type": "stream",
     "text": [
      "Hi welcome to class ofJava language\n"
     ]
    }
   ],
   "source": [
    "language=\"Java\"\n",
    "print(\"Hi welcome to class of\" +language +  \" language\")"
   ]
  },
  {
   "cell_type": "code",
   "execution_count": 27,
   "id": "3e1a3732",
   "metadata": {},
   "outputs": [
    {
     "name": "stdout",
     "output_type": "stream",
     "text": [
      "Hi welcome to class ofJava script language\n"
     ]
    }
   ],
   "source": [
    "language=\"Java script\"\n",
    "print(\"Hi welcome to class of\" +language +  \" language\")"
   ]
  },
  {
   "cell_type": "code",
   "execution_count": 30,
   "id": "88c3b963",
   "metadata": {},
   "outputs": [
    {
     "name": "stdout",
     "output_type": "stream",
     "text": [
      "Hi welcome to class of Java script  language\n"
     ]
    }
   ],
   "source": [
    "language=\"Java script\"\n",
    "print(f\"Hi welcome to class of {language}  language\")"
   ]
  },
  {
   "cell_type": "code",
   "execution_count": 32,
   "id": "74420ad2",
   "metadata": {},
   "outputs": [
    {
     "name": "stdout",
     "output_type": "stream",
     "text": [
      "Hi welcome to class of Java script language\n"
     ]
    }
   ],
   "source": [
    "language=\"Java script\"\n",
    "print(\"Hi welcome to class of {} language\".format(language))"
   ]
  },
  {
   "cell_type": "code",
   "execution_count": 33,
   "id": "dc3cce73",
   "metadata": {},
   "outputs": [
    {
     "name": "stdout",
     "output_type": "stream",
     "text": [
      "Today is the first class of Java script language\n"
     ]
    }
   ],
   "source": [
    "# f-> formatted string method\n",
    "num=\"first\"\n",
    "\n",
    "language=\"Java script\"\n",
    "print(f\"Today is the {num} class of {language} language\")# current standard approach"
   ]
  },
  {
   "cell_type": "code",
   "execution_count": 35,
   "id": "7d479f49",
   "metadata": {},
   "outputs": [
    {
     "name": "stdout",
     "output_type": "stream",
     "text": [
      "Today is the first class of Java script language\n"
     ]
    }
   ],
   "source": [
    "# f-> formatted string method\n",
    "num=\"first\"\n",
    "\n",
    "language=\"Java script\"\n",
    "print(\"Today is the {} class of {} language\".format(num,language))"
   ]
  },
  {
   "cell_type": "code",
   "execution_count": 39,
   "id": "8c70695a",
   "metadata": {},
   "outputs": [
    {
     "name": "stdout",
     "output_type": "stream",
     "text": [
      "Today is the firstclass of Java script language\n"
     ]
    }
   ],
   "source": [
    "\n",
    "num=\"first\"\n",
    "\n",
    "language=\"Java script\"\n",
    "print(\"Today is the \"+ num +\"class of \"+ language +\" language\")"
   ]
  },
  {
   "cell_type": "code",
   "execution_count": 41,
   "id": "17b776d8",
   "metadata": {},
   "outputs": [
    {
     "name": "stdout",
     "output_type": "stream",
     "text": [
      "the result of sum of two nums a: 22 and b: 34 is c  =56\n"
     ]
    }
   ],
   "source": [
    "a=22\n",
    "b=34\n",
    "c=a+b\n",
    "print(f\"the result of sum of two nums a: {a} and b: {b} is c  ={c}\")"
   ]
  },
  {
   "cell_type": "markdown",
   "id": "5ad0af28",
   "metadata": {},
   "source": [
    "# Boolean\n",
    "true false"
   ]
  },
  {
   "cell_type": "code",
   "execution_count": 42,
   "id": "0be801ee",
   "metadata": {},
   "outputs": [
    {
     "name": "stdout",
     "output_type": "stream",
     "text": [
      "<class 'bool'>\n",
      "<class 'bool'>\n"
     ]
    }
   ],
   "source": [
    "one=True\n",
    "two= False\n",
    "\n",
    "print(type(one))\n",
    "print(type(two))"
   ]
  },
  {
   "cell_type": "code",
   "execution_count": 44,
   "id": "09a1d2a7",
   "metadata": {},
   "outputs": [
    {
     "data": {
      "text/plain": [
       "False"
      ]
     },
     "execution_count": 44,
     "metadata": {},
     "output_type": "execute_result"
    }
   ],
   "source": [
    "class_strats_at= 1500\n",
    "you_came_at=1600\n",
    "you_came_at < class_strats_at"
   ]
  },
  {
   "cell_type": "code",
   "execution_count": 46,
   "id": "eff3855a",
   "metadata": {},
   "outputs": [
    {
     "name": "stdout",
     "output_type": "stream",
     "text": [
      "You understood everything?:True\n"
     ]
    }
   ],
   "source": [
    "class_strats_at= 3\n",
    "you_came_at=2\n",
    "you_understood_all_concepts = you_came_at < class_strats_at\n",
    "\n",
    "print(f\"You understood everything?:{you_understood_all_concepts}\")"
   ]
  },
  {
   "cell_type": "code",
   "execution_count": 47,
   "id": "4dd3381f",
   "metadata": {},
   "outputs": [
    {
     "name": "stdout",
     "output_type": "stream",
     "text": [
      "You understood everything?:False\n"
     ]
    }
   ],
   "source": [
    "class_strats_at= 3\n",
    "you_came_at=4\n",
    "you_understood_all_concepts = you_came_at < class_strats_at\n",
    "\n",
    "print(f\"You understood everything?:{you_understood_all_concepts}\")"
   ]
  },
  {
   "cell_type": "code",
   "execution_count": 48,
   "id": "b2d68624",
   "metadata": {},
   "outputs": [
    {
     "name": "stdout",
     "output_type": "stream",
     "text": [
      "will you \n"
     ]
    }
   ],
   "source": [
    "is_raining=True\n",
    "print(f\"will you \")"
   ]
  },
  {
   "cell_type": "code",
   "execution_count": 1,
   "id": "513cc786",
   "metadata": {},
   "outputs": [
    {
     "data": {
      "text/plain": [
       "4"
      ]
     },
     "execution_count": 1,
     "metadata": {},
     "output_type": "execute_result"
    }
   ],
   "source": [
    "2+2"
   ]
  },
  {
   "cell_type": "code",
   "execution_count": null,
   "id": "86149c70",
   "metadata": {},
   "outputs": [],
   "source": []
  }
 ],
 "metadata": {
  "kernelspec": {
   "display_name": "Python 3 (ipykernel)",
   "language": "python",
   "name": "python3"
  },
  "language_info": {
   "codemirror_mode": {
    "name": "ipython",
    "version": 3
   },
   "file_extension": ".py",
   "mimetype": "text/x-python",
   "name": "python",
   "nbconvert_exporter": "python",
   "pygments_lexer": "ipython3",
   "version": "3.9.12"
  }
 },
 "nbformat": 4,
 "nbformat_minor": 5
}
