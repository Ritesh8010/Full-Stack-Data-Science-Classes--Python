{
 "cells": [
  {
   "cell_type": "code",
   "execution_count": null,
   "id": "3d5acb34",
   "metadata": {},
   "outputs": [],
   "source": [
    "Try to understand the following examples and answer the question based on it -\n",
    "Arithmatic Operators\n",
    "\n",
    "Operation\tMeaning\n",
    "+\taddition\n",
    "-\tsubtraction\n",
    "*\tmultiplication\n",
    "/\ttrue division\n",
    "//\tinteger division\n",
    "%\tthe modulo operator\n",
    "Here +, -, *, / are regular arithmatic operators. Lets look at the // and % operators\n",
    "\n",
    "Usecase or examples -\n",
    "\n",
    "var_a = 5\n",
    "var_b = 25\n",
    "integer_division = var_b // var_a\n",
    "print(f\"integer division: {var_b}/{var_a}={integer_division}\")\n",
    "OUTPUT: integer division: 25/5=5\n",
    "\n",
    "var_a = 3\n",
    "var_b = 25\n",
    "integer_division = var_b // var_a\n",
    "print(f\"integer division: {var_b}/{var_a}={integer_division}\")\n",
    "OUTPUT: integer division: 25/3=8\n",
    "\n",
    "var_a = 5\n",
    "var_b = 25\n",
    "remainder = var_b % var_a\n",
    "print(f\"remainder: {var_b}/{var_a} is {remainder}\")\n",
    "OUTPUT: remainder: 25/5 is 0\n",
    "\n",
    "var_a = 3\n",
    "var_b = 25\n",
    "remainder = var_b % var_a\n",
    "print(f\"remainder: {var_b}/{var_a} is {remainder}\")\n",
    "OUTPUT: remainder: 25/3 is 1\n",
    "\n",
    "Answer below questions on the above theory -\n",
    "Write a program that asks the user to enter a number. You should print out a message to the user, either “That number is divisible by either 3 or 5”, or “That number is not divisible by either 3 or 5”. Be sure to consider the data type of the input you are taking in from the user. Use a single if/else block to solve this problem.\n",
    "\n",
    "Take user input for length and width. Then calculate the area of rectangle. Also print as per length and width whether its a square of rectangle.\n",
    "\n",
    "Take two variable radius_1 and radius_2 and calculate the area of circle_1 and circle_2. Also print which circle has large area. If area is equal then print area is equal.\n",
    "\n",
    "Check whether a year is leap year or not. Use nested if...else to solve this problem. A leap year is exactly divisible by 4 except for century years (years ending with 00). The century year is a leap year only if it is perfectly divisible by 400."
   ]
  },
  {
   "cell_type": "markdown",
   "id": "657bea35",
   "metadata": {},
   "source": [
    "# Agenda\n",
    "\n",
    "String Method"
   ]
  },
  {
   "cell_type": "code",
   "execution_count": 1,
   "id": "381c739f",
   "metadata": {},
   "outputs": [
    {
     "data": {
      "text/plain": [
       "2"
      ]
     },
     "execution_count": 1,
     "metadata": {},
     "output_type": "execute_result"
    }
   ],
   "source": [
    "A=5\n",
    "B=2\n",
    "A//B"
   ]
  },
  {
   "cell_type": "code",
   "execution_count": 2,
   "id": "6a882079",
   "metadata": {},
   "outputs": [
    {
     "data": {
      "text/plain": [
       "1"
      ]
     },
     "execution_count": 2,
     "metadata": {},
     "output_type": "execute_result"
    }
   ],
   "source": [
    "A%2"
   ]
  },
  {
   "cell_type": "code",
   "execution_count": 3,
   "id": "4204c2e7",
   "metadata": {},
   "outputs": [
    {
     "name": "stdout",
     "output_type": "stream",
     "text": [
      "A:55 is  not divisble by B:2\n"
     ]
    }
   ],
   "source": [
    "A=55\n",
    "B=2\n",
    "\n",
    "if A % B==0:\n",
    "    print(f\"A:{A} is divisble by B:{B}\")\n",
    "else:\n",
    "    print(f\"A:{A} is  not divisble by B:{B}\")\n",
    "    \n"
   ]
  },
  {
   "cell_type": "code",
   "execution_count": 4,
   "id": "d6a24d61",
   "metadata": {},
   "outputs": [
    {
     "name": "stdout",
     "output_type": "stream",
     "text": [
      "A:55 is  not divisble by B:3\n"
     ]
    }
   ],
   "source": [
    "A=55\n",
    "B=3\n",
    "\n",
    "if A % B==0:\n",
    "    print(f\"A:{A} is divisble by B:{B}\")\n",
    "else:\n",
    "    print(f\"A:{A} is  not divisble by B:{B}\")"
   ]
  },
  {
   "cell_type": "code",
   "execution_count": 5,
   "id": "f70e0fc8",
   "metadata": {},
   "outputs": [
    {
     "data": {
      "text/plain": [
       "2.0"
      ]
     },
     "execution_count": 5,
     "metadata": {},
     "output_type": "execute_result"
    }
   ],
   "source": [
    "A=4\n",
    "\n",
    "A**(1/2)"
   ]
  },
  {
   "cell_type": "markdown",
   "id": "00a95ae5",
   "metadata": {},
   "source": [
    "If N Characters or elements are there in a string then \n",
    "\n",
    " the index range will vary from 0 to N-1 \n",
    "for example is \"Sunny\"  N=5\n",
    "index value is ranging from 0 to 4\n",
    "\n",
    "in reverese order from -1 to -5\n"
   ]
  },
  {
   "cell_type": "markdown",
   "id": "7cce4374",
   "metadata": {},
   "source": [
    "### STRING Method"
   ]
  },
  {
   "cell_type": "code",
   "execution_count": 6,
   "id": "9c4c7647",
   "metadata": {},
   "outputs": [
    {
     "data": {
      "text/plain": [
       "'S'"
      ]
     },
     "execution_count": 6,
     "metadata": {},
     "output_type": "execute_result"
    }
   ],
   "source": [
    "# String indexing\n",
    "#     01234\n",
    "#     -5-4-3-2-1     \n",
    "name=\"Sunny\"\n",
    "\n",
    "name[0]\n"
   ]
  },
  {
   "cell_type": "code",
   "execution_count": 7,
   "id": "81be025a",
   "metadata": {},
   "outputs": [
    {
     "data": {
      "text/plain": [
       "'y'"
      ]
     },
     "execution_count": 7,
     "metadata": {},
     "output_type": "execute_result"
    }
   ],
   "source": [
    "name[4]"
   ]
  },
  {
   "cell_type": "code",
   "execution_count": 8,
   "id": "4a773b25",
   "metadata": {},
   "outputs": [
    {
     "data": {
      "text/plain": [
       "'y'"
      ]
     },
     "execution_count": 8,
     "metadata": {},
     "output_type": "execute_result"
    }
   ],
   "source": [
    "name[-1]"
   ]
  },
  {
   "cell_type": "code",
   "execution_count": 9,
   "id": "a26e48ca",
   "metadata": {},
   "outputs": [
    {
     "data": {
      "text/plain": [
       "'S'"
      ]
     },
     "execution_count": 9,
     "metadata": {},
     "output_type": "execute_result"
    }
   ],
   "source": [
    "name[-0]"
   ]
  },
  {
   "cell_type": "code",
   "execution_count": 11,
   "id": "ae15090c",
   "metadata": {},
   "outputs": [
    {
     "data": {
      "text/plain": [
       "'S'"
      ]
     },
     "execution_count": 11,
     "metadata": {},
     "output_type": "execute_result"
    }
   ],
   "source": [
    "name[-5]"
   ]
  },
  {
   "cell_type": "code",
   "execution_count": 12,
   "id": "153c653d",
   "metadata": {},
   "outputs": [
    {
     "data": {
      "text/plain": [
       "'unny'"
      ]
     },
     "execution_count": 12,
     "metadata": {},
     "output_type": "execute_result"
    }
   ],
   "source": [
    "# String Slicing\n",
    "\n",
    "#     01234\n",
    "#     -5-4-3-2-1     \n",
    "name=\"Sunny\"\n",
    "\n",
    "name[1:] #[starting:ending]"
   ]
  },
  {
   "cell_type": "code",
   "execution_count": 13,
   "id": "105556b9",
   "metadata": {},
   "outputs": [
    {
     "data": {
      "text/plain": [
       "'un'"
      ]
     },
     "execution_count": 13,
     "metadata": {},
     "output_type": "execute_result"
    }
   ],
   "source": [
    "name[1:3]  # this means that ending is excluded "
   ]
  },
  {
   "cell_type": "code",
   "execution_count": 14,
   "id": "26ca7ad1",
   "metadata": {},
   "outputs": [
    {
     "data": {
      "text/plain": [
       "'unn'"
      ]
     },
     "execution_count": 14,
     "metadata": {},
     "output_type": "execute_result"
    }
   ],
   "source": [
    "name[1:4]"
   ]
  },
  {
   "cell_type": "code",
   "execution_count": 15,
   "id": "a5fc957c",
   "metadata": {},
   "outputs": [
    {
     "data": {
      "text/plain": [
       "'unny'"
      ]
     },
     "execution_count": 15,
     "metadata": {},
     "output_type": "execute_result"
    }
   ],
   "source": [
    "name[1:5] # 5 is not icluded "
   ]
  },
  {
   "cell_type": "code",
   "execution_count": 16,
   "id": "d4a7bcf6",
   "metadata": {},
   "outputs": [
    {
     "data": {
      "text/plain": [
       "'unn'"
      ]
     },
     "execution_count": 16,
     "metadata": {},
     "output_type": "execute_result"
    }
   ],
   "source": [
    "name[-4:-1]"
   ]
  },
  {
   "cell_type": "code",
   "execution_count": 27,
   "id": "5741dd6d",
   "metadata": {},
   "outputs": [
    {
     "ename": "SyntaxError",
     "evalue": "f-string: invalid syntax (3876476550.py, line 9)",
     "output_type": "error",
     "traceback": [
      "\u001b[1;36m  Input \u001b[1;32mIn [27]\u001b[1;36m\u001b[0m\n\u001b[1;33m    print(f\"its {todaysdate}th  of the month {todaysMonth} of the year {todays year}\")\u001b[0m\n\u001b[1;37m            ^\u001b[0m\n\u001b[1;31mSyntaxError\u001b[0m\u001b[1;31m:\u001b[0m f-string: invalid syntax\n"
     ]
    }
   ],
   "source": [
    "# Indexing -0123456789\n",
    "date=\"08/10/22\"\n",
    "\n",
    "# print today,s date ,Month and year\n",
    "todaysdate=date[0:2]\n",
    "todaysMonth=date[3:5]\n",
    "todaysyear =date[6:]\n",
    "\n",
    "print(f\"its {todaysdate}th  of the month {todaysMonth} of the year {todays year}\")"
   ]
  },
  {
   "cell_type": "code",
   "execution_count": 30,
   "id": "05fbc551",
   "metadata": {},
   "outputs": [
    {
     "name": "stdout",
     "output_type": "stream",
     "text": [
      "enter date of birth in the format DD/MM/YYY01091999\n",
      "its date of birth 01th  of the month 91 of the year 99 \n"
     ]
    }
   ],
   "source": [
    "date=input(\"enter date of birth in the format DD/MM/YYY\")\n",
    "\n",
    "todaysdate=date[0:2]\n",
    "todaysMonth=date[3:5]\n",
    "todaysyear =date[6:]\n",
    "print(f\"its date of birth {todaysdate}th  of the month {todaysMonth} of the year {todaysyear} \")"
   ]
  },
  {
   "cell_type": "code",
   "execution_count": 29,
   "id": "3c35b876",
   "metadata": {},
   "outputs": [
    {
     "name": "stdout",
     "output_type": "stream",
     "text": [
      "enter date of birth in the format DD/MM/YYY08/09/1999\n",
      "its date of birth 08th  of the month 09 of the year 1999 \n"
     ]
    }
   ],
   "source": [
    "date=input(\"enter date of birth in the format DD/MM/YYY\")\n",
    "\n",
    "todaysdate=date[0:2]\n",
    "todaysMonth=date[3:5]\n",
    "todaysyear =date[6:]\n",
    "print(f\"its date of birth {todaysdate}th  of the month {todaysMonth} of the year {todaysyear} \")"
   ]
  },
  {
   "cell_type": "code",
   "execution_count": 31,
   "id": "c88b36d1",
   "metadata": {},
   "outputs": [
    {
     "data": {
      "text/plain": [
       "'Sny'"
      ]
     },
     "execution_count": 31,
     "metadata": {},
     "output_type": "execute_result"
    }
   ],
   "source": [
    "name=\"Sunny\"  # S_n_y\n",
    "\n",
    "name[0:5:2] # start:end:step  jumping by 2"
   ]
  },
  {
   "cell_type": "code",
   "execution_count": 32,
   "id": "589a4bc9",
   "metadata": {},
   "outputs": [
    {
     "data": {
      "text/plain": [
       "'Sny'"
      ]
     },
     "execution_count": 32,
     "metadata": {},
     "output_type": "execute_result"
    }
   ],
   "source": [
    "name[0::2] # start:end:step"
   ]
  },
  {
   "cell_type": "code",
   "execution_count": 33,
   "id": "68fc6203",
   "metadata": {},
   "outputs": [
    {
     "data": {
      "text/plain": [
       "'Sn'"
      ]
     },
     "execution_count": 33,
     "metadata": {},
     "output_type": "execute_result"
    }
   ],
   "source": [
    "# step is 3  s__n_    Sunny  0 0+3\n",
    "name[0:5:3] # start:end:step "
   ]
  },
  {
   "cell_type": "code",
   "execution_count": 34,
   "id": "605a0961",
   "metadata": {},
   "outputs": [
    {
     "data": {
      "text/plain": [
       "'SuyBaenCada'"
      ]
     },
     "execution_count": 34,
     "metadata": {},
     "output_type": "execute_result"
    }
   ],
   "source": [
    "name= \"Suuny Bhaveen Chandra\"\n",
    "name[0::2]"
   ]
  },
  {
   "cell_type": "code",
   "execution_count": 35,
   "id": "8964219f",
   "metadata": {},
   "outputs": [
    {
     "data": {
      "text/plain": [
       "'SnBvnhd'"
      ]
     },
     "execution_count": 35,
     "metadata": {},
     "output_type": "execute_result"
    }
   ],
   "source": [
    "name= \"Suuny Bhaveen Chandra\"\n",
    "name[0::3]"
   ]
  },
  {
   "cell_type": "code",
   "execution_count": 36,
   "id": "84f1f275",
   "metadata": {},
   "outputs": [
    {
     "data": {
      "text/plain": [
       "'Suuny Bhaveen Chandra'"
      ]
     },
     "execution_count": 36,
     "metadata": {},
     "output_type": "execute_result"
    }
   ],
   "source": [
    "name= \"Suuny Bhaveen Chandra\"\n",
    "name[::]"
   ]
  },
  {
   "cell_type": "code",
   "execution_count": 37,
   "id": "804145aa",
   "metadata": {},
   "outputs": [
    {
     "data": {
      "text/plain": [
       "'SuyBaenCada'"
      ]
     },
     "execution_count": 37,
     "metadata": {},
     "output_type": "execute_result"
    }
   ],
   "source": [
    "name= \"Suuny Bhaveen Chandra\"\n",
    "name[::2]"
   ]
  },
  {
   "cell_type": "code",
   "execution_count": 38,
   "id": "a91e2f28",
   "metadata": {},
   "outputs": [
    {
     "data": {
      "text/plain": [
       "'SnBvnhd'"
      ]
     },
     "execution_count": 38,
     "metadata": {},
     "output_type": "execute_result"
    }
   ],
   "source": [
    "name= \"Suuny Bhaveen Chandra\"\n",
    "name[::3]"
   ]
  },
  {
   "cell_type": "code",
   "execution_count": 39,
   "id": "d1ebb4be",
   "metadata": {},
   "outputs": [
    {
     "data": {
      "text/plain": [
       "'ardnahC neevahB ynuuS'"
      ]
     },
     "execution_count": 39,
     "metadata": {},
     "output_type": "execute_result"
    }
   ],
   "source": [
    "name= \"Suuny Bhaveen Chandra\"\n",
    "name[::-1]"
   ]
  },
  {
   "cell_type": "code",
   "execution_count": 40,
   "id": "ffe3c485",
   "metadata": {},
   "outputs": [
    {
     "data": {
      "text/plain": [
       "'adaCneaByuS'"
      ]
     },
     "execution_count": 40,
     "metadata": {},
     "output_type": "execute_result"
    }
   ],
   "source": [
    "name= \"Suuny Bhaveen Chandra\"\n",
    "name[::-2]"
   ]
  },
  {
   "cell_type": "markdown",
   "id": "f12a70a6",
   "metadata": {},
   "source": [
    "# Palindrome Reverse and front are same"
   ]
  },
  {
   "cell_type": "code",
   "execution_count": 41,
   "id": "adc2cdc5",
   "metadata": {},
   "outputs": [
    {
     "name": "stdout",
     "output_type": "stream",
     "text": [
      "input a string: radar\n",
      "radar radar\n"
     ]
    }
   ],
   "source": [
    "# Palindrome Sequence\n",
    "# madam\n",
    "# Malyalam\n",
    "# nayan\n",
    "#bob\n",
    "# radar\n",
    "\n",
    "data=input(\"input a string: \")\n",
    "reverse=data[::-1]  # start:end:step\n",
    "\n",
    "print(data,reverse)"
   ]
  },
  {
   "cell_type": "code",
   "execution_count": 42,
   "id": "459a7c47",
   "metadata": {},
   "outputs": [
    {
     "name": "stdout",
     "output_type": "stream",
     "text": [
      "input a string: radar\n",
      "input string :radar is palindrome\n"
     ]
    }
   ],
   "source": [
    "data=input(\"input a string: \")\n",
    "reverse=data[::-1]  # start:end:step\n",
    "\n",
    "if data==reverse:\n",
    "    print(f\"input string :{data} is palindrome\")\n",
    "else:\n",
    "     print(f\"input string :{data} is  not a palindrome\")\n",
    "    \n",
    "\n"
   ]
  },
  {
   "cell_type": "code",
   "execution_count": 43,
   "id": "e96198f4",
   "metadata": {},
   "outputs": [
    {
     "name": "stdout",
     "output_type": "stream",
     "text": [
      "input a string: Radar\n",
      "input string :Radar is  not a palindrome\n"
     ]
    }
   ],
   "source": [
    "data=input(\"input a string: \")\n",
    "reverse=data[::-1]  # start:end:step\n",
    "\n",
    "if data==reverse:\n",
    "    print(f\"input string :{data} is palindrome\")\n",
    "else:\n",
    "     print(f\"input string :{data} is  not a palindrome\")"
   ]
  },
  {
   "cell_type": "code",
   "execution_count": 44,
   "id": "6441f9c6",
   "metadata": {},
   "outputs": [
    {
     "name": "stdout",
     "output_type": "stream",
     "text": [
      "input a string: Suuny\n",
      "input string :Suuny is  not a palindrome\n"
     ]
    }
   ],
   "source": [
    "data=input(\"input a string: \")\n",
    "reverse=data[::-1]  # start:end:step\n",
    "\n",
    "if data==reverse:\n",
    "    print(f\"input string :{data} is palindrome\")\n",
    "else:\n",
    "     print(f\"input string :{data} is  not a palindrome\")"
   ]
  },
  {
   "cell_type": "markdown",
   "id": "5c723540",
   "metadata": {},
   "source": [
    "### Mutability\n",
    "\n",
    "Mutable means subject to change or which can be changed"
   ]
  },
  {
   "cell_type": "code",
   "execution_count": 45,
   "id": "0f4f9530",
   "metadata": {},
   "outputs": [
    {
     "ename": "TypeError",
     "evalue": "'str' object does not support item assignment",
     "output_type": "error",
     "traceback": [
      "\u001b[1;31m---------------------------------------------------------------------------\u001b[0m",
      "\u001b[1;31mTypeError\u001b[0m                                 Traceback (most recent call last)",
      "Input \u001b[1;32mIn [45]\u001b[0m, in \u001b[0;36m<cell line: 5>\u001b[1;34m()\u001b[0m\n\u001b[0;32m      1\u001b[0m name\u001b[38;5;241m=\u001b[39m\u001b[38;5;124m\"\u001b[39m\u001b[38;5;124mSunny\u001b[39m\u001b[38;5;124m\"\u001b[39m\n\u001b[0;32m      3\u001b[0m \u001b[38;5;66;03m# Replace S with F?\u001b[39;00m\n\u001b[1;32m----> 5\u001b[0m name[\u001b[38;5;241m0\u001b[39m]\u001b[38;5;241m=\u001b[39m\u001b[38;5;124m\"\u001b[39m\u001b[38;5;124mF\u001b[39m\u001b[38;5;124m\"\u001b[39m\n",
      "\u001b[1;31mTypeError\u001b[0m: 'str' object does not support item assignment"
     ]
    }
   ],
   "source": [
    "name=\"Sunny\"\n",
    "\n",
    "# Replace S with F?\n",
    "\n",
    "name[0]=\"F\"  # immutability # String\n"
   ]
  },
  {
   "cell_type": "code",
   "execution_count": 47,
   "id": "e0ece41f",
   "metadata": {},
   "outputs": [
    {
     "data": {
      "text/plain": [
       "'Funny'"
      ]
     },
     "execution_count": 47,
     "metadata": {},
     "output_type": "execute_result"
    }
   ],
   "source": [
    "\"F\" + name[1:]"
   ]
  },
  {
   "cell_type": "code",
   "execution_count": 48,
   "id": "8b7bd9e9",
   "metadata": {},
   "outputs": [
    {
     "data": {
      "text/plain": [
       "'Funny'"
      ]
     },
     "execution_count": 48,
     "metadata": {},
     "output_type": "execute_result"
    }
   ],
   "source": [
    "name= \"F\" + name[1:]\n",
    "name"
   ]
  },
  {
   "cell_type": "code",
   "execution_count": 49,
   "id": "44609466",
   "metadata": {},
   "outputs": [
    {
     "data": {
      "text/plain": [
       "'FunnYYY'"
      ]
     },
     "execution_count": 49,
     "metadata": {},
     "output_type": "execute_result"
    }
   ],
   "source": [
    "name.replace(\"y\",\"YYY\")"
   ]
  },
  {
   "cell_type": "code",
   "execution_count": 50,
   "id": "c90751b5",
   "metadata": {},
   "outputs": [
    {
     "data": {
      "text/plain": [
       "'Funny'"
      ]
     },
     "execution_count": 50,
     "metadata": {},
     "output_type": "execute_result"
    }
   ],
   "source": [
    "name"
   ]
  },
  {
   "cell_type": "code",
   "execution_count": 52,
   "id": "614b48f7",
   "metadata": {},
   "outputs": [
    {
     "data": {
      "text/plain": [
       "'FunnYYY'"
      ]
     },
     "execution_count": 52,
     "metadata": {},
     "output_type": "execute_result"
    }
   ],
   "source": [
    "name=name.replace(\"y\",\"YYY\")\n",
    "name"
   ]
  },
  {
   "cell_type": "code",
   "execution_count": 53,
   "id": "57c42de8",
   "metadata": {},
   "outputs": [],
   "source": [
    "name=\"Sunny BHAVEEN CHANDRA\"\n",
    "\n",
    "name=name.replace(\"Sunny\", \"SUNNY\")"
   ]
  },
  {
   "cell_type": "code",
   "execution_count": 54,
   "id": "48c2f944",
   "metadata": {},
   "outputs": [
    {
     "data": {
      "text/plain": [
       "'SUNNY BHAVEEN CHANDRA'"
      ]
     },
     "execution_count": 54,
     "metadata": {},
     "output_type": "execute_result"
    }
   ],
   "source": [
    "name"
   ]
  },
  {
   "cell_type": "code",
   "execution_count": 55,
   "id": "d827acad",
   "metadata": {},
   "outputs": [
    {
     "data": {
      "text/plain": [
       "'SuNNy BHAVEEN CHANDRA'"
      ]
     },
     "execution_count": 55,
     "metadata": {},
     "output_type": "execute_result"
    }
   ],
   "source": [
    "name=\"Sunny BHAVEEN CHANDRA\"\n",
    "\n",
    "name=name.replace(\"n\", \"N\")\n",
    "name"
   ]
  },
  {
   "cell_type": "code",
   "execution_count": null,
   "id": "adb8e363",
   "metadata": {},
   "outputs": [],
   "source": [
    "# Reference string method in python\n",
    "https://docs.python.org/3/library/string.html"
   ]
  },
  {
   "cell_type": "code",
   "execution_count": 56,
   "id": "98e307c2",
   "metadata": {},
   "outputs": [
    {
     "data": {
      "text/plain": [
       "'Sunny_BHAVEEN_CHANDRA'"
      ]
     },
     "execution_count": 56,
     "metadata": {},
     "output_type": "execute_result"
    }
   ],
   "source": [
    "name=\"Sunny BHAVEEN CHANDRA\"\n",
    "\n",
    "name=name.replace(\" \", \"_\")\n",
    "name"
   ]
  },
  {
   "cell_type": "code",
   "execution_count": null,
   "id": "ac655aeb",
   "metadata": {},
   "outputs": [],
   "source": [
    "### Length of the string"
   ]
  },
  {
   "cell_type": "code",
   "execution_count": 57,
   "id": "599424ea",
   "metadata": {},
   "outputs": [
    {
     "data": {
      "text/plain": [
       "21"
      ]
     },
     "execution_count": 57,
     "metadata": {},
     "output_type": "execute_result"
    }
   ],
   "source": [
    "len(name)"
   ]
  },
  {
   "cell_type": "code",
   "execution_count": 58,
   "id": "1fed6cd8",
   "metadata": {},
   "outputs": [
    {
     "data": {
      "text/plain": [
       "5"
      ]
     },
     "execution_count": 58,
     "metadata": {},
     "output_type": "execute_result"
    }
   ],
   "source": [
    "len(\"Sunny\")"
   ]
  },
  {
   "cell_type": "code",
   "execution_count": 60,
   "id": "08b9715d",
   "metadata": {},
   "outputs": [
    {
     "data": {
      "text/plain": [
       "8"
      ]
     },
     "execution_count": 60,
     "metadata": {},
     "output_type": "execute_result"
    }
   ],
   "source": [
    "name=\" Sunny  \"\n",
    "len(name)"
   ]
  },
  {
   "cell_type": "code",
   "execution_count": 61,
   "id": "a3b871f3",
   "metadata": {},
   "outputs": [
    {
     "data": {
      "text/plain": [
       "5"
      ]
     },
     "execution_count": 61,
     "metadata": {},
     "output_type": "execute_result"
    }
   ],
   "source": [
    "name=\" Sunny  \"\n",
    "\n",
    "name=name.replace(\" \",\"\")\n",
    "len(name)"
   ]
  },
  {
   "cell_type": "markdown",
   "id": "deb2f97d",
   "metadata": {},
   "source": [
    "String indexing\n",
    "String Slicing\n",
    "String Skipping\n",
    "String Reversal\n",
    "String replace method\n",
    "length of the String\n",
    "String is immutable because we cannot directly assign any value using indexing"
   ]
  },
  {
   "cell_type": "code",
   "execution_count": 62,
   "id": "c44f97ac",
   "metadata": {},
   "outputs": [
    {
     "data": {
      "text/plain": [
       "'y'"
      ]
     },
     "execution_count": 62,
     "metadata": {},
     "output_type": "execute_result"
    }
   ],
   "source": [
    "name=\"Sunny Chandra Bhaveen\"\n",
    "name[4]"
   ]
  },
  {
   "cell_type": "code",
   "execution_count": 70,
   "id": "503bf9a4",
   "metadata": {},
   "outputs": [
    {
     "data": {
      "text/plain": [
       "'Bhaveen'"
      ]
     },
     "execution_count": 70,
     "metadata": {},
     "output_type": "execute_result"
    }
   ],
   "source": [
    "name=\"Sunny Bhaveen Chandra\"\n",
    "name[6:13]"
   ]
  },
  {
   "cell_type": "code",
   "execution_count": 71,
   "id": "b7fea64c",
   "metadata": {},
   "outputs": [
    {
     "data": {
      "text/plain": [
       "'SnBvnhd'"
      ]
     },
     "execution_count": 71,
     "metadata": {},
     "output_type": "execute_result"
    }
   ],
   "source": [
    "name=\"Sunny Bhaveen Chandra\"\n",
    "name[::3]"
   ]
  },
  {
   "cell_type": "code",
   "execution_count": 72,
   "id": "c02d3339",
   "metadata": {},
   "outputs": [
    {
     "data": {
      "text/plain": [
       "'ardnahC neevahB ynnuS'"
      ]
     },
     "execution_count": 72,
     "metadata": {},
     "output_type": "execute_result"
    }
   ],
   "source": [
    "name=\"Sunny Bhaveen Chandra\"\n",
    "name[::-1]"
   ]
  },
  {
   "cell_type": "code",
   "execution_count": 73,
   "id": "941ef875",
   "metadata": {},
   "outputs": [
    {
     "data": {
      "text/plain": [
       "'Sunny=Bhaveen=Chandra'"
      ]
     },
     "execution_count": 73,
     "metadata": {},
     "output_type": "execute_result"
    }
   ],
   "source": [
    "name=\"Sunny Bhaveen Chandra\"\n",
    "name.replace(\" \",\"=\")"
   ]
  },
  {
   "cell_type": "code",
   "execution_count": 74,
   "id": "a8fd3730",
   "metadata": {},
   "outputs": [
    {
     "data": {
      "text/plain": [
       "21"
      ]
     },
     "execution_count": 74,
     "metadata": {},
     "output_type": "execute_result"
    }
   ],
   "source": [
    "name=\"Sunny Bhaveen Chandra\"\n",
    "len(name)"
   ]
  },
  {
   "cell_type": "code",
   "execution_count": 75,
   "id": "dca157ba",
   "metadata": {},
   "outputs": [
    {
     "ename": "TypeError",
     "evalue": "'str' object does not support item assignment",
     "output_type": "error",
     "traceback": [
      "\u001b[1;31m---------------------------------------------------------------------------\u001b[0m",
      "\u001b[1;31mTypeError\u001b[0m                                 Traceback (most recent call last)",
      "Input \u001b[1;32mIn [75]\u001b[0m, in \u001b[0;36m<cell line: 1>\u001b[1;34m()\u001b[0m\n\u001b[1;32m----> 1\u001b[0m name[\u001b[38;5;241m9\u001b[39m]\u001b[38;5;241m=\u001b[39m\u001b[38;5;124m\"\u001b[39m\u001b[38;5;124mf\u001b[39m\u001b[38;5;124m\"\u001b[39m\n",
      "\u001b[1;31mTypeError\u001b[0m: 'str' object does not support item assignment"
     ]
    }
   ],
   "source": [
    "name[9]=\"f\""
   ]
  },
  {
   "cell_type": "code",
   "execution_count": 76,
   "id": "77aaafba",
   "metadata": {},
   "outputs": [
    {
     "data": {
      "text/plain": [
       "''"
      ]
     },
     "execution_count": 76,
     "metadata": {},
     "output_type": "execute_result"
    }
   ],
   "source": [
    "name[-5:-5]"
   ]
  },
  {
   "cell_type": "markdown",
   "id": "500e70a9",
   "metadata": {},
   "source": [
    "### Count Specific Characters in a String"
   ]
  },
  {
   "cell_type": "code",
   "execution_count": 77,
   "id": "b92b0b43",
   "metadata": {},
   "outputs": [
    {
     "data": {
      "text/plain": [
       "2"
      ]
     },
     "execution_count": 77,
     "metadata": {},
     "output_type": "execute_result"
    }
   ],
   "source": [
    "name=\"Sunny\"\n",
    "\n",
    "name.count(\"n\")"
   ]
  },
  {
   "cell_type": "markdown",
   "id": "9f8df204",
   "metadata": {},
   "source": [
    "# Split Operation"
   ]
  },
  {
   "cell_type": "code",
   "execution_count": 78,
   "id": "76b2e5d4",
   "metadata": {},
   "outputs": [
    {
     "data": {
      "text/plain": [
       "['Sunny', 'Bhaveen', 'Chandra']"
      ]
     },
     "execution_count": 78,
     "metadata": {},
     "output_type": "execute_result"
    }
   ],
   "source": [
    "name=\"Sunny Bhaveen Chandra\"\n",
    "name.split(\" \")"
   ]
  },
  {
   "cell_type": "code",
   "execution_count": 79,
   "id": "acb73b04",
   "metadata": {},
   "outputs": [
    {
     "name": "stdout",
     "output_type": "stream",
     "text": [
      "\n",
      "First name:Sunny\n",
      "Middle name :Bhaveen\n",
      "Sir name :Chandra\n"
     ]
    }
   ],
   "source": [
    "first_name,middle_name,sir_name=name.split(\" \")\n",
    "\n",
    "print(f\"\"\"\n",
    "First name:{first_name}\n",
    "Middle name :{middle_name}\n",
    "Sir name :{sir_name}\"\"\")"
   ]
  },
  {
   "cell_type": "code",
   "execution_count": 80,
   "id": "7df6e46d",
   "metadata": {},
   "outputs": [
    {
     "name": "stdout",
     "output_type": "stream",
     "text": [
      "DDMMYYY19/Feb/1999\n",
      "The user was born in the month Feb in the year:1999 on date :19\n"
     ]
    }
   ],
   "source": [
    "data=input(\"DDMMMYYY\")\n",
    "\n",
    "date,month,year=data.split(\"/\")\n",
    "print(f\"The user was born in the month {month} in the year:{year} on date :{date}\")"
   ]
  },
  {
   "cell_type": "code",
   "execution_count": 85,
   "id": "47b3be5b",
   "metadata": {},
   "outputs": [
    {
     "data": {
      "text/plain": [
       "['Sunny', 'Bhaveen', 'Chandra']"
      ]
     },
     "execution_count": 85,
     "metadata": {},
     "output_type": "execute_result"
    }
   ],
   "source": [
    "name=\"Sunny_Bhaveen_Chandra\"\n",
    "name.split(\"_\")"
   ]
  },
  {
   "cell_type": "code",
   "execution_count": 86,
   "id": "cd40b30d",
   "metadata": {},
   "outputs": [
    {
     "data": {
      "text/plain": [
       "['Su', '', 'y_Bhavee', '_Cha', 'dra']"
      ]
     },
     "execution_count": 86,
     "metadata": {},
     "output_type": "execute_result"
    }
   ],
   "source": [
    "name.split(\"n\")"
   ]
  },
  {
   "cell_type": "code",
   "execution_count": 87,
   "id": "251eaeda",
   "metadata": {},
   "outputs": [
    {
     "data": {
      "text/plain": [
       "['Sunny_Bhaveen_Chandra']"
      ]
     },
     "execution_count": 87,
     "metadata": {},
     "output_type": "execute_result"
    }
   ],
   "source": [
    "name.split(\".\")"
   ]
  },
  {
   "cell_type": "code",
   "execution_count": 88,
   "id": "cd81ce25",
   "metadata": {},
   "outputs": [
    {
     "name": "stdout",
     "output_type": "stream",
     "text": [
      "Enter the date in DD/MM/YYY: 17th/March/95\n"
     ]
    },
    {
     "data": {
      "text/plain": [
       "['17th', 'March', '95']"
      ]
     },
     "execution_count": 88,
     "metadata": {},
     "output_type": "execute_result"
    }
   ],
   "source": [
    "date=input(\"Enter the date in DD/MM/YYY: \")\n",
    "date.split(\"/\")"
   ]
  },
  {
   "cell_type": "code",
   "execution_count": 89,
   "id": "460963b2",
   "metadata": {},
   "outputs": [
    {
     "name": "stdout",
     "output_type": "stream",
     "text": [
      "17th March 95\n"
     ]
    }
   ],
   "source": [
    "A,B,C=date.split(\"/\")\n",
    "\n",
    "print(A,B,C)\n",
    "                \n",
    "                "
   ]
  },
  {
   "cell_type": "code",
   "execution_count": 93,
   "id": "7a774689",
   "metadata": {},
   "outputs": [
    {
     "data": {
      "text/plain": [
       "['17th', 'March', '95']"
      ]
     },
     "execution_count": 93,
     "metadata": {},
     "output_type": "execute_result"
    }
   ],
   "source": [
    "A=date.split(\"/\")\n",
    "A"
   ]
  },
  {
   "cell_type": "code",
   "execution_count": 94,
   "id": "b4a8409a",
   "metadata": {},
   "outputs": [
    {
     "data": {
      "text/plain": [
       "'17th'"
      ]
     },
     "execution_count": 94,
     "metadata": {},
     "output_type": "execute_result"
    }
   ],
   "source": [
    "A[0]"
   ]
  },
  {
   "cell_type": "code",
   "execution_count": 95,
   "id": "88bf7130",
   "metadata": {},
   "outputs": [
    {
     "data": {
      "text/plain": [
       "'March'"
      ]
     },
     "execution_count": 95,
     "metadata": {},
     "output_type": "execute_result"
    }
   ],
   "source": [
    "A[1]"
   ]
  },
  {
   "cell_type": "code",
   "execution_count": 96,
   "id": "6ed67a52",
   "metadata": {},
   "outputs": [
    {
     "data": {
      "text/plain": [
       "3"
      ]
     },
     "execution_count": 96,
     "metadata": {},
     "output_type": "execute_result"
    }
   ],
   "source": [
    "len(A)"
   ]
  },
  {
   "cell_type": "markdown",
   "id": "6d818434",
   "metadata": {},
   "source": [
    "### lower upper,title case etc"
   ]
  },
  {
   "cell_type": "code",
   "execution_count": 97,
   "id": "8aa2ce2a",
   "metadata": {},
   "outputs": [
    {
     "data": {
      "text/plain": [
       "'sunny bhaveen chandra'"
      ]
     },
     "execution_count": 97,
     "metadata": {},
     "output_type": "execute_result"
    }
   ],
   "source": [
    "name=\"Sunny Bhaveen Chandra\"\n",
    "name.lower()"
   ]
  },
  {
   "cell_type": "code",
   "execution_count": 98,
   "id": "1b89bd39",
   "metadata": {},
   "outputs": [
    {
     "data": {
      "text/plain": [
       "'SUNNY_BHAVEEN_CHANDRA'"
      ]
     },
     "execution_count": 98,
     "metadata": {},
     "output_type": "execute_result"
    }
   ],
   "source": [
    "name=\"Sunny_Bhaveen_Chandra\"\n",
    "name.upper()"
   ]
  },
  {
   "cell_type": "code",
   "execution_count": 100,
   "id": "fca9abef",
   "metadata": {},
   "outputs": [
    {
     "name": "stdout",
     "output_type": "stream",
     "text": [
      "Enter your name: Sunny BHAveen chanDRA\n",
      "user input: Sunny BHAveen chanDRA\n",
      "name in upper case:SUNNY BHAVEEN CHANDRA\n",
      "name in lower case:sunny bhaveen chandra\n",
      "name in title case:Sunny Bhaveen Chandra\n",
      "name in capitalize case:Sunny bhaveen chandra\n",
      "name in swapcase case:sUNNY bhaVEEN CHANdra\n"
     ]
    }
   ],
   "source": [
    "name=input(\"Enter your name: \")\n",
    "print(f\"user input: {name}\")\n",
    "\n",
    "print(f\"name in upper case:{name.upper()}\")\n",
    "print(f\"name in lower case:{name.lower()}\")\n",
    "print(f\"name in title case:{name.title()}\")\n",
    "print(f\"name in capitalize case:{name.capitalize()}\")\n",
    "print(f\"name in swapcase case:{name.swapcase()}\")\n"
   ]
  },
  {
   "cell_type": "code",
   "execution_count": 101,
   "id": "158b10af",
   "metadata": {},
   "outputs": [
    {
     "name": "stdout",
     "output_type": "stream",
     "text": [
      "Enter your name: FarIYA\n",
      "user input: FarIYA\n",
      "name in upper case:FARIYA\n",
      "name in lower case:fariya\n",
      "name in title case:Fariya\n",
      "name in capitalize case:Fariya\n",
      "name in swapcase case:fARiya\n"
     ]
    }
   ],
   "source": [
    "name=input(\"Enter your name: \")\n",
    "print(f\"user input: {name}\")\n",
    "\n",
    "print(f\"name in upper case:{name.upper()}\")\n",
    "print(f\"name in lower case:{name.lower()}\")\n",
    "print(f\"name in title case:{name.title()}\")\n",
    "print(f\"name in capitalize case:{name.capitalize()}\")\n",
    "print(f\"name in swapcase case:{name.swapcase()}\")"
   ]
  },
  {
   "cell_type": "code",
   "execution_count": 102,
   "id": "a922d1dc",
   "metadata": {},
   "outputs": [
    {
     "name": "stdout",
     "output_type": "stream",
     "text": [
      "user input: Today is the best DAY of my Life\n",
      "name in upper case:TODAY IS THE BEST DAY OF MY LIFE\n",
      "name in lower case:today is the best day of my life\n",
      "name in title case:Today Is The Best Day Of My Life\n",
      "name in capitalize case:Today is the best day of my life\n",
      "name in swapcase case:tODAY IS THE BEST day OF MY lIFE\n"
     ]
    }
   ],
   "source": [
    "name=\"Today is the best DAY of my Life\"\n",
    "print(f\"user input: {name}\")\n",
    "\n",
    "print(f\"name in upper case:{name.upper()}\")\n",
    "print(f\"name in lower case:{name.lower()}\")\n",
    "print(f\"name in title case:{name.title()}\")\n",
    "print(f\"name in capitalize case:{name.capitalize()}\")\n",
    "print(f\"name in swapcase case:{name.swapcase()}\")"
   ]
  },
  {
   "cell_type": "code",
   "execution_count": 104,
   "id": "eb21d23b",
   "metadata": {},
   "outputs": [
    {
     "data": {
      "text/plain": [
       "'S*u*n*n*y* *B*h*a*v*e*e*n* *C*h*a*n*d*r*a'"
      ]
     },
     "execution_count": 104,
     "metadata": {},
     "output_type": "execute_result"
    }
   ],
   "source": [
    "name=\"Sunny Bhaveen Chandra\"\n",
    "\n",
    "\"*\".join(name)\n"
   ]
  },
  {
   "cell_type": "code",
   "execution_count": 106,
   "id": "e76fb900",
   "metadata": {},
   "outputs": [
    {
     "data": {
      "text/plain": [
       "'S_u_n_n_y_ _B_h_a_v_e_e_n_ _C_h_a_n_d_r_a'"
      ]
     },
     "execution_count": 106,
     "metadata": {},
     "output_type": "execute_result"
    }
   ],
   "source": [
    "name=\"Sunny Bhaveen Chandra\"\n",
    "\n",
    "\"_\".join(name)"
   ]
  },
  {
   "cell_type": "code",
   "execution_count": 107,
   "id": "653ead4a",
   "metadata": {},
   "outputs": [
    {
     "data": {
      "text/plain": [
       "'S|u|n|n|y| |B|h|a|v|e|e|n| |C|h|a|n|d|r|a'"
      ]
     },
     "execution_count": 107,
     "metadata": {},
     "output_type": "execute_result"
    }
   ],
   "source": [
    "name=\"Sunny Bhaveen Chandra\"\n",
    "\n",
    "\"|\".join(name)"
   ]
  },
  {
   "cell_type": "code",
   "execution_count": 109,
   "id": "0d7e37f5",
   "metadata": {},
   "outputs": [
    {
     "data": {
      "text/plain": [
       "'ardnahC neevahB ynnuS'"
      ]
     },
     "execution_count": 109,
     "metadata": {},
     "output_type": "execute_result"
    }
   ],
   "source": [
    "\"\".join(reversed(name))"
   ]
  },
  {
   "cell_type": "code",
   "execution_count": 108,
   "id": "889fbc86",
   "metadata": {},
   "outputs": [
    {
     "data": {
      "text/plain": [
       "'Sunny|Bhaveen|Chandra'"
      ]
     },
     "execution_count": 108,
     "metadata": {},
     "output_type": "execute_result"
    }
   ],
   "source": [
    "name=\"Sunny Bhaveen Chandra\"\n",
    "\n",
    "name.replace(\" \", \"|\")"
   ]
  },
  {
   "cell_type": "code",
   "execution_count": null,
   "id": "89094eed",
   "metadata": {},
   "outputs": [],
   "source": [
    "### remove extra spaces front and back of the string"
   ]
  },
  {
   "cell_type": "code",
   "execution_count": 110,
   "id": "ac754846",
   "metadata": {},
   "outputs": [
    {
     "data": {
      "text/plain": [
       "'Sunny'"
      ]
     },
     "execution_count": 110,
     "metadata": {},
     "output_type": "execute_result"
    }
   ],
   "source": [
    "name=\" Sunny \"\n",
    "name.strip(\" \")"
   ]
  },
  {
   "cell_type": "code",
   "execution_count": 111,
   "id": "d65f8e0d",
   "metadata": {},
   "outputs": [
    {
     "ename": "AttributeError",
     "evalue": "'str' object has no attribute 'trim'",
     "output_type": "error",
     "traceback": [
      "\u001b[1;31m---------------------------------------------------------------------------\u001b[0m",
      "\u001b[1;31mAttributeError\u001b[0m                            Traceback (most recent call last)",
      "Input \u001b[1;32mIn [111]\u001b[0m, in \u001b[0;36m<cell line: 1>\u001b[1;34m()\u001b[0m\n\u001b[1;32m----> 1\u001b[0m \u001b[43mname\u001b[49m\u001b[38;5;241;43m.\u001b[39;49m\u001b[43mtrim\u001b[49m()\n",
      "\u001b[1;31mAttributeError\u001b[0m: 'str' object has no attribute 'trim'"
     ]
    }
   ],
   "source": [
    "name.trim()"
   ]
  },
  {
   "cell_type": "code",
   "execution_count": 112,
   "id": "0db4eedd",
   "metadata": {},
   "outputs": [
    {
     "data": {
      "text/plain": [
       "'Sunny '"
      ]
     },
     "execution_count": 112,
     "metadata": {},
     "output_type": "execute_result"
    }
   ],
   "source": [
    "name=\" Sunny \"\n",
    "name.lstrip(\" \")"
   ]
  },
  {
   "cell_type": "code",
   "execution_count": 113,
   "id": "645f1a18",
   "metadata": {},
   "outputs": [
    {
     "data": {
      "text/plain": [
       "' Sunny'"
      ]
     },
     "execution_count": 113,
     "metadata": {},
     "output_type": "execute_result"
    }
   ],
   "source": [
    "name=\" Sunny \"\n",
    "name.rstrip(\" \")"
   ]
  },
  {
   "cell_type": "code",
   "execution_count": 114,
   "id": "8e753e7a",
   "metadata": {},
   "outputs": [
    {
     "data": {
      "text/plain": [
       "'Sunny Bhaveen Chandra'"
      ]
     },
     "execution_count": 114,
     "metadata": {},
     "output_type": "execute_result"
    }
   ],
   "source": [
    "name=\" Sunny Bhaveen Chandra  \"\n",
    "name.strip(\" \")"
   ]
  },
  {
   "cell_type": "code",
   "execution_count": 115,
   "id": "d54bf161",
   "metadata": {},
   "outputs": [
    {
     "data": {
      "text/plain": [
       "'SunnyBhaveenChandra'"
      ]
     },
     "execution_count": 115,
     "metadata": {},
     "output_type": "execute_result"
    }
   ],
   "source": [
    "name=\" Sunny Bhaveen Chandra  \"\n",
    "name.replace(\" \",\"\")"
   ]
  },
  {
   "cell_type": "code",
   "execution_count": 116,
   "id": "26b9c062",
   "metadata": {},
   "outputs": [
    {
     "data": {
      "text/plain": [
       "' ===Sunny Bhaveen Chandra===  '"
      ]
     },
     "execution_count": 116,
     "metadata": {},
     "output_type": "execute_result"
    }
   ],
   "source": [
    "name=\" ===Sunny Bhaveen Chandra===  \"\n",
    "name.strip(\"=\")"
   ]
  },
  {
   "cell_type": "markdown",
   "id": "bba8543d",
   "metadata": {},
   "source": [
    "# F0rmatting"
   ]
  },
  {
   "cell_type": "code",
   "execution_count": 117,
   "id": "bb86954a",
   "metadata": {},
   "outputs": [
    {
     "data": {
      "text/plain": [
       "'#######Sunny########'"
      ]
     },
     "execution_count": 117,
     "metadata": {},
     "output_type": "execute_result"
    }
   ],
   "source": [
    "name=\"Sunny\"\n",
    "\n",
    "name.center(20,\"#\")"
   ]
  },
  {
   "cell_type": "code",
   "execution_count": 118,
   "id": "5537307b",
   "metadata": {},
   "outputs": [
    {
     "data": {
      "text/plain": [
       "'##Sunny###'"
      ]
     },
     "execution_count": 118,
     "metadata": {},
     "output_type": "execute_result"
    }
   ],
   "source": [
    "name=\"Sunny\"\n",
    "\n",
    "name.center(10,\"#\")"
   ]
  },
  {
   "cell_type": "code",
   "execution_count": 119,
   "id": "fddec867",
   "metadata": {},
   "outputs": [
    {
     "data": {
      "text/plain": [
       "'Sunny'"
      ]
     },
     "execution_count": 119,
     "metadata": {},
     "output_type": "execute_result"
    }
   ],
   "source": [
    "name=\"Sunny\"\n",
    "\n",
    "name.center(2,\"#\")"
   ]
  },
  {
   "cell_type": "code",
   "execution_count": 120,
   "id": "306f5547",
   "metadata": {},
   "outputs": [
    {
     "data": {
      "text/plain": [
       "'*********************Sangeeta*********************'"
      ]
     },
     "execution_count": 120,
     "metadata": {},
     "output_type": "execute_result"
    }
   ],
   "source": [
    "name=\"Sangeeta\"\n",
    "\n",
    "name.center(50,\"*\")"
   ]
  },
  {
   "cell_type": "code",
   "execution_count": null,
   "id": "27b50c60",
   "metadata": {},
   "outputs": [],
   "source": [
    "## Checking string cases"
   ]
  },
  {
   "cell_type": "code",
   "execution_count": 122,
   "id": "8c7202fb",
   "metadata": {},
   "outputs": [
    {
     "data": {
      "text/plain": [
       "False"
      ]
     },
     "execution_count": 122,
     "metadata": {},
     "output_type": "execute_result"
    }
   ],
   "source": [
    "name=\"Sunny\"\n",
    "\n",
    "name.isupper()"
   ]
  },
  {
   "cell_type": "code",
   "execution_count": 123,
   "id": "9be30c5d",
   "metadata": {},
   "outputs": [
    {
     "data": {
      "text/plain": [
       "True"
      ]
     },
     "execution_count": 123,
     "metadata": {},
     "output_type": "execute_result"
    }
   ],
   "source": [
    "name=\"sunny\"\n",
    "\n",
    "name.islower()"
   ]
  },
  {
   "cell_type": "code",
   "execution_count": 124,
   "id": "14f3e36c",
   "metadata": {},
   "outputs": [
    {
     "data": {
      "text/plain": [
       "False"
      ]
     },
     "execution_count": 124,
     "metadata": {},
     "output_type": "execute_result"
    }
   ],
   "source": [
    "name=\"Sunny\"\n",
    "\n",
    "name.islower()"
   ]
  },
  {
   "cell_type": "code",
   "execution_count": 125,
   "id": "341eecc6",
   "metadata": {},
   "outputs": [
    {
     "data": {
      "text/plain": [
       "False"
      ]
     },
     "execution_count": 125,
     "metadata": {},
     "output_type": "execute_result"
    }
   ],
   "source": [
    "name=\"Sunny\"\n",
    "\n",
    "name.isspace()"
   ]
  },
  {
   "cell_type": "code",
   "execution_count": 126,
   "id": "5509cfc0",
   "metadata": {},
   "outputs": [
    {
     "data": {
      "text/plain": [
       "False"
      ]
     },
     "execution_count": 126,
     "metadata": {},
     "output_type": "execute_result"
    }
   ],
   "source": [
    "name=\"Sunny  \"\n",
    "\n",
    "name.isspace()"
   ]
  },
  {
   "cell_type": "code",
   "execution_count": 127,
   "id": "8fd90f60",
   "metadata": {},
   "outputs": [
    {
     "data": {
      "text/plain": [
       "True"
      ]
     },
     "execution_count": 127,
     "metadata": {},
     "output_type": "execute_result"
    }
   ],
   "source": [
    "name=\"  \"\n",
    "\n",
    "name.isspace()"
   ]
  },
  {
   "cell_type": "code",
   "execution_count": 2,
   "id": "72ee736f",
   "metadata": {},
   "outputs": [
    {
     "name": "stdout",
     "output_type": "stream",
     "text": [
      "Enter your name: sunny chandra\n",
      "user input : sunny chandra\n",
      "wrong input we need to autocorrect it\n",
      "correct output:Sunny Chandra\n"
     ]
    }
   ],
   "source": [
    "name=input(\"Enter your name: \")\n",
    "\n",
    "print(f\"user input : {name}\")\n",
    "\n",
    "if name.istitle():\n",
    "    print(f\"user has given correct input\")\n",
    "elif name.isspace():\n",
    "    print(f\"wrong input pleasw try again\")\n",
    "else:\n",
    "    print(f\"wrong input we need to autocorrect it\")\n",
    "    name=name.title()\n",
    "    print(f\"correct output:{name}\")"
   ]
  },
  {
   "cell_type": "code",
   "execution_count": 3,
   "id": "c5a9d9b0",
   "metadata": {},
   "outputs": [
    {
     "name": "stdout",
     "output_type": "stream",
     "text": [
      "Enter your name: Sunny Chandra\n",
      "user input : Sunny Chandra\n",
      "user has given correct input\n"
     ]
    }
   ],
   "source": [
    "name=input(\"Enter your name: \")\n",
    "\n",
    "print(f\"user input : {name}\")\n",
    "\n",
    "if name.istitle():\n",
    "    print(f\"user has given correct input\")\n",
    "elif name.isspace():\n",
    "    print(f\"wrong input pleasw try again\")\n",
    "else:\n",
    "    print(f\"wrong input we need to autocorrect it\")\n",
    "    name=name.title()\n",
    "    print(f\"correct output:{name}\")"
   ]
  },
  {
   "cell_type": "code",
   "execution_count": 4,
   "id": "035fead0",
   "metadata": {},
   "outputs": [
    {
     "name": "stdout",
     "output_type": "stream",
     "text": [
      "Enter your name: SunNY CHAndra\n",
      "user input : SunNY CHAndra\n",
      "wrong input we need to autocorrect it\n",
      "correct output:Sunny Chandra\n"
     ]
    }
   ],
   "source": [
    "name=input(\"Enter your name: \")\n",
    "\n",
    "print(f\"user input : {name}\")\n",
    "\n",
    "if name.istitle():\n",
    "    print(f\"user has given correct input\")\n",
    "elif name.isspace():\n",
    "    print(f\"wrong input pleasw try again\")\n",
    "else:\n",
    "    print(f\"wrong input we need to autocorrect it\")\n",
    "    name=name.title()\n",
    "    print(f\"correct output:{name}\")"
   ]
  },
  {
   "cell_type": "code",
   "execution_count": 5,
   "id": "7eb98f9a",
   "metadata": {},
   "outputs": [
    {
     "data": {
      "text/plain": [
       "True"
      ]
     },
     "execution_count": 5,
     "metadata": {},
     "output_type": "execute_result"
    }
   ],
   "source": [
    "phone_number=\"1308580135\"\n",
    "phone_number.isdigit()"
   ]
  },
  {
   "cell_type": "code",
   "execution_count": 6,
   "id": "61fd18ac",
   "metadata": {},
   "outputs": [
    {
     "data": {
      "text/plain": [
       "False"
      ]
     },
     "execution_count": 6,
     "metadata": {},
     "output_type": "execute_result"
    }
   ],
   "source": [
    "phone_number=\"1308580135ggg\"\n",
    "phone_number.isdigit()"
   ]
  },
  {
   "cell_type": "code",
   "execution_count": 8,
   "id": "7f11a4a8",
   "metadata": {},
   "outputs": [
    {
     "name": "stdout",
     "output_type": "stream",
     "text": [
      "Enter your phone no: 7980820476\n",
      "user input is correct\n"
     ]
    }
   ],
   "source": [
    "phone_number=input(\"Enter your phone no: \")\n",
    "\n",
    "if phone_number.isdigit() and len(phone_number)==10:\n",
    "    print(f\"user input is correct\")\n",
    "else:\n",
    "    print(\"invalid input\")"
   ]
  },
  {
   "cell_type": "code",
   "execution_count": 10,
   "id": "9c9867b2",
   "metadata": {},
   "outputs": [
    {
     "name": "stdout",
     "output_type": "stream",
     "text": [
      "Enter your phone no: 000000000\n",
      "invalid input\n"
     ]
    }
   ],
   "source": [
    "phone_number=input(\"Enter your phone no: \")\n",
    "\n",
    "if phone_number.isdigit() and len(phone_number)==10:\n",
    "    print(f\"user input is correct\")\n",
    "else:\n",
    "    print(\"invalid input\")"
   ]
  },
  {
   "cell_type": "code",
   "execution_count": 11,
   "id": "44823ec0",
   "metadata": {},
   "outputs": [
    {
     "name": "stdout",
     "output_type": "stream",
     "text": [
      "Enter your phone no: 0000000000\n",
      "invalid input\n"
     ]
    }
   ],
   "source": [
    "phone_number=input(\"Enter your phone no: \")\n",
    "\n",
    "if phone_number.isdigit() and len(phone_number)==10 and phone_number!=\"0000000000\":\n",
    "    print(f\"user input is correct\")\n",
    "else:\n",
    "    print(\"invalid input\")"
   ]
  },
  {
   "cell_type": "code",
   "execution_count": 12,
   "id": "8069bd7f",
   "metadata": {},
   "outputs": [
    {
     "data": {
      "text/plain": [
       "True"
      ]
     },
     "execution_count": 12,
     "metadata": {},
     "output_type": "execute_result"
    }
   ],
   "source": [
    "phone_number.startswith(\"0\")"
   ]
  },
  {
   "cell_type": "code",
   "execution_count": 14,
   "id": "f6ae7cdd",
   "metadata": {},
   "outputs": [
    {
     "data": {
      "text/plain": [
       "True"
      ]
     },
     "execution_count": 14,
     "metadata": {},
     "output_type": "execute_result"
    }
   ],
   "source": [
    "phone_number.endswith(\"0\")"
   ]
  },
  {
   "cell_type": "code",
   "execution_count": 15,
   "id": "8f512515",
   "metadata": {},
   "outputs": [
    {
     "data": {
      "text/plain": [
       "True"
      ]
     },
     "execution_count": 15,
     "metadata": {},
     "output_type": "execute_result"
    }
   ],
   "source": [
    "phone_number=\"+917980820476\"\n",
    "phone_number.startswith(\"+91\")\n"
   ]
  },
  {
   "cell_type": "code",
   "execution_count": 16,
   "id": "6eb289ce",
   "metadata": {},
   "outputs": [
    {
     "data": {
      "text/plain": [
       "True"
      ]
     },
     "execution_count": 16,
     "metadata": {},
     "output_type": "execute_result"
    }
   ],
   "source": [
    "phone_number[1:].isdigit()"
   ]
  },
  {
   "cell_type": "code",
   "execution_count": 17,
   "id": "bf9afc93",
   "metadata": {},
   "outputs": [
    {
     "data": {
      "text/plain": [
       "13"
      ]
     },
     "execution_count": 17,
     "metadata": {},
     "output_type": "execute_result"
    }
   ],
   "source": [
    "len(phone_number)"
   ]
  },
  {
   "cell_type": "code",
   "execution_count": 20,
   "id": "393daa3f",
   "metadata": {},
   "outputs": [
    {
     "data": {
      "text/plain": [
       "10"
      ]
     },
     "execution_count": 20,
     "metadata": {},
     "output_type": "execute_result"
    }
   ],
   "source": [
    "phone_number=\"+910000000000\"\n",
    "phone_number.count(\"0\")"
   ]
  },
  {
   "cell_type": "code",
   "execution_count": 18,
   "id": "419c776f",
   "metadata": {},
   "outputs": [
    {
     "name": "stdout",
     "output_type": "stream",
     "text": [
      "Enter your indian phone no: +917980820476\n",
      "user input is correct\n"
     ]
    }
   ],
   "source": [
    "phone_number=input(\"Enter your indian phone no: \")\n",
    "\n",
    "if phone_number.startswith(\"+91\") and phone_number[1:].isdigit() and len(phone_number)==13:\n",
    "    print(f\"user input is correct\")\n",
    "else:\n",
    "    print(\"invalid input\")"
   ]
  },
  {
   "cell_type": "code",
   "execution_count": 19,
   "id": "040d891a",
   "metadata": {},
   "outputs": [
    {
     "name": "stdout",
     "output_type": "stream",
     "text": [
      "Enter your indian phone no: 899065765899\n",
      "invalid input\n"
     ]
    }
   ],
   "source": [
    "phone_number=input(\"Enter your indian phone no: \")\n",
    "\n",
    "if phone_number.startswith(\"+91\") and phone_number[1:].isdigit() and len(phone_number)==13:\n",
    "    print(f\"user input is correct\")\n",
    "else:\n",
    "    print(\"invalid input\")"
   ]
  },
  {
   "cell_type": "code",
   "execution_count": 21,
   "id": "b5c43599",
   "metadata": {},
   "outputs": [
    {
     "data": {
      "text/plain": [
       "True"
      ]
     },
     "execution_count": 21,
     "metadata": {},
     "output_type": "execute_result"
    }
   ],
   "source": [
    "PAN_NUMBERS=\"CKNPG9393T\"\n",
    "PAN_NUMBERS.isalnum()  # Check for alpha or numeric case"
   ]
  },
  {
   "cell_type": "code",
   "execution_count": 22,
   "id": "cc045c7e",
   "metadata": {},
   "outputs": [
    {
     "data": {
      "text/plain": [
       "True"
      ]
     },
     "execution_count": 22,
     "metadata": {},
     "output_type": "execute_result"
    }
   ],
   "source": [
    "PAN_NUMBERS=\"675778889\"\n",
    "PAN_NUMBERS.isalnum()  # Check for alpha or numeric case"
   ]
  },
  {
   "cell_type": "code",
   "execution_count": 23,
   "id": "7045bf97",
   "metadata": {},
   "outputs": [
    {
     "data": {
      "text/plain": [
       "True"
      ]
     },
     "execution_count": 23,
     "metadata": {},
     "output_type": "execute_result"
    }
   ],
   "source": [
    "PAN_NUMBERS=\"SUNNY\"\n",
    "PAN_NUMBERS.isalnum()  # Check for alpha or numeric case"
   ]
  },
  {
   "cell_type": "code",
   "execution_count": 24,
   "id": "d4e0b9c0",
   "metadata": {},
   "outputs": [
    {
     "data": {
      "text/plain": [
       "False"
      ]
     },
     "execution_count": 24,
     "metadata": {},
     "output_type": "execute_result"
    }
   ],
   "source": [
    "PAN_NUMBERS=\"SUNNY CHANDRA\"\n",
    "PAN_NUMBERS.isalnum()  # Check for alpha or numeric case"
   ]
  },
  {
   "cell_type": "code",
   "execution_count": 25,
   "id": "f2b1c615",
   "metadata": {},
   "outputs": [
    {
     "data": {
      "text/plain": [
       "False"
      ]
     },
     "execution_count": 25,
     "metadata": {},
     "output_type": "execute_result"
    }
   ],
   "source": [
    "PAN_NUMBERS=\"SUNNY_CHANDRA\"\n",
    "PAN_NUMBERS.isalnum()  # Check for alpha or numeric case"
   ]
  },
  {
   "cell_type": "code",
   "execution_count": null,
   "id": "3593dc91",
   "metadata": {},
   "outputs": [],
   "source": []
  }
 ],
 "metadata": {
  "kernelspec": {
   "display_name": "Python 3 (ipykernel)",
   "language": "python",
   "name": "python3"
  },
  "language_info": {
   "codemirror_mode": {
    "name": "ipython",
    "version": 3
   },
   "file_extension": ".py",
   "mimetype": "text/x-python",
   "name": "python",
   "nbconvert_exporter": "python",
   "pygments_lexer": "ipython3",
   "version": "3.9.12"
  }
 },
 "nbformat": 4,
 "nbformat_minor": 5
}
