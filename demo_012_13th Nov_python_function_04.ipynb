{
 "cells": [
  {
   "cell_type": "code",
   "execution_count": 66,
   "id": "4e8fe8e3",
   "metadata": {},
   "outputs": [],
   "source": [
    "def test1(func):\n",
    "    def test2():# wrapper functions\n",
    "        print(\"I am inside test2\")\n",
    "        func()\n",
    "        print(func())\n",
    "        \n",
    "        print(\"function executed\")\n",
    "        return func()# to get the datatype of wrapper function-decorator\n",
    "    return test2"
   ]
  },
  {
   "cell_type": "code",
   "execution_count": 67,
   "id": "bc1acf36",
   "metadata": {},
   "outputs": [],
   "source": [
    "@test1\n",
    "def test3():\n",
    "    print(\"this is my test3\")"
   ]
  },
  {
   "cell_type": "code",
   "execution_count": 68,
   "id": "5994a181",
   "metadata": {},
   "outputs": [
    {
     "name": "stdout",
     "output_type": "stream",
     "text": [
      "I am inside test2\n",
      "this is my test3\n",
      "this is my test3\n",
      "None\n",
      "function executed\n",
      "this is my test3\n"
     ]
    }
   ],
   "source": [
    "test3()"
   ]
  },
  {
   "cell_type": "code",
   "execution_count": 69,
   "id": "488ebea0",
   "metadata": {},
   "outputs": [
    {
     "name": "stdout",
     "output_type": "stream",
     "text": [
      "I am inside test2\n",
      "this is my test3\n",
      "this is my test3\n",
      "None\n",
      "function executed\n",
      "this is my test3\n"
     ]
    },
    {
     "data": {
      "text/plain": [
       "<function __main__.test1.<locals>.test2()>"
      ]
     },
     "execution_count": 69,
     "metadata": {},
     "output_type": "execute_result"
    }
   ],
   "source": [
    "test1(test3())\n"
   ]
  },
  {
   "cell_type": "code",
   "execution_count": 70,
   "id": "92b83e90",
   "metadata": {},
   "outputs": [],
   "source": [
    "@test1\n",
    "def test4():\n",
    "    return 5+6\n"
   ]
  },
  {
   "cell_type": "code",
   "execution_count": 71,
   "id": "b9bc3543",
   "metadata": {},
   "outputs": [
    {
     "name": "stdout",
     "output_type": "stream",
     "text": [
      "I am inside test2\n",
      "11\n",
      "function executed\n"
     ]
    },
    {
     "data": {
      "text/plain": [
       "11"
      ]
     },
     "execution_count": 71,
     "metadata": {},
     "output_type": "execute_result"
    }
   ],
   "source": [
    "test4()"
   ]
  },
  {
   "cell_type": "code",
   "execution_count": 72,
   "id": "fa5cbdc0",
   "metadata": {},
   "outputs": [
    {
     "name": "stdout",
     "output_type": "stream",
     "text": [
      "I am inside test2\n",
      "11\n",
      "function executed\n"
     ]
    },
    {
     "data": {
      "text/plain": [
       "int"
      ]
     },
     "execution_count": 72,
     "metadata": {},
     "output_type": "execute_result"
    }
   ],
   "source": [
    "type(test4())"
   ]
  },
  {
   "cell_type": "code",
   "execution_count": 73,
   "id": "d6ab22d0",
   "metadata": {},
   "outputs": [
    {
     "name": "stdout",
     "output_type": "stream",
     "text": [
      "I am inside test2\n",
      "11\n",
      "function executed\n"
     ]
    }
   ],
   "source": [
    "a=test4()"
   ]
  },
  {
   "cell_type": "code",
   "execution_count": 74,
   "id": "720a980d",
   "metadata": {},
   "outputs": [
    {
     "name": "stdout",
     "output_type": "stream",
     "text": [
      "11\n"
     ]
    }
   ],
   "source": [
    "print(a)"
   ]
  },
  {
   "cell_type": "code",
   "execution_count": 75,
   "id": "e24a6c17",
   "metadata": {},
   "outputs": [
    {
     "name": "stdout",
     "output_type": "stream",
     "text": [
      "I am inside test2\n",
      "11\n",
      "function executed\n"
     ]
    },
    {
     "data": {
      "text/plain": [
       "67"
      ]
     },
     "execution_count": 75,
     "metadata": {},
     "output_type": "execute_result"
    }
   ],
   "source": [
    "test4()+ 56 # primitive operation"
   ]
  },
  {
   "cell_type": "code",
   "execution_count": 76,
   "id": "bfc06622",
   "metadata": {},
   "outputs": [],
   "source": [
    "def test5():\n",
    "    return 4+5"
   ]
  },
  {
   "cell_type": "code",
   "execution_count": 77,
   "id": "6479afd9",
   "metadata": {},
   "outputs": [
    {
     "data": {
      "text/plain": [
       "9"
      ]
     },
     "execution_count": 77,
     "metadata": {},
     "output_type": "execute_result"
    }
   ],
   "source": [
    "test5()"
   ]
  },
  {
   "cell_type": "code",
   "execution_count": 78,
   "id": "555c8302",
   "metadata": {},
   "outputs": [
    {
     "data": {
      "text/plain": [
       "int"
      ]
     },
     "execution_count": 78,
     "metadata": {},
     "output_type": "execute_result"
    }
   ],
   "source": [
    "type(test5())"
   ]
  },
  {
   "cell_type": "code",
   "execution_count": 79,
   "id": "fbf250ec",
   "metadata": {},
   "outputs": [
    {
     "data": {
      "text/plain": [
       "54"
      ]
     },
     "execution_count": 79,
     "metadata": {},
     "output_type": "execute_result"
    }
   ],
   "source": [
    "test5()+45"
   ]
  },
  {
   "cell_type": "code",
   "execution_count": 80,
   "id": "9a71bd57",
   "metadata": {},
   "outputs": [],
   "source": [
    "def test6(func):\n",
    "    def test7():\n",
    "        func()\n",
    "        print(func())\n",
    "        print(\"This is my decorator function\")\n",
    "        return func()# to get the datatype of wrapper function-decorator and to operaationalise the primitive work\n",
    "    return test7"
   ]
  },
  {
   "cell_type": "code",
   "execution_count": 81,
   "id": "4addb193",
   "metadata": {},
   "outputs": [],
   "source": [
    "def test8():# without decorator\n",
    "    return 5+7"
   ]
  },
  {
   "cell_type": "code",
   "execution_count": 82,
   "id": "56c2fff0",
   "metadata": {},
   "outputs": [
    {
     "data": {
      "text/plain": [
       "12"
      ]
     },
     "execution_count": 82,
     "metadata": {},
     "output_type": "execute_result"
    }
   ],
   "source": [
    "test8()"
   ]
  },
  {
   "cell_type": "code",
   "execution_count": 83,
   "id": "95545e55",
   "metadata": {},
   "outputs": [
    {
     "data": {
      "text/plain": [
       "24"
      ]
     },
     "execution_count": 83,
     "metadata": {},
     "output_type": "execute_result"
    }
   ],
   "source": [
    "test8()+12"
   ]
  },
  {
   "cell_type": "code",
   "execution_count": 84,
   "id": "245e014a",
   "metadata": {},
   "outputs": [],
   "source": [
    "@test6 # decorating test 8 with test 6 function\n",
    "def test8():\n",
    "    return 5+7"
   ]
  },
  {
   "cell_type": "code",
   "execution_count": 85,
   "id": "d463d1ff",
   "metadata": {},
   "outputs": [
    {
     "name": "stdout",
     "output_type": "stream",
     "text": [
      "12\n",
      "This is my decorator function\n"
     ]
    },
    {
     "data": {
      "text/plain": [
       "12"
      ]
     },
     "execution_count": 85,
     "metadata": {},
     "output_type": "execute_result"
    }
   ],
   "source": [
    "test8()"
   ]
  },
  {
   "cell_type": "code",
   "execution_count": 86,
   "id": "f77b05f5",
   "metadata": {},
   "outputs": [
    {
     "name": "stdout",
     "output_type": "stream",
     "text": [
      "12\n",
      "This is my decorator function\n"
     ]
    },
    {
     "data": {
      "text/plain": [
       "112"
      ]
     },
     "execution_count": 86,
     "metadata": {},
     "output_type": "execute_result"
    }
   ],
   "source": [
    "test8()+100"
   ]
  },
  {
   "cell_type": "code",
   "execution_count": 87,
   "id": "2504e0c1",
   "metadata": {},
   "outputs": [
    {
     "name": "stdout",
     "output_type": "stream",
     "text": [
      "12\n",
      "This is my decorator function\n"
     ]
    },
    {
     "data": {
      "text/plain": [
       "int"
      ]
     },
     "execution_count": 87,
     "metadata": {},
     "output_type": "execute_result"
    }
   ],
   "source": [
    "type(test8())"
   ]
  },
  {
   "cell_type": "code",
   "execution_count": 88,
   "id": "3632b18f",
   "metadata": {},
   "outputs": [],
   "source": [
    "def test6(func):\n",
    "    def test7(*args,**kwargs):\n",
    "        func(*args,**kwargs)\n",
    "        print(func(*args,**kwargs))\n",
    "        print(\"This is my decorator function\")\n",
    "        return func(*args,**kwargs)# to get the datatype of wrapper function-decorator and to operaationalise the primitive work\n",
    "    return test7"
   ]
  },
  {
   "cell_type": "code",
   "execution_count": 89,
   "id": "e93ad58c",
   "metadata": {},
   "outputs": [],
   "source": [
    "@test6\n",
    "def test8(a,b):\n",
    "    return a+b"
   ]
  },
  {
   "cell_type": "code",
   "execution_count": 90,
   "id": "02969679",
   "metadata": {},
   "outputs": [
    {
     "name": "stdout",
     "output_type": "stream",
     "text": [
      "sudhkumar\n",
      "This is my decorator function\n"
     ]
    },
    {
     "data": {
      "text/plain": [
       "'sudhkumar'"
      ]
     },
     "execution_count": 90,
     "metadata": {},
     "output_type": "execute_result"
    }
   ],
   "source": [
    "test8(\"sudh\", \"kumar\")"
   ]
  },
  {
   "cell_type": "code",
   "execution_count": 91,
   "id": "9031cc20",
   "metadata": {},
   "outputs": [],
   "source": [
    "@test6\n",
    "def test9(**kwargs):\n",
    "    return kwargs"
   ]
  },
  {
   "cell_type": "code",
   "execution_count": 92,
   "id": "4ee7be09",
   "metadata": {},
   "outputs": [
    {
     "name": "stdout",
     "output_type": "stream",
     "text": [
      "{'a': 89, 'b': 67}\n",
      "This is my decorator function\n"
     ]
    },
    {
     "data": {
      "text/plain": [
       "{'a': 89, 'b': 67}"
      ]
     },
     "execution_count": 92,
     "metadata": {},
     "output_type": "execute_result"
    }
   ],
   "source": [
    "test9(a=89,b=67)"
   ]
  },
  {
   "cell_type": "markdown",
   "id": "b77b9557",
   "metadata": {},
   "source": [
    "# anonymous function/Lambda function/function without name"
   ]
  },
  {
   "cell_type": "code",
   "execution_count": 93,
   "id": "b0f15bb6",
   "metadata": {},
   "outputs": [],
   "source": [
    "def test10(a,b):\n",
    "    return a+b\n"
   ]
  },
  {
   "cell_type": "code",
   "execution_count": 94,
   "id": "213a591b",
   "metadata": {},
   "outputs": [
    {
     "data": {
      "text/plain": [
       "7"
      ]
     },
     "execution_count": 94,
     "metadata": {},
     "output_type": "execute_result"
    }
   ],
   "source": [
    "test10(3,4)"
   ]
  },
  {
   "cell_type": "code",
   "execution_count": 95,
   "id": "80265f9c",
   "metadata": {},
   "outputs": [
    {
     "data": {
      "text/plain": [
       "'sudh ineuron'"
      ]
     },
     "execution_count": 95,
     "metadata": {},
     "output_type": "execute_result"
    }
   ],
   "source": [
    "test10(\"sudh \", \"ineuron\")"
   ]
  },
  {
   "cell_type": "code",
   "execution_count": 96,
   "id": "3f1910f3",
   "metadata": {},
   "outputs": [],
   "source": [
    "c=lambda a,b:a+b"
   ]
  },
  {
   "cell_type": "code",
   "execution_count": 97,
   "id": "65b85666",
   "metadata": {},
   "outputs": [
    {
     "data": {
      "text/plain": [
       "<function __main__.test10(a, b)>"
      ]
     },
     "execution_count": 97,
     "metadata": {},
     "output_type": "execute_result"
    }
   ],
   "source": [
    "test10"
   ]
  },
  {
   "cell_type": "code",
   "execution_count": 98,
   "id": "1074d88b",
   "metadata": {},
   "outputs": [
    {
     "data": {
      "text/plain": [
       "'sudh ineuron'"
      ]
     },
     "execution_count": 98,
     "metadata": {},
     "output_type": "execute_result"
    }
   ],
   "source": [
    "c(\"sudh \",\"ineuron\")"
   ]
  },
  {
   "cell_type": "code",
   "execution_count": 99,
   "id": "8351ebcb",
   "metadata": {},
   "outputs": [],
   "source": [
    "d=lambda a,b,c,d:a*b+c/d"
   ]
  },
  {
   "cell_type": "code",
   "execution_count": 100,
   "id": "ce0f3a16",
   "metadata": {},
   "outputs": [
    {
     "data": {
      "text/plain": [
       "12.833333333333334"
      ]
     },
     "execution_count": 100,
     "metadata": {},
     "output_type": "execute_result"
    }
   ],
   "source": [
    "d(3,4,5,6)"
   ]
  },
  {
   "cell_type": "code",
   "execution_count": 101,
   "id": "6748cbd8",
   "metadata": {},
   "outputs": [],
   "source": [
    "e=lambda *args:args"
   ]
  },
  {
   "cell_type": "code",
   "execution_count": 102,
   "id": "17c9ea5e",
   "metadata": {},
   "outputs": [
    {
     "data": {
      "text/plain": [
       "()"
      ]
     },
     "execution_count": 102,
     "metadata": {},
     "output_type": "execute_result"
    }
   ],
   "source": [
    "e()"
   ]
  },
  {
   "cell_type": "code",
   "execution_count": 103,
   "id": "b930fa1f",
   "metadata": {},
   "outputs": [
    {
     "data": {
      "text/plain": [
       "(3, 4, 5)"
      ]
     },
     "execution_count": 103,
     "metadata": {},
     "output_type": "execute_result"
    }
   ],
   "source": [
    "e(3,4,5)"
   ]
  },
  {
   "cell_type": "markdown",
   "id": "489c5bb0",
   "metadata": {},
   "source": [
    "# Map reduce filter functions-Map function"
   ]
  },
  {
   "cell_type": "code",
   "execution_count": 104,
   "id": "07328c22",
   "metadata": {},
   "outputs": [],
   "source": [
    "#map()"
   ]
  },
  {
   "cell_type": "code",
   "execution_count": 105,
   "id": "f6dd126a",
   "metadata": {},
   "outputs": [],
   "source": [
    "l=[1,2,3,4,5,6,7] # input\n",
    "l1=[]\n",
    "for i in l:\n",
    "    l1.append(i+10)"
   ]
  },
  {
   "cell_type": "code",
   "execution_count": 106,
   "id": "6fee1c11",
   "metadata": {},
   "outputs": [],
   "source": [
    "#l=[11,12,13,14,15,16,16] # output"
   ]
  },
  {
   "cell_type": "code",
   "execution_count": 107,
   "id": "8202d344",
   "metadata": {},
   "outputs": [
    {
     "data": {
      "text/plain": [
       "[11, 12, 13, 14, 15, 16, 17]"
      ]
     },
     "execution_count": 107,
     "metadata": {},
     "output_type": "execute_result"
    }
   ],
   "source": [
    "l1"
   ]
  },
  {
   "cell_type": "code",
   "execution_count": 108,
   "id": "10691510",
   "metadata": {},
   "outputs": [],
   "source": [
    "def test14(a):\n",
    "    return a+10"
   ]
  },
  {
   "cell_type": "code",
   "execution_count": 109,
   "id": "3bb56624",
   "metadata": {},
   "outputs": [
    {
     "data": {
      "text/plain": [
       "[11, 12, 13, 14, 15, 16, 17]"
      ]
     },
     "execution_count": 109,
     "metadata": {},
     "output_type": "execute_result"
    }
   ],
   "source": [
    "list(map(test14,l))"
   ]
  },
  {
   "cell_type": "code",
   "execution_count": 110,
   "id": "37722fe7",
   "metadata": {},
   "outputs": [
    {
     "data": {
      "text/plain": [
       "[11, 12, 13, 14, 15, 16, 17]"
      ]
     },
     "execution_count": 110,
     "metadata": {},
     "output_type": "execute_result"
    }
   ],
   "source": [
    "list(map(lambda a : a+10, l))"
   ]
  },
  {
   "cell_type": "code",
   "execution_count": 111,
   "id": "ffe5f3e3",
   "metadata": {},
   "outputs": [],
   "source": [
    "n=lambda a: a+10"
   ]
  },
  {
   "cell_type": "code",
   "execution_count": 112,
   "id": "b3e1ce35",
   "metadata": {},
   "outputs": [
    {
     "data": {
      "text/plain": [
       "[11, 12, 13, 14, 15, 16, 17]"
      ]
     },
     "execution_count": 112,
     "metadata": {},
     "output_type": "execute_result"
    }
   ],
   "source": [
    "list(map(n,l))"
   ]
  },
  {
   "cell_type": "code",
   "execution_count": 113,
   "id": "c69cc62b",
   "metadata": {},
   "outputs": [],
   "source": [
    "l=[\"sudh\" , \"kumar\" , \"ineuron\"]"
   ]
  },
  {
   "cell_type": "code",
   "execution_count": 114,
   "id": "85a99b3e",
   "metadata": {},
   "outputs": [],
   "source": [
    "l1=[]\n",
    "for i in l:\n",
    "    l1.append(i.upper())"
   ]
  },
  {
   "cell_type": "code",
   "execution_count": 115,
   "id": "945bf179",
   "metadata": {},
   "outputs": [
    {
     "data": {
      "text/plain": [
       "['SUDH', 'KUMAR', 'INEURON']"
      ]
     },
     "execution_count": 115,
     "metadata": {},
     "output_type": "execute_result"
    }
   ],
   "source": [
    "l1"
   ]
  },
  {
   "cell_type": "code",
   "execution_count": 116,
   "id": "188fd7d3",
   "metadata": {},
   "outputs": [
    {
     "data": {
      "text/plain": [
       "['SUDH', 'KUMAR', 'INEURON']"
      ]
     },
     "execution_count": 116,
     "metadata": {},
     "output_type": "execute_result"
    }
   ],
   "source": [
    "list(map(lambda a : a.upper() , l))"
   ]
  },
  {
   "cell_type": "code",
   "execution_count": 117,
   "id": "212aee1c",
   "metadata": {},
   "outputs": [
    {
     "data": {
      "text/plain": [
       "['SUDH', 'KUMAR', 'INEURON']"
      ]
     },
     "execution_count": 117,
     "metadata": {},
     "output_type": "execute_result"
    }
   ],
   "source": [
    "list(map(str.upper,l))"
   ]
  },
  {
   "cell_type": "code",
   "execution_count": 118,
   "id": "2d919bc9",
   "metadata": {},
   "outputs": [],
   "source": [
    "def upper_string(a):\n",
    "    return a.upper()"
   ]
  },
  {
   "cell_type": "code",
   "execution_count": 119,
   "id": "62fee1d2",
   "metadata": {},
   "outputs": [
    {
     "data": {
      "text/plain": [
       "['SUDH', 'KUMAR', 'INEURON']"
      ]
     },
     "execution_count": 119,
     "metadata": {},
     "output_type": "execute_result"
    }
   ],
   "source": [
    "list(map(upper_string,l))"
   ]
  },
  {
   "cell_type": "code",
   "execution_count": 120,
   "id": "8792e22d",
   "metadata": {},
   "outputs": [
    {
     "data": {
      "text/plain": [
       "['sudh', 'kumar', 'ineuron']"
      ]
     },
     "execution_count": 120,
     "metadata": {},
     "output_type": "execute_result"
    }
   ],
   "source": [
    "l"
   ]
  },
  {
   "cell_type": "code",
   "execution_count": 121,
   "id": "8c1be7bd",
   "metadata": {},
   "outputs": [],
   "source": [
    "l1=[]\n",
    "for i in l:\n",
    "    l1.append(len(i))"
   ]
  },
  {
   "cell_type": "code",
   "execution_count": 122,
   "id": "35d1eab1",
   "metadata": {},
   "outputs": [
    {
     "data": {
      "text/plain": [
       "[4, 5, 7]"
      ]
     },
     "execution_count": 122,
     "metadata": {},
     "output_type": "execute_result"
    }
   ],
   "source": [
    "l1"
   ]
  },
  {
   "cell_type": "code",
   "execution_count": 123,
   "id": "6d8c09c2",
   "metadata": {},
   "outputs": [
    {
     "data": {
      "text/plain": [
       "[4, 5, 7]"
      ]
     },
     "execution_count": 123,
     "metadata": {},
     "output_type": "execute_result"
    }
   ],
   "source": [
    "list(map(len,l))"
   ]
  },
  {
   "cell_type": "code",
   "execution_count": 124,
   "id": "3ccf7c55",
   "metadata": {},
   "outputs": [
    {
     "data": {
      "text/plain": [
       "[4, 5, 7]"
      ]
     },
     "execution_count": 124,
     "metadata": {},
     "output_type": "execute_result"
    }
   ],
   "source": [
    "list(map(lambda a : len(a) , l))"
   ]
  },
  {
   "cell_type": "code",
   "execution_count": 125,
   "id": "464df47a",
   "metadata": {},
   "outputs": [],
   "source": [
    "def test23(a):\n",
    "    return len(a)"
   ]
  },
  {
   "cell_type": "code",
   "execution_count": 126,
   "id": "be3bbb61",
   "metadata": {},
   "outputs": [
    {
     "data": {
      "text/plain": [
       "[4, 5, 7]"
      ]
     },
     "execution_count": 126,
     "metadata": {},
     "output_type": "execute_result"
    }
   ],
   "source": [
    "list(map(test23,l))"
   ]
  },
  {
   "cell_type": "markdown",
   "id": "02a19dab",
   "metadata": {},
   "source": [
    "# filter function"
   ]
  },
  {
   "cell_type": "code",
   "execution_count": 127,
   "id": "c8a7a736",
   "metadata": {},
   "outputs": [],
   "source": [
    "l=[1,2,3,4,5,6,7,8] \n",
    "\n",
    "# filter even no from this list\n",
    "\n",
    "l1=[]\n",
    "for i in l:\n",
    "    if i%2==0:\n",
    "        l1.append(i)\n",
    "   "
   ]
  },
  {
   "cell_type": "code",
   "execution_count": 128,
   "id": "ffae083c",
   "metadata": {},
   "outputs": [
    {
     "data": {
      "text/plain": [
       "[2, 4, 6, 8]"
      ]
     },
     "execution_count": 128,
     "metadata": {},
     "output_type": "execute_result"
    }
   ],
   "source": [
    "l1"
   ]
  },
  {
   "cell_type": "code",
   "execution_count": 129,
   "id": "813a2142",
   "metadata": {},
   "outputs": [
    {
     "data": {
      "text/plain": [
       "[2, 4, 6, 8]"
      ]
     },
     "execution_count": 129,
     "metadata": {},
     "output_type": "execute_result"
    }
   ],
   "source": [
    "[i for i in l if i%2==0]"
   ]
  },
  {
   "cell_type": "code",
   "execution_count": 131,
   "id": "cbc71f8b",
   "metadata": {},
   "outputs": [],
   "source": [
    "def test24(a):\n",
    "    l=[]\n",
    "    if type(a)==list:\n",
    "        for i in a:\n",
    "            if i%2==0:\n",
    "                l.append(i)\n",
    "    return l"
   ]
  },
  {
   "cell_type": "code",
   "execution_count": 132,
   "id": "cd66f947",
   "metadata": {},
   "outputs": [
    {
     "data": {
      "text/plain": [
       "[2, 4, 6, 8]"
      ]
     },
     "execution_count": 132,
     "metadata": {},
     "output_type": "execute_result"
    }
   ],
   "source": [
    "test24(l)"
   ]
  },
  {
   "cell_type": "code",
   "execution_count": 133,
   "id": "08cef354",
   "metadata": {},
   "outputs": [],
   "source": [
    "a=lambda a: a  if a%2==0 else None"
   ]
  },
  {
   "cell_type": "code",
   "execution_count": 134,
   "id": "69beb432",
   "metadata": {},
   "outputs": [
    {
     "data": {
      "text/plain": [
       "[None, 2, None, 4, None, 6, None, 8]"
      ]
     },
     "execution_count": 134,
     "metadata": {},
     "output_type": "execute_result"
    }
   ],
   "source": [
    "list(map(a,l))"
   ]
  },
  {
   "cell_type": "code",
   "execution_count": 135,
   "id": "ec9be126",
   "metadata": {},
   "outputs": [
    {
     "data": {
      "text/plain": [
       "[1, 2, 3, 4, 5, 6, 7, 8]"
      ]
     },
     "execution_count": 135,
     "metadata": {},
     "output_type": "execute_result"
    }
   ],
   "source": [
    "l"
   ]
  },
  {
   "cell_type": "code",
   "execution_count": 137,
   "id": "6ee83a27",
   "metadata": {},
   "outputs": [
    {
     "data": {
      "text/plain": [
       "[2, 4, 6, 8]"
      ]
     },
     "execution_count": 137,
     "metadata": {},
     "output_type": "execute_result"
    }
   ],
   "source": [
    "list(filter(a , l))"
   ]
  },
  {
   "cell_type": "code",
   "execution_count": 138,
   "id": "ea8536b0",
   "metadata": {},
   "outputs": [],
   "source": [
    "# filter functions work in just two conditions: True or False"
   ]
  },
  {
   "cell_type": "code",
   "execution_count": 143,
   "id": "8373fbc2",
   "metadata": {},
   "outputs": [],
   "source": [
    "def test25(a):\n",
    "    if a%2==0:\n",
    "        return True\n",
    "    else:\n",
    "        return False"
   ]
  },
  {
   "cell_type": "code",
   "execution_count": 144,
   "id": "6af2c9f5",
   "metadata": {},
   "outputs": [
    {
     "data": {
      "text/plain": [
       "True"
      ]
     },
     "execution_count": 144,
     "metadata": {},
     "output_type": "execute_result"
    }
   ],
   "source": [
    "test25(32)"
   ]
  },
  {
   "cell_type": "code",
   "execution_count": 145,
   "id": "463e21af",
   "metadata": {},
   "outputs": [
    {
     "data": {
      "text/plain": [
       "False"
      ]
     },
     "execution_count": 145,
     "metadata": {},
     "output_type": "execute_result"
    }
   ],
   "source": [
    "test25(25)"
   ]
  },
  {
   "cell_type": "code",
   "execution_count": 146,
   "id": "66a03c9a",
   "metadata": {},
   "outputs": [
    {
     "data": {
      "text/plain": [
       "[2, 4, 6, 8]"
      ]
     },
     "execution_count": 146,
     "metadata": {},
     "output_type": "execute_result"
    }
   ],
   "source": [
    "list(filter(test25,l))"
   ]
  },
  {
   "cell_type": "code",
   "execution_count": 147,
   "id": "9761224a",
   "metadata": {},
   "outputs": [
    {
     "data": {
      "text/plain": [
       "[1, 2, 3, 4, 5, 6, 7, 8]"
      ]
     },
     "execution_count": 147,
     "metadata": {},
     "output_type": "execute_result"
    }
   ],
   "source": [
    "l"
   ]
  },
  {
   "cell_type": "markdown",
   "id": "b5f02f23",
   "metadata": {},
   "source": [
    "# Reduce Function"
   ]
  },
  {
   "cell_type": "code",
   "execution_count": 148,
   "id": "0abfbf2a",
   "metadata": {},
   "outputs": [
    {
     "data": {
      "text/plain": [
       "[1, 2, 3, 4, 5, 6, 7, 8]"
      ]
     },
     "execution_count": 148,
     "metadata": {},
     "output_type": "execute_result"
    }
   ],
   "source": [
    "l"
   ]
  },
  {
   "cell_type": "code",
   "execution_count": 149,
   "id": "2d6fbd41",
   "metadata": {},
   "outputs": [
    {
     "data": {
      "text/plain": [
       "36"
      ]
     },
     "execution_count": 149,
     "metadata": {},
     "output_type": "execute_result"
    }
   ],
   "source": [
    "sum(l)"
   ]
  },
  {
   "cell_type": "code",
   "execution_count": 150,
   "id": "1f25a60c",
   "metadata": {},
   "outputs": [
    {
     "data": {
      "text/plain": [
       "[1, 2, 3, 4, 5, 6, 7, 8]"
      ]
     },
     "execution_count": 150,
     "metadata": {},
     "output_type": "execute_result"
    }
   ],
   "source": [
    "l"
   ]
  },
  {
   "cell_type": "code",
   "execution_count": 153,
   "id": "eaa37dd4",
   "metadata": {},
   "outputs": [
    {
     "name": "stdout",
     "output_type": "stream",
     "text": [
      "40320\n"
     ]
    }
   ],
   "source": [
    "result=1\n",
    "for i in l:\n",
    "    result=result*i\n",
    "print(result)"
   ]
  },
  {
   "cell_type": "code",
   "execution_count": 155,
   "id": "6538b6a4",
   "metadata": {},
   "outputs": [],
   "source": [
    "from functools import reduce"
   ]
  },
  {
   "cell_type": "code",
   "execution_count": 172,
   "id": "1d5e328f",
   "metadata": {},
   "outputs": [
    {
     "data": {
      "text/plain": [
       "40320"
      ]
     },
     "execution_count": 172,
     "metadata": {},
     "output_type": "execute_result"
    }
   ],
   "source": [
    "reduce(lambda a,b : a*b ,l)"
   ]
  },
  {
   "cell_type": "code",
   "execution_count": 171,
   "id": "cccc2ff0",
   "metadata": {
    "scrolled": true
   },
   "outputs": [
    {
     "ename": "TypeError",
     "evalue": "<lambda>() missing 1 required positional argument: 'c'",
     "output_type": "error",
     "traceback": [
      "\u001b[1;31m---------------------------------------------------------------------------\u001b[0m",
      "\u001b[1;31mTypeError\u001b[0m                                 Traceback (most recent call last)",
      "Input \u001b[1;32mIn [171]\u001b[0m, in \u001b[0;36m<cell line: 1>\u001b[1;34m()\u001b[0m\n\u001b[1;32m----> 1\u001b[0m \u001b[43mreduce\u001b[49m\u001b[43m(\u001b[49m\u001b[38;5;28;43;01mlambda\u001b[39;49;00m\u001b[43m \u001b[49m\u001b[43ma\u001b[49m\u001b[43m,\u001b[49m\u001b[43mb\u001b[49m\u001b[43m,\u001b[49m\u001b[43mc\u001b[49m\u001b[43m \u001b[49m\u001b[43m:\u001b[49m\u001b[43m \u001b[49m\u001b[43ma\u001b[49m\u001b[38;5;241;43m*\u001b[39;49m\u001b[43mb\u001b[49m\u001b[38;5;241;43m*\u001b[39;49m\u001b[43mc\u001b[49m\u001b[43m,\u001b[49m\u001b[43ml\u001b[49m\u001b[43m)\u001b[49m\n",
      "\u001b[1;31mTypeError\u001b[0m: <lambda>() missing 1 required positional argument: 'c'"
     ]
    }
   ],
   "source": [
    "reduce(lambda a,b,c : a*b*c,l)"
   ]
  },
  {
   "cell_type": "code",
   "execution_count": null,
   "id": "4b52fdee",
   "metadata": {},
   "outputs": [],
   "source": [
    "# always pass two arguments in reduce functions,\n",
    "#three srguments may work in odd no of parameters but twa arguments will work in any situation"
   ]
  },
  {
   "cell_type": "code",
   "execution_count": 158,
   "id": "a4358d28",
   "metadata": {},
   "outputs": [
    {
     "data": {
      "text/plain": [
       "[1, 2, 3, 4, 5, 6, 7, 8]"
      ]
     },
     "execution_count": 158,
     "metadata": {},
     "output_type": "execute_result"
    }
   ],
   "source": [
    "l"
   ]
  },
  {
   "cell_type": "code",
   "execution_count": 159,
   "id": "03c9b928",
   "metadata": {},
   "outputs": [
    {
     "data": {
      "text/plain": [
       "3"
      ]
     },
     "execution_count": 159,
     "metadata": {},
     "output_type": "execute_result"
    }
   ],
   "source": [
    "l1=[3]\n",
    "reduce(lambda a,b : a*b , l1)"
   ]
  },
  {
   "cell_type": "code",
   "execution_count": 184,
   "id": "0d34edce",
   "metadata": {},
   "outputs": [],
   "source": [
    "def test26(a: int,b: \"func\", c: int=234) -> int:\n",
    "    '''this is my doc string to give a hint to next programmer'''\n",
    "    return a+b+ str(c)"
   ]
  },
  {
   "cell_type": "code",
   "execution_count": 185,
   "id": "cc99ea46",
   "metadata": {},
   "outputs": [
    {
     "data": {
      "text/plain": [
       "'sudhkumar234'"
      ]
     },
     "execution_count": 185,
     "metadata": {},
     "output_type": "execute_result"
    }
   ],
   "source": [
    "test26(\"sudh\" , \"kumar\" )"
   ]
  },
  {
   "cell_type": "code",
   "execution_count": 186,
   "id": "a1342a9b",
   "metadata": {},
   "outputs": [
    {
     "data": {
      "text/plain": [
       "'sudhkumar345'"
      ]
     },
     "execution_count": 186,
     "metadata": {},
     "output_type": "execute_result"
    }
   ],
   "source": [
    "test26(\"sudh\" , \"kumar\" ,345 )"
   ]
  },
  {
   "cell_type": "code",
   "execution_count": 187,
   "id": "e9c89d6f",
   "metadata": {},
   "outputs": [],
   "source": [
    "# https://github.com/gitpython-developers/GitPython"
   ]
  },
  {
   "cell_type": "code",
   "execution_count": null,
   "id": "17279b67",
   "metadata": {},
   "outputs": [],
   "source": []
  }
 ],
 "metadata": {
  "kernelspec": {
   "display_name": "Python 3 (ipykernel)",
   "language": "python",
   "name": "python3"
  },
  "language_info": {
   "codemirror_mode": {
    "name": "ipython",
    "version": 3
   },
   "file_extension": ".py",
   "mimetype": "text/x-python",
   "name": "python",
   "nbconvert_exporter": "python",
   "pygments_lexer": "ipython3",
   "version": "3.9.12"
  }
 },
 "nbformat": 4,
 "nbformat_minor": 5
}
