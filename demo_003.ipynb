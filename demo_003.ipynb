{
 "cells": [
  {
   "cell_type": "code",
   "execution_count": 1,
   "id": "1565b449",
   "metadata": {},
   "outputs": [],
   "source": [
    "_num=10 # hidden variable"
   ]
  },
  {
   "cell_type": "markdown",
   "id": "d84fce63",
   "metadata": {},
   "source": [
    "# AGENDA\n",
    "Variable Case senstivity\n",
    "Reserved words in Python\n",
    "Multi assignment of variables\n",
    "User input\n",
    "type casting | type conversion\n",
    "Memory block\n",
    "Operators\n",
    "- Logical\n",
    "- Equality\n",
    "- Comparison\n",
    "- Arithmetic\n",
    "-Bitwise [advance classes]\n",
    "-Operators for sets and dictionary [advance classes]\n",
    "String Method"
   ]
  },
  {
   "cell_type": "markdown",
   "id": "3754f18c",
   "metadata": {},
   "source": [
    "# Variable Case Sensitivity\n",
    "\n",
    "variables name defined as\n",
    "\n",
    "Ashish =\"India\"\n",
    "ashish =\"US\""
   ]
  },
  {
   "cell_type": "code",
   "execution_count": 3,
   "id": "7be2246f",
   "metadata": {},
   "outputs": [],
   "source": [
    "TEN =10\n",
    "ten= 20\n",
    "# TEN and ten both are different in terms of lowercase and upper case  letter\n",
    "\n"
   ]
  },
  {
   "cell_type": "code",
   "execution_count": 2,
   "id": "28c27640",
   "metadata": {},
   "outputs": [
    {
     "ename": "NameError",
     "evalue": "name 'Ten' is not defined",
     "output_type": "error",
     "traceback": [
      "\u001b[1;31m---------------------------------------------------------------------------\u001b[0m",
      "\u001b[1;31mNameError\u001b[0m                                 Traceback (most recent call last)",
      "Input \u001b[1;32mIn [2]\u001b[0m, in \u001b[0;36m<cell line: 1>\u001b[1;34m()\u001b[0m\n\u001b[1;32m----> 1\u001b[0m \u001b[38;5;28mprint\u001b[39m(\u001b[43mTen\u001b[49m)\n",
      "\u001b[1;31mNameError\u001b[0m: name 'Ten' is not defined"
     ]
    }
   ],
   "source": [
    "print(Ten)"
   ]
  },
  {
   "cell_type": "code",
   "execution_count": 4,
   "id": "3be47b3c",
   "metadata": {},
   "outputs": [
    {
     "data": {
      "text/plain": [
       "10"
      ]
     },
     "execution_count": 4,
     "metadata": {},
     "output_type": "execute_result"
    }
   ],
   "source": [
    "TEN"
   ]
  },
  {
   "cell_type": "markdown",
   "id": "8e3647fc",
   "metadata": {},
   "source": [
    "# Reserved words in Python\n",
    "https://realpython.com/lessons/reserved-keywords/"
   ]
  },
  {
   "cell_type": "markdown",
   "id": "bea59b55",
   "metadata": {},
   "source": [
    "WE should not use reserved words as variable names\n",
    "Also python doesn't restrict the user to use reserved keywords as varibale names"
   ]
  },
  {
   "cell_type": "code",
   "execution_count": 5,
   "id": "96c22408",
   "metadata": {},
   "outputs": [
    {
     "name": "stdout",
     "output_type": "stream",
     "text": [
      "Hi there\n"
     ]
    }
   ],
   "source": [
    "print(\"Hi there\")"
   ]
  },
  {
   "cell_type": "code",
   "execution_count": 3,
   "id": "bc6b3ba6",
   "metadata": {},
   "outputs": [
    {
     "data": {
      "text/plain": [
       "str"
      ]
     },
     "execution_count": 3,
     "metadata": {},
     "output_type": "execute_result"
    }
   ],
   "source": [
    "print=\"Hi there\" # as a variable\n",
    "type (print)"
   ]
  },
  {
   "cell_type": "code",
   "execution_count": 4,
   "id": "81862d21",
   "metadata": {},
   "outputs": [],
   "source": [
    "del print   # delete the variable print"
   ]
  },
  {
   "cell_type": "code",
   "execution_count": 5,
   "id": "63c69e2b",
   "metadata": {},
   "outputs": [
    {
     "name": "stdout",
     "output_type": "stream",
     "text": [
      "Hi there\n"
     ]
    }
   ],
   "source": [
    "print(\"Hi there\")"
   ]
  },
  {
   "cell_type": "code",
   "execution_count": 23,
   "id": "e2ab95a2",
   "metadata": {},
   "outputs": [],
   "source": [
    "print=10\n"
   ]
  },
  {
   "cell_type": "code",
   "execution_count": 24,
   "id": "6969f1c1",
   "metadata": {},
   "outputs": [
    {
     "data": {
      "text/plain": [
       "int"
      ]
     },
     "execution_count": 24,
     "metadata": {},
     "output_type": "execute_result"
    }
   ],
   "source": [
    "type(print)"
   ]
  },
  {
   "cell_type": "code",
   "execution_count": 26,
   "id": "968d3573",
   "metadata": {},
   "outputs": [],
   "source": [
    "del print"
   ]
  },
  {
   "cell_type": "code",
   "execution_count": 27,
   "id": "2fe567c1",
   "metadata": {},
   "outputs": [
    {
     "name": "stdout",
     "output_type": "stream",
     "text": [
      "Sunny\n"
     ]
    }
   ],
   "source": [
    "print(\"Sunny\")"
   ]
  },
  {
   "cell_type": "markdown",
   "id": "f511f5f6",
   "metadata": {},
   "source": [
    "# Multi assignment of variables"
   ]
  },
  {
   "cell_type": "code",
   "execution_count": 13,
   "id": "c5c868f4",
   "metadata": {},
   "outputs": [],
   "source": [
    "a,b,c,yes=10,20,\"Sunny\",True"
   ]
  },
  {
   "cell_type": "code",
   "execution_count": 9,
   "id": "25121943",
   "metadata": {},
   "outputs": [
    {
     "data": {
      "text/plain": [
       "int"
      ]
     },
     "execution_count": 9,
     "metadata": {},
     "output_type": "execute_result"
    }
   ],
   "source": [
    "type(a)"
   ]
  },
  {
   "cell_type": "code",
   "execution_count": 10,
   "id": "2eb8696b",
   "metadata": {},
   "outputs": [
    {
     "data": {
      "text/plain": [
       "int"
      ]
     },
     "execution_count": 10,
     "metadata": {},
     "output_type": "execute_result"
    }
   ],
   "source": [
    "type(b)"
   ]
  },
  {
   "cell_type": "code",
   "execution_count": 11,
   "id": "322db4b7",
   "metadata": {},
   "outputs": [
    {
     "data": {
      "text/plain": [
       "str"
      ]
     },
     "execution_count": 11,
     "metadata": {},
     "output_type": "execute_result"
    }
   ],
   "source": [
    "type(c)"
   ]
  },
  {
   "cell_type": "code",
   "execution_count": 14,
   "id": "982dd2e7",
   "metadata": {},
   "outputs": [
    {
     "data": {
      "text/plain": [
       "bool"
      ]
     },
     "execution_count": 14,
     "metadata": {},
     "output_type": "execute_result"
    }
   ],
   "source": [
    "type(yes)"
   ]
  },
  {
   "cell_type": "code",
   "execution_count": 15,
   "id": "3e5c128b",
   "metadata": {},
   "outputs": [
    {
     "ename": "TypeError",
     "evalue": "cannot unpack non-iterable int object",
     "output_type": "error",
     "traceback": [
      "\u001b[1;31m---------------------------------------------------------------------------\u001b[0m",
      "\u001b[1;31mTypeError\u001b[0m                                 Traceback (most recent call last)",
      "Input \u001b[1;32mIn [15]\u001b[0m, in \u001b[0;36m<cell line: 1>\u001b[1;34m()\u001b[0m\n\u001b[1;32m----> 1\u001b[0m a,b,c\u001b[38;5;241m=\u001b[39m\u001b[38;5;241m10\u001b[39m\n",
      "\u001b[1;31mTypeError\u001b[0m: cannot unpack non-iterable int object"
     ]
    }
   ],
   "source": [
    "a,b,c=10"
   ]
  },
  {
   "cell_type": "code",
   "execution_count": 16,
   "id": "59770741",
   "metadata": {},
   "outputs": [
    {
     "data": {
      "text/plain": [
       "bool"
      ]
     },
     "execution_count": 16,
     "metadata": {},
     "output_type": "execute_result"
    }
   ],
   "source": [
    "type(a)\n",
    "type(b)\n",
    "type(c)\n",
    "type(yes)"
   ]
  },
  {
   "cell_type": "code",
   "execution_count": 17,
   "id": "d823616a",
   "metadata": {},
   "outputs": [
    {
     "name": "stdout",
     "output_type": "stream",
     "text": [
      "<class 'int'>\n",
      "<class 'int'>\n",
      "<class 'str'>\n",
      "<class 'bool'>\n"
     ]
    }
   ],
   "source": [
    "print (type(a))\n",
    "print (type(b))\n",
    "print (type(c))\n",
    "print (type(yes))"
   ]
  },
  {
   "cell_type": "code",
   "execution_count": 18,
   "id": "4c866619",
   "metadata": {},
   "outputs": [],
   "source": [
    "a,b,c=10,10,10"
   ]
  },
  {
   "cell_type": "code",
   "execution_count": 20,
   "id": "fed40cd1",
   "metadata": {},
   "outputs": [],
   "source": [
    "a,A,c,C=10,20.2,\"Sunny\",True"
   ]
  },
  {
   "cell_type": "code",
   "execution_count": 21,
   "id": "44ea8ed2",
   "metadata": {},
   "outputs": [
    {
     "name": "stdout",
     "output_type": "stream",
     "text": [
      "10 20.2 Sunny True\n"
     ]
    }
   ],
   "source": [
    "print(a,A,c,C)"
   ]
  },
  {
   "cell_type": "code",
   "execution_count": 22,
   "id": "1165f8ce",
   "metadata": {},
   "outputs": [],
   "source": [
    "a=b=c=10"
   ]
  },
  {
   "cell_type": "code",
   "execution_count": 23,
   "id": "4cceb815",
   "metadata": {},
   "outputs": [
    {
     "data": {
      "text/plain": [
       "(10, 10, 10)"
      ]
     },
     "execution_count": 23,
     "metadata": {},
     "output_type": "execute_result"
    }
   ],
   "source": [
    "a,b,c"
   ]
  },
  {
   "cell_type": "code",
   "execution_count": 28,
   "id": "46b339e2",
   "metadata": {},
   "outputs": [],
   "source": [
    "firstName,middleName,sirName=\"Sunny\",\"Bhaveen\",\"Chandra\""
   ]
  },
  {
   "cell_type": "code",
   "execution_count": 29,
   "id": "9b387e05",
   "metadata": {},
   "outputs": [
    {
     "name": "stdout",
     "output_type": "stream",
     "text": [
      "Sunny.Chandra@gmail.com\n"
     ]
    }
   ],
   "source": [
    "print(f\"{firstName}.{sirName}@gmail.com\")"
   ]
  },
  {
   "cell_type": "code",
   "execution_count": 30,
   "id": "da83e474",
   "metadata": {},
   "outputs": [],
   "source": [
    "name,place,year_of_birth,weight=\"Sunny\",\"Bengaluru\",1991,80.88"
   ]
  },
  {
   "cell_type": "code",
   "execution_count": 32,
   "id": "e61db2e2",
   "metadata": {},
   "outputs": [
    {
     "name": "stdout",
     "output_type": "stream",
     "text": [
      "Sunny Bengaluru 1991 80.88\n"
     ]
    }
   ],
   "source": [
    "print(name,place,year_of_birth,weight)"
   ]
  },
  {
   "cell_type": "code",
   "execution_count": 33,
   "id": "388bd78f",
   "metadata": {},
   "outputs": [
    {
     "name": "stdout",
     "output_type": "stream",
     "text": [
      "My name is :Sunny\n",
      "I live at : Bengaluru\n",
      "I was born in:1991\n",
      "My weight is :80.88 in Kgs\n",
      "\n"
     ]
    }
   ],
   "source": [
    "print(f\"\"\"My name is :{name}\n",
    "I live at : {place}\n",
    "I was born in:{year_of_birth}\n",
    "My weight is :{weight} in Kgs\n",
    "\"\"\")"
   ]
  },
  {
   "cell_type": "markdown",
   "id": "5d53198d",
   "metadata": {},
   "source": [
    "## User input"
   ]
  },
  {
   "cell_type": "code",
   "execution_count": 26,
   "id": "584b6b06",
   "metadata": {},
   "outputs": [
    {
     "name": "stdout",
     "output_type": "stream",
     "text": [
      "Enter your Name: Sunny\n",
      "You have entered :Sunny\n"
     ]
    }
   ],
   "source": [
    "name= input(\"Enter your Name: \")\n",
    "print(f\"You have entered :{name}\")"
   ]
  },
  {
   "cell_type": "code",
   "execution_count": 27,
   "id": "764c7e7f",
   "metadata": {},
   "outputs": [
    {
     "name": "stdout",
     "output_type": "stream",
     "text": [
      "Entervalue of A : 12\n",
      "Enter value of B: 10\n",
      "Sum of A & B is : 1210\n"
     ]
    }
   ],
   "source": [
    "A= input(\"Entervalue of A : \")\n",
    "B=input(\"Enter value of B: \")\n",
    "\n",
    "print(f\"Sum of A & B is : {A+B}\")"
   ]
  },
  {
   "cell_type": "code",
   "execution_count": 28,
   "id": "56e8e98e",
   "metadata": {},
   "outputs": [
    {
     "name": "stdout",
     "output_type": "stream",
     "text": [
      "Entervalue of A : 12\n",
      "Enter value of B: 10\n",
      "<class 'str'> <class 'str'>\n",
      "Sum of A & B is : 1210\n"
     ]
    }
   ],
   "source": [
    "A= input(\"Entervalue of A : \")\n",
    "B=input(\"Enter value of B: \")\n",
    "print(type(A),type(B))\n",
    "print(f\"Sum of A & B is : {A+B}\")"
   ]
  },
  {
   "cell_type": "code",
   "execution_count": 36,
   "id": "65c5700d",
   "metadata": {},
   "outputs": [
    {
     "name": "stdout",
     "output_type": "stream",
     "text": [
      "Name: Bhaven\n",
      "place: Lucknow\n",
      "year_of_birth: 1996\n"
     ]
    }
   ],
   "source": [
    "name=  input(\"Name: \")\n",
    "place=input(\"place: \")\n",
    "year_of_birth=input(\"year_of_birth: \")\n"
   ]
  },
  {
   "cell_type": "code",
   "execution_count": 37,
   "id": "2857d1ea",
   "metadata": {},
   "outputs": [
    {
     "name": "stdout",
     "output_type": "stream",
     "text": [
      "\n",
      "My name is :Bhaven\n",
      "I live at : Lucknow\n",
      "I was born in:1996\n",
      "\n",
      "\n"
     ]
    }
   ],
   "source": [
    "print(f\"\"\"\n",
    "My name is :{name}\n",
    "I live at : {place}\n",
    "I was born in:{year_of_birth}\n",
    "\n",
    "\"\"\")"
   ]
  },
  {
   "cell_type": "code",
   "execution_count": 39,
   "id": "088256e2",
   "metadata": {},
   "outputs": [
    {
     "name": "stdout",
     "output_type": "stream",
     "text": [
      "Name: Sunny\n",
      "place: Blr\n",
      "year_of_birth: 1991\n"
     ]
    },
    {
     "ename": "TypeError",
     "evalue": "unsupported operand type(s) for -: 'int' and 'str'",
     "output_type": "error",
     "traceback": [
      "\u001b[1;31m---------------------------------------------------------------------------\u001b[0m",
      "\u001b[1;31mTypeError\u001b[0m                                 Traceback (most recent call last)",
      "Input \u001b[1;32mIn [39]\u001b[0m, in \u001b[0;36m<cell line: 6>\u001b[1;34m()\u001b[0m\n\u001b[0;32m      3\u001b[0m place\u001b[38;5;241m=\u001b[39m\u001b[38;5;28minput\u001b[39m(\u001b[38;5;124m\"\u001b[39m\u001b[38;5;124mplace: \u001b[39m\u001b[38;5;124m\"\u001b[39m)\n\u001b[0;32m      4\u001b[0m year_of_birth\u001b[38;5;241m=\u001b[39m\u001b[38;5;28minput\u001b[39m(\u001b[38;5;124m\"\u001b[39m\u001b[38;5;124myear_of_birth: \u001b[39m\u001b[38;5;124m\"\u001b[39m)\n\u001b[1;32m----> 6\u001b[0m age\u001b[38;5;241m=\u001b[39m\u001b[38;5;241;43m2022\u001b[39;49m\u001b[38;5;241;43m-\u001b[39;49m\u001b[43myear_of_birth\u001b[49m\n",
      "\u001b[1;31mTypeError\u001b[0m: unsupported operand type(s) for -: 'int' and 'str'"
     ]
    }
   ],
   "source": [
    "# Calculate the age of the user\n",
    "name=  input(\"Name: \") # input always gives you string\n",
    "place=input(\"place: \")\n",
    "year_of_birth=input(\"year_of_birth: \")\n",
    "\n",
    "age=2022-year_of_birth"
   ]
  },
  {
   "cell_type": "code",
   "execution_count": 42,
   "id": "b1621ca7",
   "metadata": {},
   "outputs": [
    {
     "name": "stdout",
     "output_type": "stream",
     "text": [
      "Name: Ritesh\n",
      "place: Bihar\n",
      "year_of_birth: 1998\n",
      "\n",
      "My name is :Ritesh\n",
      "I live at : Bihar\n",
      "Ritesh is of age : 24\n",
      "\n",
      "\n"
     ]
    }
   ],
   "source": [
    "# Calculate the age of the user\n",
    "name=  input(\"Name: \") # input always gives you string\n",
    "place=input(\"place: \")\n",
    "year_of_birth=int(input(\"year_of_birth: \"))\n",
    "\n",
    "age=2022-year_of_birth\n",
    "print(f\"\"\"\n",
    "My name is :{name}\n",
    "I live at : {place}\n",
    "{name} is of age : {age}\n",
    "\n",
    "\"\"\")"
   ]
  },
  {
   "cell_type": "code",
   "execution_count": 41,
   "id": "a8094e6e",
   "metadata": {},
   "outputs": [
    {
     "name": "stdout",
     "output_type": "stream",
     "text": [
      "\n",
      "My name is :sunny\n",
      "I live at : Blr\n",
      "sunny is of age : 24\n",
      "\n",
      "\n"
     ]
    }
   ],
   "source": [
    "print(f\"\"\"\n",
    "My name is :{name}\n",
    "I live at : {place}\n",
    "{name} is of age : {age}\n",
    "\n",
    "\"\"\")"
   ]
  },
  {
   "cell_type": "code",
   "execution_count": 43,
   "id": "44de5a3b",
   "metadata": {},
   "outputs": [
    {
     "name": "stdout",
     "output_type": "stream",
     "text": [
      "Name: Ritesh\n",
      "place: Chapra Bihar\n",
      "year_of_birth: 1998\n",
      "current_year :2022\n",
      "\n",
      "My name is :Ritesh\n",
      "I live at : Chapra Bihar\n",
      "Ritesh is of age : 24\n",
      "\n",
      "\n"
     ]
    }
   ],
   "source": [
    "# Calculate the age of the user\n",
    "name=  input(\"Name: \") # input always gives you string\n",
    "place=input(\"place: \")\n",
    "year_of_birth=int(input(\"year_of_birth: \"))\n",
    "current_year= int(input(\"current_year :\"))\n",
    "\n",
    "age=current_year-year_of_birth\n",
    "print(f\"\"\"\n",
    "My name is :{name}\n",
    "I live at : {place}\n",
    "{name} is of age : {age}\n",
    "\n",
    "\"\"\")"
   ]
  },
  {
   "cell_type": "markdown",
   "id": "c508a4fd",
   "metadata": {},
   "source": [
    "# Type Conversion\n",
    "we can convert the data type of one variable into another if it is allowed"
   ]
  },
  {
   "cell_type": "code",
   "execution_count": 29,
   "id": "f0511037",
   "metadata": {},
   "outputs": [
    {
     "name": "stdout",
     "output_type": "stream",
     "text": [
      "Entervalue of A : 12\n",
      "Enter value of B: 10\n",
      "<class 'int'> <class 'int'>\n",
      "Sum of A & B is : 22\n"
     ]
    }
   ],
   "source": [
    "A= int(input(\"Entervalue of A : \"))\n",
    "B=int(input(\"Enter value of B: \"))\n",
    "print(type(A),type(B))\n",
    "print(f\"Sum of A & B is : {A+B}\")"
   ]
  },
  {
   "cell_type": "code",
   "execution_count": 31,
   "id": "5f097ed6",
   "metadata": {},
   "outputs": [
    {
     "name": "stdout",
     "output_type": "stream",
     "text": [
      "Entervalue of A : 12.2\n",
      "Enter value of B: 10.2\n",
      "<class 'float'> <class 'float'>\n",
      "Sum of A & B is : 22.4\n"
     ]
    }
   ],
   "source": [
    "A= float(input(\"Entervalue of A : \"))\n",
    "B=float(input(\"Enter value of B: \"))\n",
    "print(type(A),type(B))\n",
    "print(f\"Sum of A & B is : {A+B}\")"
   ]
  },
  {
   "cell_type": "code",
   "execution_count": 34,
   "id": "cf877996",
   "metadata": {},
   "outputs": [
    {
     "name": "stdout",
     "output_type": "stream",
     "text": [
      "Entervalue of A : 12.2\n",
      "Enter value of B: 9\n",
      "<class 'float'> <class 'int'>\n",
      "Sum of A & B is : 21.2\n"
     ]
    }
   ],
   "source": [
    "A= float(input(\"Entervalue of A : \"))\n",
    "B=int(input(\"Enter value of B: \"))\n",
    "print(type(A),type(B))\n",
    "print(f\"Sum of A & B is : {A+B}\")"
   ]
  },
  {
   "cell_type": "code",
   "execution_count": 10,
   "id": "f23d4727",
   "metadata": {},
   "outputs": [
    {
     "name": "stdout",
     "output_type": "stream",
     "text": [
      "data type before : <class 'str'>, value of A: 50 \n",
      "data type after:<class 'int'>,value of A: 50\n"
     ]
    }
   ],
   "source": [
    "# String to integer\n",
    "A=\"50\"\n",
    "print(f\"data type before : {type(A)}, value of A: {A} \")\n",
    "A= int(A)\n",
    "print(f\"data type after:{type(A)},value of A: {A}\")"
   ]
  },
  {
   "cell_type": "code",
   "execution_count": 11,
   "id": "5865a3e4",
   "metadata": {},
   "outputs": [
    {
     "name": "stdout",
     "output_type": "stream",
     "text": [
      "data type before : <class 'str'>,value of A: 50.22\n"
     ]
    },
    {
     "ename": "ValueError",
     "evalue": "invalid literal for int() with base 10: '50.22'",
     "output_type": "error",
     "traceback": [
      "\u001b[1;31m---------------------------------------------------------------------------\u001b[0m",
      "\u001b[1;31mValueError\u001b[0m                                Traceback (most recent call last)",
      "Input \u001b[1;32mIn [11]\u001b[0m, in \u001b[0;36m<cell line: 4>\u001b[1;34m()\u001b[0m\n\u001b[0;32m      2\u001b[0m A\u001b[38;5;241m=\u001b[39m\u001b[38;5;124m\"\u001b[39m\u001b[38;5;124m50.22\u001b[39m\u001b[38;5;124m\"\u001b[39m\u001b[38;5;66;03m# entering float value\u001b[39;00m\n\u001b[0;32m      3\u001b[0m \u001b[38;5;28mprint\u001b[39m(\u001b[38;5;124mf\u001b[39m\u001b[38;5;124m\"\u001b[39m\u001b[38;5;124mdata type before : \u001b[39m\u001b[38;5;132;01m{\u001b[39;00m\u001b[38;5;28mtype\u001b[39m(A)\u001b[38;5;132;01m}\u001b[39;00m\u001b[38;5;124m,value of A: \u001b[39m\u001b[38;5;132;01m{\u001b[39;00mA\u001b[38;5;132;01m}\u001b[39;00m\u001b[38;5;124m\"\u001b[39m)\n\u001b[1;32m----> 4\u001b[0m A\u001b[38;5;241m=\u001b[39m \u001b[38;5;28;43mint\u001b[39;49m\u001b[43m(\u001b[49m\u001b[43mA\u001b[49m\u001b[43m)\u001b[49m \u001b[38;5;66;03m# trying to convert it into integer\u001b[39;00m\n\u001b[0;32m      5\u001b[0m \u001b[38;5;28mprint\u001b[39m(\u001b[38;5;124mf\u001b[39m\u001b[38;5;124m\"\u001b[39m\u001b[38;5;124mdata type after:\u001b[39m\u001b[38;5;132;01m{\u001b[39;00m\u001b[38;5;28mtype\u001b[39m(A)\u001b[38;5;132;01m}\u001b[39;00m\u001b[38;5;124m,value of A: \u001b[39m\u001b[38;5;132;01m{\u001b[39;00mA\u001b[38;5;132;01m}\u001b[39;00m\u001b[38;5;124m\"\u001b[39m)\n",
      "\u001b[1;31mValueError\u001b[0m: invalid literal for int() with base 10: '50.22'"
     ]
    }
   ],
   "source": [
    "# String to integer\n",
    "A=\"50.22\"# entering float value\n",
    "print(f\"data type before : {type(A)},value of A: {A}\")\n",
    "A= int(A) # trying to convert it into integer\n",
    "print(f\"data type after:{type(A)},value of A: {A}\")"
   ]
  },
  {
   "cell_type": "code",
   "execution_count": 12,
   "id": "02383616",
   "metadata": {},
   "outputs": [
    {
     "name": "stdout",
     "output_type": "stream",
     "text": [
      "data type before : <class 'float'>,value of A: 50.22\n",
      "data type after:<class 'int'>,value of A: 50\n"
     ]
    }
   ],
   "source": [
    "# float to integer\n",
    "A= 50.22 # entering float value\n",
    "print(f\"data type before : {type(A)},value of A: {A}\")\n",
    "A= int(A) # trying to convert it into integer\n",
    "print(f\"data type after:{type(A)},value of A: {A}\")"
   ]
  },
  {
   "cell_type": "code",
   "execution_count": 14,
   "id": "733a32a4",
   "metadata": {},
   "outputs": [
    {
     "name": "stdout",
     "output_type": "stream",
     "text": [
      "data type before : <class 'int'>,value of A: 50\n",
      "data type after:<class 'float'>,value of A: 50.0\n"
     ]
    }
   ],
   "source": [
    "# integer to float\n",
    "A= 50 # entering int value\n",
    "print(f\"data type before : {type(A)},value of A: {A}\")\n",
    "A= float(A) # trying to convert it into float\n",
    "print(f\"data type after:{type(A)},value of A: {A}\")"
   ]
  },
  {
   "cell_type": "code",
   "execution_count": 15,
   "id": "547161eb",
   "metadata": {},
   "outputs": [
    {
     "name": "stdout",
     "output_type": "stream",
     "text": [
      "data type before : <class 'int'>,value of A: 10\n",
      "data type after:<class 'bool'>,value of A: True\n"
     ]
    }
   ],
   "source": [
    "# integer to boolean\n",
    "A= 10\n",
    "print(f\"data type before : {type(A)},value of A: {A}\")\n",
    "A= bool(A) \n",
    "print(f\"data type after:{type(A)},value of A: {A}\")"
   ]
  },
  {
   "cell_type": "code",
   "execution_count": null,
   "id": "b3ad6d5c",
   "metadata": {},
   "outputs": [],
   "source": [
    "# True in binary - 1\n",
    "# False in binary - 0"
   ]
  },
  {
   "cell_type": "code",
   "execution_count": 16,
   "id": "af1083b6",
   "metadata": {},
   "outputs": [
    {
     "name": "stdout",
     "output_type": "stream",
     "text": [
      "data type before : <class 'int'>,value of A: 0\n",
      "data type after:<class 'bool'>,value of A: False\n"
     ]
    }
   ],
   "source": [
    "# integer to boolean\n",
    "A= 0\n",
    "print(f\"data type before : {type(A)},value of A: {A}\")\n",
    "A= bool(A) \n",
    "print(f\"data type after:{type(A)},value of A: {A}\")"
   ]
  },
  {
   "cell_type": "code",
   "execution_count": 17,
   "id": "83cf336e",
   "metadata": {
    "scrolled": true
   },
   "outputs": [
    {
     "name": "stdout",
     "output_type": "stream",
     "text": [
      "data type before : <class 'int'>,value of A: -5\n",
      "data type after:<class 'bool'>,value of A: True\n"
     ]
    }
   ],
   "source": [
    "# integer to boolean\n",
    "A= -5\n",
    "print(f\"data type before : {type(A)},value of A: {A}\")\n",
    "A= bool(A) \n",
    "print(f\"data type after:{type(A)},value of A: {A}\")"
   ]
  },
  {
   "cell_type": "code",
   "execution_count": null,
   "id": "91ec9f34",
   "metadata": {},
   "outputs": [],
   "source": [
    "# Converting  any non Zero number and string values into boolean will give TRUE  as an answer\n",
    " # Empty string will give FALSE as an answer after converting string into boolean"
   ]
  },
  {
   "cell_type": "code",
   "execution_count": 18,
   "id": "e6a62313",
   "metadata": {},
   "outputs": [
    {
     "name": "stdout",
     "output_type": "stream",
     "text": [
      "data type before : <class 'str'>,value of A: Sunny\n",
      "data type after:<class 'bool'>,value of A: True\n"
     ]
    }
   ],
   "source": [
    "# string  to boolean\n",
    "A= \"Sunny\"\n",
    "print(f\"data type before : {type(A)},value of A: {A}\")\n",
    "A= bool(A) \n",
    "print(f\"data type after:{type(A)},value of A: {A}\")"
   ]
  },
  {
   "cell_type": "code",
   "execution_count": 19,
   "id": "1378ca21",
   "metadata": {},
   "outputs": [
    {
     "name": "stdout",
     "output_type": "stream",
     "text": [
      "data type before : <class 'str'>,value of A: True\n",
      "data type after:<class 'bool'>,value of A: True\n"
     ]
    }
   ],
   "source": [
    "# string  to boolean\n",
    "A= \"True\"\n",
    "print(f\"data type before : {type(A)},value of A: {A}\")\n",
    "A= bool(A) \n",
    "print(f\"data type after:{type(A)},value of A: {A}\")"
   ]
  },
  {
   "cell_type": "code",
   "execution_count": 20,
   "id": "6063ce9a",
   "metadata": {},
   "outputs": [
    {
     "name": "stdout",
     "output_type": "stream",
     "text": [
      "data type before : <class 'str'>,value of A: False\n",
      "data type after:<class 'bool'>,value of A: True\n"
     ]
    }
   ],
   "source": [
    "# string  to boolean\n",
    "A= \"False\"\n",
    "print(f\"data type before : {type(A)},value of A: {A}\")\n",
    "A= bool(A) \n",
    "print(f\"data type after:{type(A)},value of A: {A}\")"
   ]
  },
  {
   "cell_type": "code",
   "execution_count": 21,
   "id": "757f5d9f",
   "metadata": {},
   "outputs": [
    {
     "name": "stdout",
     "output_type": "stream",
     "text": [
      "data type before : <class 'str'>,value of A: \n",
      "data type after:<class 'bool'>,value of A: False\n"
     ]
    }
   ],
   "source": [
    "# empty string  to boolean\n",
    "A= \"\"\n",
    "print(f\"data type before : {type(A)},value of A: {A}\")\n",
    "A= bool(A) \n",
    "print(f\"data type after:{type(A)},value of A: {A}\")"
   ]
  },
  {
   "cell_type": "code",
   "execution_count": 22,
   "id": "faa728a4",
   "metadata": {},
   "outputs": [
    {
     "name": "stdout",
     "output_type": "stream",
     "text": [
      "data type before : <class 'str'>,value of A: \n"
     ]
    },
    {
     "ename": "ValueError",
     "evalue": "invalid literal for int() with base 10: ''",
     "output_type": "error",
     "traceback": [
      "\u001b[1;31m---------------------------------------------------------------------------\u001b[0m",
      "\u001b[1;31mValueError\u001b[0m                                Traceback (most recent call last)",
      "Input \u001b[1;32mIn [22]\u001b[0m, in \u001b[0;36m<cell line: 4>\u001b[1;34m()\u001b[0m\n\u001b[0;32m      2\u001b[0m A\u001b[38;5;241m=\u001b[39m \u001b[38;5;124m\"\u001b[39m\u001b[38;5;124m\"\u001b[39m\n\u001b[0;32m      3\u001b[0m \u001b[38;5;28mprint\u001b[39m(\u001b[38;5;124mf\u001b[39m\u001b[38;5;124m\"\u001b[39m\u001b[38;5;124mdata type before : \u001b[39m\u001b[38;5;132;01m{\u001b[39;00m\u001b[38;5;28mtype\u001b[39m(A)\u001b[38;5;132;01m}\u001b[39;00m\u001b[38;5;124m,value of A: \u001b[39m\u001b[38;5;132;01m{\u001b[39;00mA\u001b[38;5;132;01m}\u001b[39;00m\u001b[38;5;124m\"\u001b[39m)\n\u001b[1;32m----> 4\u001b[0m A\u001b[38;5;241m=\u001b[39m \u001b[38;5;28;43mint\u001b[39;49m\u001b[43m(\u001b[49m\u001b[43mA\u001b[49m\u001b[43m)\u001b[49m \n\u001b[0;32m      5\u001b[0m \u001b[38;5;28mprint\u001b[39m(\u001b[38;5;124mf\u001b[39m\u001b[38;5;124m\"\u001b[39m\u001b[38;5;124mdata type after:\u001b[39m\u001b[38;5;132;01m{\u001b[39;00m\u001b[38;5;28mtype\u001b[39m(A)\u001b[38;5;132;01m}\u001b[39;00m\u001b[38;5;124m,value of A: \u001b[39m\u001b[38;5;132;01m{\u001b[39;00mA\u001b[38;5;132;01m}\u001b[39;00m\u001b[38;5;124m\"\u001b[39m)\n",
      "\u001b[1;31mValueError\u001b[0m: invalid literal for int() with base 10: ''"
     ]
    }
   ],
   "source": [
    "# empty string  to integer\n",
    "A= \"\"\n",
    "print(f\"data type before : {type(A)},value of A: {A}\")\n",
    "A= int(A) \n",
    "print(f\"data type after:{type(A)},value of A: {A}\")"
   ]
  },
  {
   "cell_type": "code",
   "execution_count": 44,
   "id": "d8b2099d",
   "metadata": {},
   "outputs": [
    {
     "name": "stdout",
     "output_type": "stream",
     "text": [
      "Entervalue of A : 10\n",
      "Enter value of B: 10.2\n"
     ]
    },
    {
     "ename": "ValueError",
     "evalue": "invalid literal for int() with base 10: '10.2'",
     "output_type": "error",
     "traceback": [
      "\u001b[1;31m---------------------------------------------------------------------------\u001b[0m",
      "\u001b[1;31mValueError\u001b[0m                                Traceback (most recent call last)",
      "Input \u001b[1;32mIn [44]\u001b[0m, in \u001b[0;36m<cell line: 2>\u001b[1;34m()\u001b[0m\n\u001b[0;32m      1\u001b[0m A\u001b[38;5;241m=\u001b[39m \u001b[38;5;28mint\u001b[39m(\u001b[38;5;28minput\u001b[39m(\u001b[38;5;124m\"\u001b[39m\u001b[38;5;124mEntervalue of A : \u001b[39m\u001b[38;5;124m\"\u001b[39m))\n\u001b[1;32m----> 2\u001b[0m B\u001b[38;5;241m=\u001b[39m\u001b[38;5;28;43mint\u001b[39;49m\u001b[43m(\u001b[49m\u001b[38;5;28;43minput\u001b[39;49m\u001b[43m(\u001b[49m\u001b[38;5;124;43m\"\u001b[39;49m\u001b[38;5;124;43mEnter value of B: \u001b[39;49m\u001b[38;5;124;43m\"\u001b[39;49m\u001b[43m)\u001b[49m\u001b[43m)\u001b[49m\n\u001b[0;32m      3\u001b[0m \u001b[38;5;28mprint\u001b[39m(\u001b[38;5;28mtype\u001b[39m(A),\u001b[38;5;28mtype\u001b[39m(B))\n\u001b[0;32m      4\u001b[0m \u001b[38;5;28mprint\u001b[39m(\u001b[38;5;124mf\u001b[39m\u001b[38;5;124m\"\u001b[39m\u001b[38;5;124mSum of A & B is : \u001b[39m\u001b[38;5;132;01m{\u001b[39;00mA\u001b[38;5;241m+\u001b[39mB\u001b[38;5;132;01m}\u001b[39;00m\u001b[38;5;124m\"\u001b[39m)\n",
      "\u001b[1;31mValueError\u001b[0m: invalid literal for int() with base 10: '10.2'"
     ]
    }
   ],
   "source": [
    "A= int(input(\"Entervalue of A : \"))\n",
    "B=int(input(\"Enter value of B: \")) # 10.2 is float but not converting to integer\n",
    "print(type(A),type(B))\n",
    "print(f\"Sum of A & B is : {A+B}\")"
   ]
  },
  {
   "cell_type": "code",
   "execution_count": 46,
   "id": "e142eb30",
   "metadata": {},
   "outputs": [
    {
     "name": "stdout",
     "output_type": "stream",
     "text": [
      "data type before : <class 'str'>,value of A:  \n",
      "data type after:<class 'bool'>,value of A: True\n"
     ]
    }
   ],
   "source": [
    "# empty string  to boolean\n",
    "A= \" \"\n",
    "print(f\"data type before : {type(A)},value of A: {A}\")\n",
    "A= bool(A) \n",
    "print(f\"data type after:{type(A)},value of A: {A}\")"
   ]
  },
  {
   "cell_type": "markdown",
   "id": "cff7abf1",
   "metadata": {},
   "source": [
    "# Memory Block"
   ]
  },
  {
   "cell_type": "code",
   "execution_count": 47,
   "id": "54f80ce5",
   "metadata": {},
   "outputs": [],
   "source": [
    "a=22\n",
    "b=34\n",
    "c=22"
   ]
  },
  {
   "cell_type": "code",
   "execution_count": 48,
   "id": "7f47d118",
   "metadata": {},
   "outputs": [
    {
     "data": {
      "text/plain": [
       "1672039656400"
      ]
     },
     "execution_count": 48,
     "metadata": {},
     "output_type": "execute_result"
    }
   ],
   "source": [
    "id(a)"
   ]
  },
  {
   "cell_type": "code",
   "execution_count": 49,
   "id": "640daac2",
   "metadata": {},
   "outputs": [
    {
     "data": {
      "text/plain": [
       "1672039656784"
      ]
     },
     "execution_count": 49,
     "metadata": {},
     "output_type": "execute_result"
    }
   ],
   "source": [
    "id(b)"
   ]
  },
  {
   "cell_type": "code",
   "execution_count": 50,
   "id": "1109a955",
   "metadata": {},
   "outputs": [
    {
     "data": {
      "text/plain": [
       "1672039656400"
      ]
     },
     "execution_count": 50,
     "metadata": {},
     "output_type": "execute_result"
    }
   ],
   "source": [
    "id(c)"
   ]
  },
  {
   "cell_type": "code",
   "execution_count": 52,
   "id": "a2868573",
   "metadata": {},
   "outputs": [],
   "source": [
    "c=22+b\n"
   ]
  },
  {
   "cell_type": "code",
   "execution_count": 53,
   "id": "6eac1748",
   "metadata": {},
   "outputs": [
    {
     "data": {
      "text/plain": [
       "1672039845968"
      ]
     },
     "execution_count": 53,
     "metadata": {},
     "output_type": "execute_result"
    }
   ],
   "source": [
    "id(c)"
   ]
  },
  {
   "cell_type": "code",
   "execution_count": 54,
   "id": "9a58af15",
   "metadata": {},
   "outputs": [
    {
     "data": {
      "text/plain": [
       "1672039656400"
      ]
     },
     "execution_count": 54,
     "metadata": {},
     "output_type": "execute_result"
    }
   ],
   "source": [
    "a=22\n",
    "id(a)"
   ]
  },
  {
   "cell_type": "code",
   "execution_count": 55,
   "id": "7cff03e9",
   "metadata": {},
   "outputs": [
    {
     "data": {
      "text/plain": [
       "1672039847344"
      ]
     },
     "execution_count": 55,
     "metadata": {},
     "output_type": "execute_result"
    }
   ],
   "source": [
    "a=99\n",
    "id(a)"
   ]
  },
  {
   "cell_type": "code",
   "execution_count": 56,
   "id": "70a2609b",
   "metadata": {},
   "outputs": [],
   "source": [
    "# Memory is assigned to the value of variable passed not the variable name"
   ]
  },
  {
   "cell_type": "code",
   "execution_count": 57,
   "id": "d0841640",
   "metadata": {},
   "outputs": [
    {
     "name": "stdout",
     "output_type": "stream",
     "text": [
      "1672039656400 1672039656784 1672039656400\n"
     ]
    }
   ],
   "source": [
    "a=22\n",
    "b=34\n",
    "c=22\n",
    "\n",
    "print(id(a),id(b),id(c))"
   ]
  },
  {
   "cell_type": "code",
   "execution_count": 58,
   "id": "4ae40c67",
   "metadata": {},
   "outputs": [
    {
     "name": "stdout",
     "output_type": "stream",
     "text": [
      "1672151119728 1672039656784 1672151119728\n"
     ]
    }
   ],
   "source": [
    "a=\"Sunny\"\n",
    "b=34\n",
    "c=\"Sunny\"\n",
    "\n",
    "print(id(a),id(b),id(c))"
   ]
  },
  {
   "cell_type": "code",
   "execution_count": 59,
   "id": "f05324d9",
   "metadata": {},
   "outputs": [
    {
     "name": "stdout",
     "output_type": "stream",
     "text": [
      "1672039656400 1672039657360 1672039656400\n"
     ]
    }
   ],
   "source": [
    "a,b,c=22,52,22\n",
    "\n",
    "print(id(a),id(b),id(c))"
   ]
  },
  {
   "cell_type": "code",
   "execution_count": 60,
   "id": "dfc92d63",
   "metadata": {},
   "outputs": [
    {
     "name": "stdout",
     "output_type": "stream",
     "text": [
      "1672042067760 1672039656784 1672042067760\n"
     ]
    }
   ],
   "source": [
    "a=\"S\"\n",
    "b=34\n",
    "c=\"S\"\n",
    "\n",
    "print(id(a),id(b),id(c))"
   ]
  },
  {
   "cell_type": "code",
   "execution_count": 61,
   "id": "47f8fcb0",
   "metadata": {},
   "outputs": [
    {
     "name": "stdout",
     "output_type": "stream",
     "text": [
      "1672039656400 1672039656784 1672151933104\n"
     ]
    }
   ],
   "source": [
    "a=22\n",
    "b=34\n",
    "c=22.0\n",
    "\n",
    "print(id(a),id(b),id(c))"
   ]
  },
  {
   "cell_type": "code",
   "execution_count": null,
   "id": "df57e125",
   "metadata": {},
   "outputs": [],
   "source": [
    "# Assignment-\n",
    "## send the mail to \n",
    "To: query@ineuron.ai\n",
    "CC: sunny@ineuron.ai, riishav@ineuron.ai\n",
    "Subject: [Bootcamp 2.0 | Assignment No-1]\n",
    "    1. Find out all the types of error that we have encountered in our lecture and why?\n",
    "    2.Take input A and B and print their sum ,mul,div,square of the nos.\n",
    "    3. How many reserve keywords are there in python and why we should not use them as a variable name.\n",
    "    4. Create email ids with the user inputs. in the following format-\n",
    "       <lastname>.<firstname>@gmail.com\n",
    "    5. Try to print the following lines-\n",
    "       - Hi I'm Sunny\n",
    "        - My address is 22/3\n",
    "        - I earn 20$ daily\n",
    "    6. Take user input (name,date of birth etc ) to fill a form for your college and print their email IDs.\n",
    "    7. Convert the folllowing-\n",
    "       - \"22.4\" into integer\n",
    "        - \"22\" into complex no\n",
    "        - \n",
    "    "
   ]
  }
 ],
 "metadata": {
  "kernelspec": {
   "display_name": "Python 3 (ipykernel)",
   "language": "python",
   "name": "python3"
  },
  "language_info": {
   "codemirror_mode": {
    "name": "ipython",
    "version": 3
   },
   "file_extension": ".py",
   "mimetype": "text/x-python",
   "name": "python",
   "nbconvert_exporter": "python",
   "pygments_lexer": "ipython3",
   "version": "3.9.12"
  }
 },
 "nbformat": 4,
 "nbformat_minor": 5
}
